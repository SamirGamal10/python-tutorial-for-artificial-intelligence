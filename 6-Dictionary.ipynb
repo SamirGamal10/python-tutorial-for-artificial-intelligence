{
 "cells": [
  {
   "cell_type": "markdown",
   "metadata": {},
   "source": [
    "# lesson 6 Dictionaries"
   ]
  },
  {
   "cell_type": "markdown",
   "metadata": {},
   "source": [
    "## Dictionary"
   ]
  },
  {
   "cell_type": "code",
   "execution_count": 1,
   "metadata": {},
   "outputs": [
    {
     "name": "stdout",
     "output_type": "stream",
     "text": [
      "{'model': 'bmw', 'salary': 1.0, 'eng': '5cc'}\n"
     ]
    }
   ],
   "source": [
    "#  dictionary\n",
    "#  Create dictionary &  dictionary value add differint type of data & dictionary key must be hashabale String or int\n",
    "car={\n",
    "    'model':'bmw',\n",
    "    'salary':1.000000,\n",
    "    'eng':'5cc',\n",
    "}\n",
    "print(car)"
   ]
  },
  {
   "cell_type": "code",
   "execution_count": 2,
   "metadata": {},
   "outputs": [
    {
     "name": "stdout",
     "output_type": "stream",
     "text": [
      "{'model': 'bmw', 'salary': 1.0, 'eng': '5cc'}\n",
      "{'model': 'bmw', 'salary': 1.0, 'eng': '7cc'}\n",
      "3\n",
      "{'model': 'bmw', 'salary': 1.0, 'eng': '7cc'}\n",
      "bmw\n",
      "5cc\n",
      "dict_keys(['model', 'salary', 'eng'])\n",
      "dict_values(['bmw', 1.0, '5cc'])\n",
      "dict_items([('model', 'bmw'), ('salary', 1.0), ('eng', '5cc')])\n",
      "{'model': 'bmw', 'salary': 1.0, 'eng': '5cc', 'color': 'orange'}\n",
      "{'model': 'bmw', 'salary': 1.0, 'eng': '5cc', 'color': 'orange', 'sets': 7}\n",
      "{'model': 'marsedes', 'salary': 1.0, 'eng': '5cc', 'color': 'orange', 'sets': 7}\n",
      "{'salary': 1.0, 'eng': '5cc', 'color': 'orange', 'sets': 7}\n",
      "{'salary': 1.0, 'eng': '5cc', 'color': 'orange'}\n",
      "{}\n",
      "{'salary': 1.0, 'eng': '5cc'}\n",
      "{'model': 'bmw', 'salary': 1.0, 'eng': '7cc'}\n",
      "{}\n",
      "{'child1': {'name': 'samir', 'age': 24, 'email': 'sami@gmail.com'}, 'child2': {'name': 'gamal', 'age': 12, 'email': 'gamal@gmail.com'}, 'child3': {'name': 'hassan', 'age': 13, 'email': 'hassan@gmail.com'}}\n",
      "{'name': 'samir', 'age': 24, 'email': 'sami@gmail.com'}\n",
      "{'model': {}, 'salary': {}, 'eng': {}}\n",
      "{'model': 'bmw', 'salary': {}, 'eng': {}}\n",
      "True\n",
      "True\n",
      "dict_items([('model', 'bmw'), ('salary', 1.0), ('eng', '5cc')])\n",
      "True\n"
     ]
    }
   ],
   "source": [
    "#  Duplicates Not & what rong if add to item identy\n",
    "car1={\n",
    "    'model':'bmw',\n",
    "    'salary':1.000000,\n",
    "    'eng':'5cc',\n",
    "    'eng':'5cc'\n",
    "}\n",
    "print(car1)\n",
    "car2={\n",
    "    'model':'bmw',\n",
    "    'salary':1.000000,\n",
    "    'eng':'5cc',\n",
    "    'eng':'7cc'\n",
    "}\n",
    "print(car2)"
   ]
  },
  {
   "cell_type": "code",
   "execution_count": 3,
   "metadata": {},
   "outputs": [
    {
     "name": "stdout",
     "output_type": "stream",
     "text": [
      "0\n"
     ]
    }
   ],
   "source": [
    "#  Dictionary Length\n",
    "print(len(car))"
   ]
  },
  {
   "cell_type": "code",
   "execution_count": null,
   "metadata": {},
   "outputs": [],
   "source": [
    "#  Constructor\n",
    "car4=dict({'model':'bmw',\n",
    "    'salary':1.000000,\n",
    "    'eng':'5cc',\n",
    "    'eng':'7cc'})\n",
    "print(car4)"
   ]
  },
  {
   "cell_type": "code",
   "execution_count": null,
   "metadata": {},
   "outputs": [],
   "source": [
    "#  Access\n",
    "print(car['model'])\n",
    "print(car['eng'])"
   ]
  },
  {
   "cell_type": "code",
   "execution_count": null,
   "metadata": {},
   "outputs": [],
   "source": [
    "#  Get keys and Get value and items\n",
    "print(car.keys())\n",
    "print(car.values())\n",
    "print(car.items())"
   ]
  },
  {
   "cell_type": "code",
   "execution_count": null,
   "metadata": {},
   "outputs": [],
   "source": [
    "#  add to Dictinary\n",
    "car['color']='orange'\n",
    "print(car)"
   ]
  },
  {
   "cell_type": "code",
   "execution_count": null,
   "metadata": {},
   "outputs": [],
   "source": [
    "# Update\n",
    "car.update({'sets':7})\n",
    "print(car)"
   ]
  },
  {
   "cell_type": "code",
   "execution_count": null,
   "metadata": {},
   "outputs": [],
   "source": [
    "#  edit item in Dictinary\n",
    "car['model']='marsedes'\n",
    "print(car)"
   ]
  },
  {
   "cell_type": "code",
   "execution_count": null,
   "metadata": {},
   "outputs": [],
   "source": [
    "#  pop index\n",
    "car.pop('model')\n",
    "print(car)"
   ]
  },
  {
   "cell_type": "code",
   "execution_count": null,
   "metadata": {},
   "outputs": [],
   "source": [
    "#  pop item\n",
    "car.popitem()\n",
    "print(car)"
   ]
  },
  {
   "cell_type": "code",
   "execution_count": null,
   "metadata": {},
   "outputs": [],
   "source": [
    "# clear\n",
    "car.clear()\n",
    "print(car)"
   ]
  },
  {
   "cell_type": "code",
   "execution_count": null,
   "metadata": {},
   "outputs": [],
   "source": [
    "#  delete \n",
    "del car1['model']\n",
    "print(car1)\n",
    "del car1"
   ]
  },
  {
   "cell_type": "code",
   "execution_count": null,
   "metadata": {},
   "outputs": [],
   "source": [
    "#  Copy a Dictionary\n",
    "newCar=car2.copy()\n",
    "newCar.clear()\n",
    "print(car2)\n",
    "print(newCar)"
   ]
  },
  {
   "cell_type": "code",
   "execution_count": null,
   "metadata": {},
   "outputs": [],
   "source": [
    "#  Nested Dictionaries\n",
    "classRoom={\n",
    "    'child1':{\n",
    "        'name':'samir',\n",
    "        'age':24,\n",
    "        'email':'sami@gmail.com',\n",
    "    },\n",
    "    'child2':{\n",
    "        'name':'gamal',\n",
    "        'age':12,\n",
    "        'email':'gamal@gmail.com',\n",
    "    },\n",
    "    'child3':{\n",
    "        'name':'hassan',\n",
    "        'age':13,\n",
    "        'email':'hassan@gmail.com',\n",
    "    },\n",
    "}\n",
    "print(classRoom)\n",
    "print(classRoom['child1'])"
   ]
  },
  {
   "cell_type": "code",
   "execution_count": null,
   "metadata": {},
   "outputs": [],
   "source": [
    "#  make Dictinary value empty and add\n",
    "car5={\n",
    "    'model':{},\n",
    "    'salary':{},\n",
    "    'eng':{},\n",
    "}\n",
    "print(car5)\n",
    "car5['model']='bmw'\n",
    "print(car5)"
   ]
  },
  {
   "cell_type": "code",
   "execution_count": null,
   "metadata": {},
   "outputs": [],
   "source": [
    "#  check number or item in Dictinary or not\n",
    "car0={\n",
    "    'model':'bmw',\n",
    "    'salary':1.000000,\n",
    "    'eng':'5cc',\n",
    "}\n",
    "print('5cc' in car0.values())\n",
    "print('model' in car0.keys())\n",
    "print(car0.items())\n",
    "print('model' in car0)"
   ]
  }
 ],
 "metadata": {
  "kernelspec": {
   "display_name": "Python 3",
   "language": "python",
   "name": "python3"
  },
  "language_info": {
   "codemirror_mode": {
    "name": "ipython",
    "version": 3
   },
   "file_extension": ".py",
   "mimetype": "text/x-python",
   "name": "python",
   "nbconvert_exporter": "python",
   "pygments_lexer": "ipython3",
   "version": "3.12.8"
  }
 },
 "nbformat": 4,
 "nbformat_minor": 2
}
