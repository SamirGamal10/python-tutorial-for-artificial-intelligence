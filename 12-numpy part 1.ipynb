{
 "cells": [
  {
   "cell_type": "markdown",
   "metadata": {},
   "source": [
    "# lesson 12 numpy part 1"
   ]
  },
  {
   "cell_type": "code",
   "execution_count": 2,
   "metadata": {},
   "outputs": [],
   "source": [
    "import numpy as np"
   ]
  },
  {
   "cell_type": "code",
   "execution_count": 3,
   "metadata": {},
   "outputs": [
    {
     "name": "stdout",
     "output_type": "stream",
     "text": [
      "-0.9880316240928618 0.15425144988758405 -6.405331196646276\n"
     ]
    }
   ],
   "source": [
    "# radians\n",
    "a = np.sin(30)\n",
    "b = np.cos(30)\n",
    "c = np.tan(30)\n",
    "print(a , b , c)"
   ]
  },
  {
   "cell_type": "code",
   "execution_count": 4,
   "metadata": {},
   "outputs": [
    {
     "name": "stdout",
     "output_type": "stream",
     "text": [
      "0.49999999999999994\n",
      "0.8660254037844387\n",
      "0.5773502691896257\n"
     ]
    }
   ],
   "source": [
    "# degree\n",
    "a = np.sin(30*np.pi/180)\n",
    "b = np.cos(30*np.pi/180)\n",
    "c = np.tan(30*np.pi/180)\n",
    "print(a)\n",
    "print(b)\n",
    "print(c)"
   ]
  },
  {
   "cell_type": "code",
   "execution_count": 5,
   "metadata": {},
   "outputs": [
    {
     "ename": "NameError",
     "evalue": "name 'deg2rad' is not defined",
     "output_type": "error",
     "traceback": [
      "\u001b[1;31m---------------------------------------------------------------------------\u001b[0m",
      "\u001b[1;31mNameError\u001b[0m                                 Traceback (most recent call last)",
      "Cell \u001b[1;32mIn[5], line 1\u001b[0m\n\u001b[1;32m----> 1\u001b[0m a \u001b[38;5;241m=\u001b[39m np\u001b[38;5;241m.\u001b[39msin(\u001b[43mdeg2rad\u001b[49m(\u001b[38;5;241m30\u001b[39m))\n\u001b[0;32m      2\u001b[0m b \u001b[38;5;241m=\u001b[39m np\u001b[38;5;241m.\u001b[39mcos(deg2rad(\u001b[38;5;241m30\u001b[39m))\n\u001b[0;32m      3\u001b[0m c \u001b[38;5;241m=\u001b[39m np\u001b[38;5;241m.\u001b[39mtan(deg2rad(\u001b[38;5;241m30\u001b[39m))\n",
      "\u001b[1;31mNameError\u001b[0m: name 'deg2rad' is not defined"
     ]
    }
   ],
   "source": [
    "a = np.sin(deg2rad(30))\n",
    "b = np.cos(deg2rad(30))\n",
    "c = np.tan(deg2rad(30))\n",
    "print(a)\n",
    "print(b)\n",
    "print(c)\n",
    "\n",
    "\n"
   ]
  },
  {
   "cell_type": "code",
   "execution_count": null,
   "metadata": {},
   "outputs": [],
   "source": [
    "# round\n",
    "a = np.round(3.68528)\n",
    "b = np.round(3.68528,1)\n",
    "c = np.round(3.68528,2)\n",
    "d = np.round(3.68528,3)\n",
    "e = np.round(3.68528,4)\n",
    "print(a)\n",
    "print(b)\n",
    "print(c)\n",
    "print(d)\n",
    "print(e)"
   ]
  },
  {
   "cell_type": "code",
   "execution_count": null,
   "metadata": {},
   "outputs": [],
   "source": [
    "# floor\n",
    "a = np.floor(3.68528)\n",
    "print(a)"
   ]
  },
  {
   "cell_type": "code",
   "execution_count": null,
   "metadata": {},
   "outputs": [],
   "source": [
    "# ceil\n",
    "a = np.ceil(3.68528)\n",
    "print(a)"
   ]
  },
  {
   "cell_type": "code",
   "execution_count": null,
   "metadata": {},
   "outputs": [],
   "source": [
    "# mod   %\n",
    "a = np.mod(20,7)\n",
    "print(a)"
   ]
  },
  {
   "cell_type": "code",
   "execution_count": null,
   "metadata": {},
   "outputs": [],
   "source": [
    "# power  **\n",
    "b = np.power(2,5)\n",
    "print(b)"
   ]
  },
  {
   "cell_type": "code",
   "execution_count": null,
   "metadata": {},
   "outputs": [],
   "source": [
    "# transform list to array \n",
    "a = [2,3,6,5,4,7,8]\n",
    "b = np.array(a)\n",
    "print(a)\n",
    "print(b)"
   ]
  },
  {
   "cell_type": "code",
   "execution_count": null,
   "metadata": {},
   "outputs": [],
   "source": [
    "# array in range\n",
    "a = np.array([range(i, i + 3) for i in [2, 4, 6]])\n",
    "print(a)"
   ]
  },
  {
   "cell_type": "code",
   "execution_count": null,
   "metadata": {},
   "outputs": [],
   "source": [
    "# can define varable after write\n",
    "a = np.array([('x',3,4.2),('y',4,5.3),('z',5,6.3)])\n",
    "print(a)\n",
    "print('---------------------------------------------------------')\n",
    "b=np.array([('x',3,4.2),('y',4,5.3),('z',5,6.3)],dtype =[('name','U5'),('number','i2'),('value','f4')])\n",
    "print(b)"
   ]
  },
  {
   "cell_type": "code",
   "execution_count": null,
   "metadata": {},
   "outputs": [],
   "source": [
    "# 2D array\n",
    "a = [[1,2,3],[5,3,6],[9,6,5]]\n",
    "b = np.array(a)\n",
    "print(b)"
   ]
  },
  {
   "cell_type": "code",
   "execution_count": null,
   "metadata": {},
   "outputs": [],
   "source": [
    "# empty array from 2 Row and 3 columns\n",
    "a = np.empty((3,2))\n",
    "print(a)"
   ]
  },
  {
   "cell_type": "code",
   "execution_count": null,
   "metadata": {},
   "outputs": [],
   "source": [
    "# uniform make random values in range\n",
    "a = np.random.uniform(1,10)\n",
    "print(a)"
   ]
  },
  {
   "cell_type": "code",
   "execution_count": null,
   "metadata": {},
   "outputs": [],
   "source": [
    "# uniform make random values in range and number of random value\n",
    "b = np.random.uniform(1,10,20)\n",
    "print(b)"
   ]
  },
  {
   "cell_type": "code",
   "execution_count": null,
   "metadata": {},
   "outputs": [],
   "source": [
    "# rondom array from between 0 and 1\n",
    "a =np.random.random((2,3))\n",
    "print(a)"
   ]
  },
  {
   "cell_type": "code",
   "execution_count": null,
   "metadata": {},
   "outputs": [],
   "source": [
    "# 10 numbers: 1 to 10\n",
    "a =np.random.normal(0,1,10)\n",
    "print(a)"
   ]
  },
  {
   "cell_type": "code",
   "execution_count": null,
   "metadata": {},
   "outputs": [],
   "source": [
    "# random number between 0:150\n",
    "a = np.random.randint(150)\n",
    "print(a)"
   ]
  },
  {
   "cell_type": "code",
   "execution_count": null,
   "metadata": {},
   "outputs": [],
   "source": [
    "# 7 random number between 0:5\n",
    "a =np.random.randint(5, size=7)\n",
    "print(a)"
   ]
  },
  {
   "cell_type": "code",
   "execution_count": null,
   "metadata": {},
   "outputs": [],
   "source": [
    "# 7 random number between 5:20\n",
    "a =np.random.randint(5,20, size=7)\n",
    "print(a)"
   ]
  },
  {
   "cell_type": "code",
   "execution_count": null,
   "metadata": {},
   "outputs": [],
   "source": [
    "# make array 3*3 with random number between 0:10\n",
    "a = np.random.randint(0, 10, (3, 3))\n",
    "print(a)"
   ]
  },
  {
   "cell_type": "code",
   "execution_count": null,
   "metadata": {},
   "outputs": [],
   "source": [
    "# 3D\n",
    "a = np.random.randint(5,10, size=(3, 4, 5))\n",
    "print(a)"
   ]
  },
  {
   "cell_type": "code",
   "execution_count": null,
   "metadata": {},
   "outputs": [],
   "source": [
    "# make 25 random number between 1:60\n",
    "a = np.random.randint(1,60,25)\n",
    "print(a)\n",
    "print('-------------------------------------')\n",
    "# reshape 25 random to array from 5*5\n",
    "b = np.reshape(a,(5,5))\n",
    "print(b)"
   ]
  },
  {
   "cell_type": "code",
   "execution_count": null,
   "metadata": {},
   "outputs": [],
   "source": [
    "# 15 random number between 0:1\n",
    "a = np.random.rand(15)\n",
    "print(a)"
   ]
  },
  {
   "cell_type": "code",
   "execution_count": null,
   "metadata": {},
   "outputs": [],
   "source": [
    "# make random 2D array\n",
    "a = np.random.rand(5,3)\n",
    "print(a)"
   ]
  },
  {
   "cell_type": "code",
   "execution_count": null,
   "metadata": {},
   "outputs": [],
   "source": [
    "# make random 3D array\n",
    "a = np.random.rand(5,3,2)\n",
    "print(a)"
   ]
  },
  {
   "cell_type": "code",
   "execution_count": null,
   "metadata": {},
   "outputs": [],
   "source": [
    "# choice random number from list\n",
    "y=[1,2,3,6,8,5,4,7,8,9,6,5,9,6]\n",
    "a = np.random.choice(y)\n",
    "print(a)"
   ]
  },
  {
   "cell_type": "code",
   "execution_count": null,
   "metadata": {},
   "outputs": [],
   "source": [
    "# choice more random number from list\n",
    "y=[1,2,3,6,8,5,4,7,8,9,6,5,9,6]\n",
    "a = np.random.choice(y,size=5)\n",
    "print(a)"
   ]
  },
  {
   "cell_type": "code",
   "execution_count": null,
   "metadata": {},
   "outputs": [],
   "source": [
    "# make random shuffl in list\n",
    "y=[1,2,3,6,8,5,4,7,8,9,6,5,9,6]\n",
    "print(y)\n",
    "np.random.shuffle(y)\n",
    "print(y)"
   ]
  },
  {
   "cell_type": "code",
   "execution_count": null,
   "metadata": {},
   "outputs": [],
   "source": [
    "# make array 1D from zero or one\n",
    "a = np.zeros(8)\n",
    "b = np.ones(10)\n",
    "print(a)\n",
    "print(b)"
   ]
  },
  {
   "cell_type": "code",
   "execution_count": null,
   "metadata": {},
   "outputs": [],
   "source": [
    "# make array 2D from zero or one\n",
    "a = np.zeros((3,5))\n",
    "b = np.ones((6,8))\n",
    "print(a)\n",
    "print(b)"
   ]
  },
  {
   "cell_type": "code",
   "execution_count": null,
   "metadata": {},
   "outputs": [],
   "source": [
    "# make array 3D from zero or one\n",
    "a = np.zeros((2,3,2))\n",
    "b = np.ones((2,3,2))\n",
    "print(a)\n",
    "print(b)"
   ]
  },
  {
   "cell_type": "code",
   "execution_count": null,
   "metadata": {},
   "outputs": [],
   "source": [
    "# Identity matrix\n",
    "a = np.eye(5)\n",
    "print(a)"
   ]
  },
  {
   "cell_type": "code",
   "execution_count": null,
   "metadata": {},
   "outputs": [],
   "source": [
    "# make array from 3*5 and full all array with 35\n",
    "a = np.full((3, 5), 35)\n",
    "print(a)"
   ]
  },
  {
   "cell_type": "code",
   "execution_count": null,
   "metadata": {},
   "outputs": [],
   "source": [
    "# make array from range 0:18 and reshape to 2D array\n",
    "a =np.arange(18).reshape(3,6)\n",
    "print(a)"
   ]
  },
  {
   "cell_type": "code",
   "execution_count": null,
   "metadata": {},
   "outputs": [],
   "source": [
    "# make array from range 0:27 and reshape to 3D array\n",
    "b =np.arange(27).reshape(3,3,3)\n",
    "print(b)"
   ]
  },
  {
   "cell_type": "code",
   "execution_count": null,
   "metadata": {},
   "outputs": [],
   "source": [
    "# To write numbers that are evenly distributed between two digits\n",
    "b =np.linspace(0,30)\n",
    "print(b)\n",
    "print('------------------------------------')\n",
    "# To write 5 numbers that are evenly distributed\n",
    "c =np.linspace(0,100,5)\n",
    "print(c)"
   ]
  },
  {
   "cell_type": "code",
   "execution_count": null,
   "metadata": {},
   "outputs": [],
   "source": [
    "# to transform 12 number are evenly distributed between 0:30 to array from 3*4\n",
    "b =np.linspace(0,30,12).reshape(3,4)\n",
    "print(b)\n",
    "print('------------------------------------')\n",
    "# to transform 27 number are evenly distributed between 0:100 to array from 3*3*4\n",
    "c =np.linspace(0,100,27).reshape(3,3,3)\n",
    "print(c)"
   ]
  },
  {
   "cell_type": "code",
   "execution_count": null,
   "metadata": {},
   "outputs": [],
   "source": [
    "# Diagonal Matrix\n",
    "a =np.diag(np.array([5,12,4,-1,3]))\n",
    "b =np.diag(np.array([5,12,4,-1,3]),k=3)\n",
    "print(a)\n",
    "print('------------------------------------')\n",
    "print(b)"
   ]
  },
  {
   "cell_type": "code",
   "execution_count": null,
   "metadata": {},
   "outputs": [],
   "source": [
    "# make array from 3*3 between 0:10\n",
    "a = np.random.randint(0, 10, (3, 3))\n",
    "print(a)\n",
    "print('------------------------------------')\n",
    "# count_nonzero in array from 3*3 between 0:10\n",
    "b = np.count_nonzero(a)\n",
    "print(b)"
   ]
  },
  {
   "cell_type": "code",
   "execution_count": null,
   "metadata": {},
   "outputs": [],
   "source": [
    "# make array from 3*3 between 0:10\n",
    "a = np.random.randint(0, 10, (3, 3))\n",
    "print(a)\n",
    "print('------------------------------------')\n",
    "# count number applied in condition\n",
    "b = np.count_nonzero(a>5)\n",
    "print(b)\n",
    "print('------------------------------------')\n",
    "# count number applied in condition\n",
    "c = np.count_nonzero(a<8)\n",
    "print(c)"
   ]
  },
  {
   "cell_type": "code",
   "execution_count": null,
   "metadata": {},
   "outputs": [],
   "source": [
    "# make array from 3*3 between 0:10\n",
    "a = np.random.randint(0, 10, (3, 3))\n",
    "print(a)\n",
    "print('------------------------------------')\n",
    "# count number applied in condition and columns\n",
    "b = np.count_nonzero(a>5,axis=1)\n",
    "print(b)\n",
    "print('------------------------------------')\n",
    "# count number applied in condition and columns\n",
    "c = np.count_nonzero(a<8,axis=1)\n",
    "print(c)"
   ]
  },
  {
   "cell_type": "code",
   "execution_count": null,
   "metadata": {},
   "outputs": [],
   "source": [
    "# make array from 3*3 between 0:10\n",
    "a = np.random.randint(0, 10, (3, 3))\n",
    "print(a)\n",
    "print('------------------------------------')\n",
    "# count number applied in condition and columns\n",
    "b = any(a>8)\n",
    "print(b)"
   ]
  },
  {
   "cell_type": "code",
   "execution_count": null,
   "metadata": {},
   "outputs": [],
   "source": [
    "# make array from 3*3 between 0:10\n",
    "a = np.random.randint(0, 10, (3, 3))\n",
    "print(a)\n",
    "print('------------------------------------')\n",
    "# count number applied in condition and columns\n",
    "b = any(a>5,axis=1)\n",
    "print(b)"
   ]
  },
  {
   "cell_type": "code",
   "execution_count": null,
   "metadata": {},
   "outputs": [],
   "source": [
    "# make array from 3*3 between 0:10\n",
    "a = np.random.randint(0, 10, (3, 3))\n",
    "print(a)\n",
    "print('------------------------------------')\n",
    "b = all(a>5)\n",
    "print(b)"
   ]
  },
  {
   "cell_type": "code",
   "execution_count": null,
   "metadata": {},
   "outputs": [],
   "source": [
    "# make array from 3*3 between 5:20\n",
    "a =np.random.randint(5,20, size=(3,3))\n",
    "print(a)\n",
    "print('-------------------------')\n",
    "# make boolen array from 3*3 contain if condition true or false\n",
    "b = a>10\n",
    "print(b)\n",
    "print('-------------------------')\n",
    "# make boolen array from 3*3 contain if condition true or false\n",
    "c = a<15\n",
    "print(c)"
   ]
  },
  {
   "cell_type": "code",
   "execution_count": null,
   "metadata": {},
   "outputs": [],
   "source": [
    "# compare between Two array\n",
    "a =np.arange(9).reshape(3,3)\n",
    "print(a)\n",
    "print('-------------------------')\n",
    "b =np.arange(9).reshape(3,3)\n",
    "print(b)\n",
    "print('-------------------------')\n",
    "c = 2*b\n",
    "print(c)\n",
    "print('-------------------------')\n",
    "d = np.isclose(a,b,rtol = 0.1)\n",
    "print(d)\n",
    "print('-------------------------')\n",
    "e = np.isclose(a,c,rtol = 0.1)\n",
    "print(e)"
   ]
  },
  {
   "cell_type": "code",
   "execution_count": null,
   "metadata": {},
   "outputs": [],
   "source": [
    "# dot multiply between Two array\n",
    "a =np.arange(5)\n",
    "print(a)\n",
    "print('-------------------------')\n",
    "b =np.empty(5)\n",
    "np.multiply(a, 10, out=b)\n",
    "print(b)"
   ]
  },
  {
   "cell_type": "code",
   "execution_count": null,
   "metadata": {},
   "outputs": [],
   "source": [
    "# to make array power to anther array\n",
    "a =np.arange(5)\n",
    "print(a)\n",
    "print('-------------------------')\n",
    "b =np.empty(5)\n",
    "np.power(a, 4, out=b)\n",
    "print(b)"
   ]
  },
  {
   "cell_type": "code",
   "execution_count": null,
   "metadata": {},
   "outputs": [],
   "source": [
    "# sum of array\n",
    "a =np.arange(15)\n",
    "print(a)\n",
    "print('-------------------------')\n",
    "b = np.add.reduce(a)\n",
    "print(b)"
   ]
  },
  {
   "cell_type": "code",
   "execution_count": null,
   "metadata": {},
   "outputs": [],
   "source": [
    "# multiply of array\n",
    "a =np.arange(2,8)\n",
    "print(a)\n",
    "print('-------------------------')\n",
    "b = np.multiply.reduce(a)\n",
    "print(b)"
   ]
  },
  {
   "cell_type": "code",
   "execution_count": null,
   "metadata": {},
   "outputs": [],
   "source": [
    "# multiply array by array\n",
    "a =np.arange(2,8)\n",
    "print(a)\n",
    "print('-------------------------')\n",
    "b = np.multiply.outer(a,a)\n",
    "print(b)"
   ]
  },
  {
   "cell_type": "code",
   "execution_count": null,
   "metadata": {},
   "outputs": [],
   "source": [
    "# Add all the previous numbers\n",
    "a =np.arange(10)\n",
    "print(a)\n",
    "print('-------------------------')\n",
    "b = np.add.accumulate(a)\n",
    "print(b)"
   ]
  },
  {
   "cell_type": "code",
   "execution_count": null,
   "metadata": {},
   "outputs": [],
   "source": [
    "# multiply all the previous numbers\n",
    "a =np.arange(2,8)\n",
    "print(a)\n",
    "print('-------------------------')\n",
    "b = np.multiply.accumulate(a)\n",
    "print(b)"
   ]
  },
  {
   "cell_type": "code",
   "execution_count": null,
   "metadata": {},
   "outputs": [],
   "source": [
    "a =np.arange(12).reshape(4,3)\n",
    "print(a)\n",
    "print('-------------------------')\n",
    "# to know how many Row or column in the array\n",
    "b = a.shape\n",
    "print(b)\n",
    "print('-------------------------')\n",
    "c = a.reshape(3,4)\n",
    "print(c)\n",
    "print('-------------------------')\n",
    "d = len(c)\n",
    "print(d)\n"
   ]
  },
  {
   "cell_type": "code",
   "execution_count": null,
   "metadata": {},
   "outputs": [],
   "source": [
    "# to know the size of array\n",
    "a =np.arange(12)\n",
    "print(a)\n",
    "print('-------------------------')\n",
    "b = a.size\n",
    "print(b)\n",
    "print('-------------------------')\n",
    "c = a.reshape(3,4)\n",
    "print(c)\n",
    "print('-------------------------')\n",
    "d = c.size\n",
    "print(d)"
   ]
  },
  {
   "cell_type": "code",
   "execution_count": null,
   "metadata": {},
   "outputs": [],
   "source": [
    "# to know the shape of array\n",
    "a =np.arange(12)\n",
    "print(a)\n",
    "print('-------------------------')\n",
    "b = a.shape\n",
    "print(b)\n",
    "print('-------------------------')\n",
    "c = a.reshape(3,4)\n",
    "print(c)\n",
    "print('-------------------------')\n",
    "d = c.shape\n",
    "print(d)"
   ]
  },
  {
   "cell_type": "code",
   "execution_count": null,
   "metadata": {},
   "outputs": [],
   "source": [
    "# to know how Dimensions of array\n",
    "a =np.arange(12)\n",
    "print(a)\n",
    "print('-------------------------')\n",
    "b = a.ndim\n",
    "print(b)\n",
    "print('-------------------------')\n",
    "c = a.reshape(3,4)\n",
    "print(c)\n",
    "print('-------------------------')\n",
    "d = c.ndim\n",
    "print(d)\n"
   ]
  },
  {
   "cell_type": "code",
   "execution_count": null,
   "metadata": {},
   "outputs": [],
   "source": [
    "# to know data type in array\n",
    "a =np.array(['a','d','g','h','j'])\n",
    "print(a)\n",
    "print('-------------------------')\n",
    "b = a.dtype\n",
    "print(b)\n",
    "print('-------------------------')\n",
    "c = np.arange(12)\n",
    "print(c)\n",
    "print('-------------------------')\n",
    "d = c.reshape(3,4)\n",
    "print(d)\n",
    "print('-------------------------')\n",
    "e = d.dtype\n",
    "print(e)\n"
   ]
  },
  {
   "cell_type": "code",
   "execution_count": null,
   "metadata": {},
   "outputs": [],
   "source": [
    "# make matrix\n",
    "a = np.matrix('{} {} ; {} {}'.format(1,2,3,4))\n",
    "print(a)\n",
    "print('-------------------------')\n",
    "b = np.matrix('{} {} {};{} {} {}'.format(1,2,3,4,5,6))\n",
    "print(b)\n"
   ]
  },
  {
   "cell_type": "code",
   "execution_count": null,
   "metadata": {},
   "outputs": [],
   "source": [
    "# trace\n",
    "a =np.arange(9)\n",
    "print(a)\n",
    "print('-------------------------')\n",
    "b = a.reshape(3,3)\n",
    "print(b)\n",
    "print('-------------------------')\n",
    "c = np.trace(b)\n",
    "print(c)\n"
   ]
  },
  {
   "cell_type": "code",
   "execution_count": null,
   "metadata": {},
   "outputs": [],
   "source": [
    "a =np.arange(4)\n",
    "print(a)\n",
    "print('-------------------------')\n",
    "b = a.reshape(2,2)\n",
    "print(b)\n",
    "print('-------------------------')\n",
    "# det value \n",
    "c = np.linalg.det(b)\n",
    "print(c)\n",
    "print('-------------------------')\n",
    "# eig value \n",
    "d = np.linalg.eig(b)\n",
    "print(d)"
   ]
  },
  {
   "cell_type": "code",
   "execution_count": null,
   "metadata": {},
   "outputs": [],
   "source": [
    "# Slicing Array\n",
    "a =np.arange(10)\n",
    "print(a)\n",
    "print('-------------------------')\n",
    "c = a[3]\n",
    "print(c)\n",
    "print('-------------------------')\n",
    "d = a[3:9]\n",
    "print(d)\n",
    "print('-------------------------')\n",
    "e = a[3:9:2]\n",
    "print(e)\n",
    "print('-------------------------')\n",
    "f = a[-1]\n",
    "print(f)\n",
    "print('-------------------------')\n",
    "g = a[-3]\n",
    "print(g)"
   ]
  },
  {
   "cell_type": "code",
   "execution_count": null,
   "metadata": {},
   "outputs": [],
   "source": [
    "# example\n",
    "a =np.arange(36).reshape(6,6)\n",
    "print(a)\n",
    "print('--------')\n",
    "c = a[3]\n",
    "print(c)\n",
    "print('--------')\n",
    "d = a[3:9]\n",
    "print(d)\n",
    "print('--------')\n",
    "e = a[3:9:2]\n",
    "print(e)\n",
    "print('--------')\n",
    "f = a[-1]\n",
    "print(f)\n",
    "print('--------')\n",
    "g = a[-3]\n",
    "print(g)"
   ]
  },
  {
   "cell_type": "code",
   "execution_count": null,
   "metadata": {},
   "outputs": [],
   "source": [
    "# example\n",
    "a =np.arange(36).reshape(6,6)\n",
    "print(a)\n",
    "print('--------')\n",
    "c = a[3,1]\n",
    "print(c)\n",
    "print('--------')\n",
    "d = a[3,:]\n",
    "print(d)\n",
    "print('--------')\n",
    "e = a[:,2]\n",
    "print(e)\n",
    "print('--------')\n",
    "f = a[:,1:3]\n",
    "print(f)\n",
    "print('--------')\n",
    "g = a[1:2,:]\n",
    "print(g)"
   ]
  },
  {
   "cell_type": "code",
   "execution_count": null,
   "metadata": {},
   "outputs": [],
   "source": [
    "#example\n",
    "a =np.arange(36).reshape(6,6)\n",
    "print(a)\n",
    "print('--------')\n",
    "c = a[3:4,1:5]\n",
    "print(c)\n",
    "print('--------')\n",
    "d = a[2:,3:]\n",
    "print(d)\n",
    "print('--------')\n",
    "e = a[:2,:3]\n",
    "print(e)\n",
    "print('--------')\n",
    "f = a[:,-1]\n",
    "print(f)\n",
    "print('--------')\n",
    "g = a[-1,:]\n",
    "print(g)"
   ]
  },
  {
   "cell_type": "code",
   "execution_count": null,
   "metadata": {},
   "outputs": [],
   "source": [
    "#example\n",
    "a =np.arange(36).reshape(6,6)\n",
    "print(a)\n",
    "print('--------')\n",
    "c = a[ :: 2, :: 3]\n",
    "print(c)\n",
    "print('--------')\n",
    "d = a[ ::- 1, ::- 1]\n",
    "print(d)\n",
    "print('--------')\n",
    "e = a[:2 :- 1,:3 :- 1]\n",
    "print(e)\n",
    "print('--------')\n",
    "f = a[2 :: 2,3 :: 3]\n",
    "print(f)\n",
    "print('--------')\n",
    "g = a[-1 :: ,-1 :: ]\n",
    "print(g)"
   ]
  },
  {
   "cell_type": "code",
   "execution_count": null,
   "metadata": {},
   "outputs": [],
   "source": [
    "# edit value in array\n",
    "a =np.arange(16).reshape(4,4)\n",
    "print(a)\n",
    "print('--------')\n",
    "a[2,3] =0\n",
    "print(a)\n",
    "print('--------')\n",
    "a[:,3] = 0\n",
    "print(a)\n",
    "print('--------')\n",
    "a[2,:] = 0\n",
    "print(a)\n",
    "print('--------')\n",
    "a[:,:] = 0\n",
    "print(a)"
   ]
  },
  {
   "cell_type": "code",
   "execution_count": null,
   "metadata": {},
   "outputs": [],
   "source": [
    "# النسخة المربوطة\n",
    "a =np.arange(16).reshape(4,4)\n",
    "print(a)\n",
    "print('--------')\n",
    "b = a[:, 1:3]\n",
    "print(b)\n",
    "print('--------')\n",
    "a[:,:] = 5\n",
    "print(a)\n",
    "print('--------')\n",
    "print(b)\n"
   ]
  },
  {
   "cell_type": "code",
   "execution_count": null,
   "metadata": {},
   "outputs": [],
   "source": [
    "# copy in array\n",
    "a =np.arange(16).reshape(4,4)\n",
    "print(a)\n",
    "print('-------------------------')\n",
    "b = a[:,1:3].copy()\n",
    "print(b)\n",
    "print('-------------------------')\n",
    "a[:,:] = 5\n",
    "print(a)\n",
    "print('-------------------------')\n",
    "print(b)"
   ]
  },
  {
   "cell_type": "code",
   "execution_count": null,
   "metadata": {},
   "outputs": [],
   "source": [
    "# 3D array\n",
    "a =np.arange(18).reshape(3,3,2)\n",
    "print(a)\n",
    "print('-------------------------')\n",
    "c = a[1]\n",
    "print(c)\n",
    "print('-------------------------')\n",
    "d = a[1,2]\n",
    "print(d)\n",
    "print('-------------------------')\n",
    "e = a[2,2,1]\n",
    "print(e)"
   ]
  },
  {
   "cell_type": "code",
   "execution_count": null,
   "metadata": {},
   "outputs": [],
   "source": [
    "# split\n",
    "x = [11,22,33,44,55,66,77,88]\n",
    "x1, x2, x3 = np.split(x, (3,6))\n",
    "print(x1, x2, x3)\n",
    "print('-------------------------')\n",
    "x1, x2, x3 = np.split(x, (1,5))\n",
    "print(x1, x2, x3)\n",
    "print('-------------------------')\n",
    "x1, x2, x3 = np.split(x, (6, 3))\n",
    "print(x1, x2, x3)\n",
    "print('-------------------------')\n",
    "x1, x2, x3 = np.split(x, (0, 3))\n",
    "print(x1, x2, x3)\n",
    "print('-------------------------')\n",
    "x1, x2, x3 = np.split(x, (4, 0))\n",
    "print(x1, x2, x3)"
   ]
  },
  {
   "cell_type": "code",
   "execution_count": null,
   "metadata": {},
   "outputs": [],
   "source": [
    "# Selecting an item\n",
    "a =np.arange(16).reshape(4,4)\n",
    "print(a)\n",
    "print('-------------------------')\n",
    "b = a[2][1]\n",
    "print(b)"
   ]
  },
  {
   "cell_type": "code",
   "execution_count": null,
   "metadata": {},
   "outputs": [],
   "source": [
    "# Vertical merge\n",
    "a =np.arange(4).reshape(2,2)\n",
    "print(a)\n",
    "print('-------------------------')\n",
    "b =2*np.arange(4).reshape(2,2)\n",
    "print(b)\n",
    "print('-------------------------')\n",
    "c = np.vstack((a,b))\n",
    "print(c)"
   ]
  },
  {
   "cell_type": "code",
   "execution_count": null,
   "metadata": {},
   "outputs": [],
   "source": [
    "# horizontal merge\n",
    "a =np.arange(4).reshape(2,2)\n",
    "print(a)\n",
    "print('-------------------------')\n",
    "b =2*np.arange(4).reshape(2,2)\n",
    "print(b)\n",
    "print('-------------------------')\n",
    "c = np.hstack((a,b))\n",
    "print(c)"
   ]
  },
  {
   "cell_type": "code",
   "execution_count": null,
   "metadata": {},
   "outputs": [
    {
     "name": "stdout",
     "output_type": "stream",
     "text": [
      "[[ 5 15 13]\n",
      " [11 19 12]\n",
      " [16  5 16]]\n",
      "-------------------------\n",
      "[[15 12  7]\n",
      " [19 11 10]\n",
      " [13  9 12]]\n",
      "-------------------------\n",
      "[[ 5 15 13]\n",
      " [11 19 12]\n",
      " [16  5 16]\n",
      " [15 12  7]\n",
      " [19 11 10]\n",
      " [13  9 12]]\n",
      "-------------------------\n"
     ]
    }
   ],
   "source": [
    "# concatenate axis = 0\n",
    "a =np.random.randint(5,20, size=9).reshape(3,3)\n",
    "b =np.random.randint(5,20, size=9).reshape(3,3)\n",
    "c = np.concatenate([a,b] , axis = 0)\n",
    "print(a)\n",
    "print('-------------------------')\n",
    "print(b)\n",
    "print('-------------------------')\n",
    "print(c)"
   ]
  },
  {
   "cell_type": "code",
   "execution_count": null,
   "metadata": {},
   "outputs": [],
   "source": [
    "# concatenate axis = 1\n",
    "a =np.random.randint(5,20, size=9).reshape(3,3)\n",
    "b =np.random.randint(5,20, size=9).reshape(3,3)\n",
    "c = np.concatenate([a,b] , axis = 1)\n",
    "print(a)\n",
    "print('-------------------------')\n",
    "print(b)\n",
    "print('-------------------------')\n",
    "print(c)\n"
   ]
  }
 ],
 "metadata": {
  "kernelspec": {
   "display_name": "Python 3",
   "language": "python",
   "name": "python3"
  },
  "language_info": {
   "codemirror_mode": {
    "name": "ipython",
    "version": 3
   },
   "file_extension": ".py",
   "mimetype": "text/x-python",
   "name": "python",
   "nbconvert_exporter": "python",
   "pygments_lexer": "ipython3",
   "version": "3.12.8"
  }
 },
 "nbformat": 4,
 "nbformat_minor": 2
}
