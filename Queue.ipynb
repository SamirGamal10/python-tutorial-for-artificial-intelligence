{
 "cells": [
  {
   "cell_type": "code",
   "execution_count": 1,
   "id": "613fcc20",
   "metadata": {},
   "outputs": [],
   "source": [
    "class Queue:\n",
    "    def __init__(self):\n",
    "        self.items = []\n",
    "\n",
    "    def enqueue(self, item):\n",
    "        \"\"\"Add an item to the end of the queue\"\"\"\n",
    "        self.items.append(item)\n",
    "\n",
    "    def dequeue(self):\n",
    "        \"\"\"Remove and return the first item in the queue\"\"\"\n",
    "        if not self.is_empty():\n",
    "            return self.items.pop(0)\n",
    "        else:\n",
    "            raise Exception(\"Queue is empty\")\n",
    "\n",
    "    def front(self):\n",
    "        \"\"\"Return the first item without removing it\"\"\"\n",
    "        if not self.is_empty():\n",
    "            return self.items[0]\n",
    "        else:\n",
    "            raise Exception(\"Queue is empty\")\n",
    "\n",
    "    def is_empty(self):\n",
    "        \"\"\"Check if the queue is empty\"\"\"\n",
    "        return len(self.items) == 0\n",
    "\n",
    "    def size(self):\n",
    "        \"\"\"Return the number of items in the queue\"\"\"\n",
    "        return len(self.items)"
   ]
  },
  {
   "cell_type": "code",
   "execution_count": 2,
   "id": "e3b61792",
   "metadata": {},
   "outputs": [],
   "source": [
    "# Create a queue\n",
    "queue = Queue()"
   ]
  },
  {
   "cell_type": "code",
   "execution_count": 3,
   "id": "16decaee",
   "metadata": {},
   "outputs": [],
   "source": [
    " # Enqueue items\n",
    "queue.enqueue(10)\n",
    "queue.enqueue(20)\n",
    "queue.enqueue(30)\n"
   ]
  },
  {
   "cell_type": "code",
   "execution_count": 4,
   "id": "34925c1b",
   "metadata": {},
   "outputs": [
    {
     "name": "stdout",
     "output_type": "stream",
     "text": [
      "Queue size: 3\n",
      "Front item: 10\n"
     ]
    }
   ],
   "source": [
    "# Print queue details\n",
    "print(\"Queue size:\", queue.size())\n",
    "print(\"Front item:\", queue.front())"
   ]
  },
  {
   "cell_type": "code",
   "execution_count": 5,
   "id": "4703bc0c",
   "metadata": {},
   "outputs": [
    {
     "name": "stdout",
     "output_type": "stream",
     "text": [
      "Dequeued item: 10\n",
      "Queue size after dequeue: 2\n"
     ]
    }
   ],
   "source": [
    "# Dequeue items\n",
    "print(\"Dequeued item:\", queue.dequeue())\n",
    "print(\"Queue size after dequeue:\", queue.size())"
   ]
  }
 ],
 "metadata": {
  "kernelspec": {
   "display_name": "Python 3",
   "language": "python",
   "name": "python3"
  },
  "language_info": {
   "codemirror_mode": {
    "name": "ipython",
    "version": 3
   },
   "file_extension": ".py",
   "mimetype": "text/x-python",
   "name": "python",
   "nbconvert_exporter": "python",
   "pygments_lexer": "ipython3",
   "version": "3.13.5"
  }
 },
 "nbformat": 4,
 "nbformat_minor": 5
}
