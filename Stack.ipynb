{
 "cells": [
  {
   "cell_type": "code",
   "execution_count": 18,
   "id": "5d287c87",
   "metadata": {},
   "outputs": [],
   "source": [
    "class Stack:\n",
    "    def __init__(self):\n",
    "        self.items = []\n",
    "\n",
    "    def push(self, item):\n",
    "        \"\"\"Add an item to the top of the stack\"\"\"\n",
    "        self.items.append(item)\n",
    "\n",
    "    def pop(self):\n",
    "        \"\"\"Remove and return the top item\"\"\"\n",
    "        if not self.is_empty():\n",
    "            return self.items.pop()\n",
    "        else:\n",
    "            raise Exception(\"Stack is empty\")\n",
    "\n",
    "    def peek(self):\n",
    "        \"\"\"Return the top item without removing it\"\"\"\n",
    "        if not self.is_empty():\n",
    "            return self.items[-1]\n",
    "        else:\n",
    "            raise Exception(\"Stack is empty\")\n",
    "\n",
    "    def is_empty(self):\n",
    "        \"\"\"Check if the stack is empty\"\"\"\n",
    "        return len(self.items) == 0\n",
    "\n",
    "    def size(self):\n",
    "        \"\"\"Return the number of items in the stack\"\"\"\n",
    "        return len(self.items)"
   ]
  },
  {
   "cell_type": "code",
   "execution_count": 19,
   "id": "6adfa3ba",
   "metadata": {},
   "outputs": [],
   "source": [
    "# Create a stack\n",
    "stack = Stack()"
   ]
  },
  {
   "cell_type": "code",
   "execution_count": 20,
   "id": "98cf758f",
   "metadata": {},
   "outputs": [],
   "source": [
    "# Push items\n",
    "stack.push(10)\n",
    "stack.push(20)\n",
    "stack.push(4)"
   ]
  },
  {
   "cell_type": "code",
   "execution_count": 21,
   "id": "12be48a4",
   "metadata": {},
   "outputs": [
    {
     "name": "stdout",
     "output_type": "stream",
     "text": [
      "Stack size: 3\n",
      "Top item: 4\n"
     ]
    }
   ],
   "source": [
    "# Print stack details\n",
    "print(\"Stack size:\", stack.size())\n",
    "print(\"Top item:\", stack.peek())"
   ]
  },
  {
   "cell_type": "code",
   "execution_count": 22,
   "id": "cb5deb0b",
   "metadata": {},
   "outputs": [
    {
     "name": "stdout",
     "output_type": "stream",
     "text": [
      "Popped item: 4\n",
      "Stack size after pop: 2\n"
     ]
    }
   ],
   "source": [
    "# Pop items\n",
    "print(\"Popped item:\", stack.pop())\n",
    "print(\"Stack size after pop:\", stack.size())"
   ]
  },
  {
   "cell_type": "code",
   "execution_count": 23,
   "id": "db3fb95d",
   "metadata": {},
   "outputs": [
    {
     "data": {
      "text/plain": [
       "False"
      ]
     },
     "execution_count": 23,
     "metadata": {},
     "output_type": "execute_result"
    }
   ],
   "source": [
    "stack.is_empty()"
   ]
  }
 ],
 "metadata": {
  "kernelspec": {
   "display_name": "Python 3",
   "language": "python",
   "name": "python3"
  },
  "language_info": {
   "codemirror_mode": {
    "name": "ipython",
    "version": 3
   },
   "file_extension": ".py",
   "mimetype": "text/x-python",
   "name": "python",
   "nbconvert_exporter": "python",
   "pygments_lexer": "ipython3",
   "version": "3.13.5"
  }
 },
 "nbformat": 4,
 "nbformat_minor": 5
}
