{
 "cells": [
  {
   "cell_type": "markdown",
   "metadata": {},
   "source": [
    "# lesson 1 Data Type"
   ]
  },
  {
   "cell_type": "code",
   "execution_count": null,
   "metadata": {},
   "outputs": [],
   "source": [
    "# clean code\n",
    "# varable best way to write varable\n",
    "x=3              #rong\n",
    "y=4              #rong\n",
    "z=2              #rong"
   ]
  },
  {
   "cell_type": "code",
   "execution_count": null,
   "metadata": {},
   "outputs": [],
   "source": [
    "number=3                        #right\n",
    "age=4                           #right\n",
    "hight=2                         #right\n",
    "ageOfnumber1=33                 #right\n",
    "age_of_number1=33               #right"
   ]
  },
  {
   "cell_type": "code",
   "execution_count": null,
   "metadata": {},
   "outputs": [
    {
     "name": "stdout",
     "output_type": "stream",
     "text": [
      "samir\n",
      "24\n",
      "181\n"
     ]
    }
   ],
   "source": [
    "# Many Values to Multiple Variables\n",
    "name ,age,hight='samir',24,181\n",
    "print(name)\n",
    "print(age)\n",
    "print(hight)"
   ]
  },
  {
   "cell_type": "code",
   "execution_count": null,
   "metadata": {},
   "outputs": [
    {
     "name": "stdout",
     "output_type": "stream",
     "text": [
      "Fruit\n"
     ]
    }
   ],
   "source": [
    "# One Value to Multiple Variables\n",
    "orange=banana=apple='Fruit'\n",
    "print(banana)"
   ]
  },
  {
   "cell_type": "code",
   "execution_count": null,
   "metadata": {},
   "outputs": [
    {
     "name": "stdout",
     "output_type": "stream",
     "text": [
      "orange\n"
     ]
    }
   ],
   "source": [
    "# Unpack a Collection\n",
    "Fruit=['orange','banana','apple']\n",
    "fruit1,fruit2,fruit3=Fruit\n",
    "print(fruit1)"
   ]
  }
 ],
 "metadata": {
  "language_info": {
   "name": "python"
  }
 },
 "nbformat": 4,
 "nbformat_minor": 2
}
