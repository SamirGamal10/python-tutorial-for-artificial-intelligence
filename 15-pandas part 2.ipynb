{
 "cells": [
  {
   "cell_type": "markdown",
   "metadata": {},
   "source": [
    "# lesson 15 pandas part 2"
   ]
  },
  {
   "cell_type": "code",
   "execution_count": 1,
   "metadata": {},
   "outputs": [],
   "source": [
    "import pandas as pd"
   ]
  },
  {
   "cell_type": "code",
   "execution_count": 2,
   "metadata": {},
   "outputs": [
    {
     "name": "stdout",
     "output_type": "stream",
     "text": [
      "   square\n",
      "0       0\n",
      "1       1\n",
      "2       4\n",
      "3       9\n",
      "4      16\n",
      "5      25\n",
      "6      36\n",
      "7      49\n",
      "8      64\n",
      "9      81\n"
     ]
    }
   ],
   "source": [
    "data = [{'square': i**2} for i in range(10)]\n",
    "d = pd.DataFrame(data)\n",
    "print(d)"
   ]
  },
  {
   "cell_type": "code",
   "execution_count": 3,
   "metadata": {},
   "outputs": [
    {
     "name": "stdout",
     "output_type": "stream",
     "text": [
      "   square  cube      root\n",
      "0       0     0  0.000000\n",
      "1       1     1  1.000000\n",
      "2       4     8  1.414214\n",
      "3       9    27  1.732051\n",
      "4      16    64  2.000000\n",
      "5      25   125  2.236068\n",
      "6      36   216  2.449490\n",
      "7      49   343  2.645751\n",
      "8      64   512  2.828427\n",
      "9      81   729  3.000000\n"
     ]
    }
   ],
   "source": [
    "# functions and columns and loop in List\n",
    "data = [{'square': i**2,'cube': i**3,'root': i**0.5} for i in range(10)]\n",
    "d = pd.DataFrame(data)\n",
    "print(d)"
   ]
  },
  {
   "cell_type": "code",
   "execution_count": 4,
   "metadata": {},
   "outputs": [
    {
     "name": "stdout",
     "output_type": "stream",
     "text": [
      "   a  b\n",
      "0  1  2\n",
      "1  3  4\n",
      "2  5  6\n"
     ]
    }
   ],
   "source": [
    "# merge Two Columns in dictionary\n",
    "d = pd.DataFrame([{'a':1,'b':2},{'a':3,'b':4},{'a':5,'b':6}])\n",
    "print(d)"
   ]
  },
  {
   "cell_type": "code",
   "execution_count": 5,
   "metadata": {},
   "outputs": [
    {
     "name": "stdout",
     "output_type": "stream",
     "text": [
      "     a    b    c    d    e\n",
      "0  1.0  2.0  NaN  NaN  NaN\n",
      "1  NaN  3.0  4.0  NaN  NaN\n",
      "2  NaN  NaN  NaN  5.0  6.0\n"
     ]
    }
   ],
   "source": [
    "# merge Two Columns in dictionary and NaN\n",
    "d = pd.DataFrame([{'a':1,'b':2},{'b':3,'c':4},{'d':5,'e':6}])\n",
    "print(d)"
   ]
  },
  {
   "cell_type": "code",
   "execution_count": 6,
   "metadata": {},
   "outputs": [
    {
     "name": "stdout",
     "output_type": "stream",
     "text": [
      "       food     drink\n",
      "a  0.893247  0.268846\n",
      "b  0.492861  0.412108\n",
      "c  0.412056  0.672456\n"
     ]
    }
   ],
   "source": [
    "import numpy as np\n",
    "d =pd.DataFrame(np.random.rand(3, 2),\n",
    "columns=['food', 'drink'],index=['a', 'b', 'c'])\n",
    "print(d)"
   ]
  },
  {
   "cell_type": "code",
   "execution_count": 7,
   "metadata": {},
   "outputs": [
    {
     "name": "stdout",
     "output_type": "stream",
     "text": [
      "   Math  Physics  French  Chemistry  Total\n",
      "a     1        6      11         16   0.34\n",
      "b     2        7      12         17   0.38\n",
      "c     3        8      13         18   0.42\n",
      "d     4        9      14         19   0.46\n",
      "e     5       10      15         20   0.50\n"
     ]
    }
   ],
   "source": [
    "# Calculations with columns\n",
    "w = pd.Series({'a':1 ,'b':2 ,'c':3 ,'d':4 ,'e':5})\n",
    "x = pd.Series({'a':6 ,'b':7 ,'c':8 ,'d':9 ,'e':10})\n",
    "y = pd.Series({'a':11 ,'b':12 ,'c':13 ,'d':14 ,'e':15})\n",
    "z = pd.Series({'a':16 ,'b':17 ,'c':18 ,'d':19 ,'e':20})\n",
    "grades = pd.DataFrame({'Math':w,'Physics':x,'French':y,'Chemistry':z})\n",
    "grades['Total'] = (grades['Math'] + grades['French'] + grades['Chemistry']+ grades['Physics']) /100\n",
    "print(grades)"
   ]
  },
  {
   "cell_type": "code",
   "execution_count": 8,
   "metadata": {},
   "outputs": [
    {
     "name": "stdout",
     "output_type": "stream",
     "text": [
      "          A         B         C\n",
      "0  0.643652  0.233367  0.500293\n",
      "1  0.690939  0.760548  0.848348\n",
      "2  0.343028  0.422969  0.769072\n",
      "3  0.283864  0.928098  0.100264\n",
      "4  0.286743  0.459504  0.034360\n",
      "0   -1.755067\n",
      "1   -9.571165\n",
      "2   -3.317044\n",
      "3   -1.347019\n",
      "4   -0.772800\n",
      "dtype: float64\n"
     ]
    }
   ],
   "source": [
    "# Calculations with columns\n",
    "import numpy as np\n",
    "df = pd.DataFrame(np.random.rand(5, 3), columns=['A', 'B', 'C'])\n",
    "result = (df['A'] + df['B']) / (df['C'] - 1)\n",
    "print(df)\n",
    "print(result)"
   ]
  },
  {
   "cell_type": "code",
   "execution_count": 9,
   "metadata": {},
   "outputs": [
    {
     "name": "stdout",
     "output_type": "stream",
     "text": [
      "          A         B         C\n",
      "0  0.980778  0.396335  0.491113\n",
      "1  0.014305  0.586417  0.586371\n",
      "2  0.126082  0.136349  0.766007\n",
      "3  0.788950  0.464024  0.735821\n",
      "4  0.092289  0.763840  0.819348\n",
      "0   -2.706128\n",
      "1   -1.452319\n",
      "2   -1.121535\n",
      "3   -4.742900\n",
      "4   -4.739106\n",
      "dtype: float64\n"
     ]
    }
   ],
   "source": [
    "# Calculations with columns\n",
    "import numpy as np\n",
    "df = pd.DataFrame(np.random.rand(5, 3), columns=['A', 'B', 'C'])\n",
    "result = pd.eval(\"(df.A + df.B) / (df.C - 1)\")\n",
    "print(df)\n",
    "print(result)"
   ]
  },
  {
   "cell_type": "code",
   "execution_count": 10,
   "metadata": {},
   "outputs": [
    {
     "name": "stdout",
     "output_type": "stream",
     "text": [
      "          A         B         C\n",
      "0  0.738001  0.012204  0.144451\n",
      "1  0.971234  0.858815  0.582210\n",
      "2  0.188228  0.461223  0.933902\n",
      "3  0.746612  0.361352  0.710982\n",
      "4  0.259198  0.514247  0.395274\n",
      "          A         B         C\n",
      "2  0.188228  0.461223  0.933902\n"
     ]
    }
   ],
   "source": [
    "# Show rows with specific conditions\n",
    "import numpy as np\n",
    "df = pd.DataFrame(np.random.rand(5, 3), columns=['A', 'B', 'C'])\n",
    "result = df.query('A < 0.5 and B < 0.5')\n",
    "print(df)\n",
    "print(result)"
   ]
  },
  {
   "cell_type": "code",
   "execution_count": 11,
   "metadata": {},
   "outputs": [
    {
     "name": "stdout",
     "output_type": "stream",
     "text": [
      "          A         B         C\n",
      "0  0.056834  0.641872  0.351533\n",
      "1  0.869622  0.381642  0.392833\n",
      "2  0.906464  0.705275  0.450039\n",
      "3  0.983573  0.318311  0.071066\n",
      "4  0.637892  0.834272  0.790732\n",
      "Empty DataFrame\n",
      "Columns: [A, B, C]\n",
      "Index: []\n"
     ]
    }
   ],
   "source": [
    "# Show rows with specific conditions\n",
    "import numpy as np\n",
    "df = pd.DataFrame(np.random.rand(5, 3), columns=['A', 'B', 'C'])\n",
    "tmp1 = df.A < 0.5\n",
    "tmp2 = df.B < 0.5\n",
    "tmp3 = tmp1 & tmp2\n",
    "result = df[tmp3]\n",
    "print(df)\n",
    "print(result)"
   ]
  },
  {
   "cell_type": "code",
   "execution_count": 12,
   "metadata": {},
   "outputs": [
    {
     "name": "stdout",
     "output_type": "stream",
     "text": [
      "          A         B         C\n",
      "0  0.241706  0.056831  0.521586\n",
      "1  0.251756  0.574488  0.617222\n",
      "2  0.105070  0.828750  0.725307\n",
      "3  0.170886  0.780748  0.675889\n",
      "4  0.868818  0.700661  0.685144\n",
      "          A         B         C\n",
      "0  0.241706  0.056831  0.521586\n"
     ]
    }
   ],
   "source": [
    "# Show rows with specific conditions\n",
    "import numpy as np\n",
    "df = pd.DataFrame(np.random.rand(5, 3), columns=['A', 'B', 'C'])\n",
    "result = df[(df.A < 0.5) & (df.B < 0.5)]\n",
    "print(df)\n",
    "print(result)"
   ]
  },
  {
   "cell_type": "code",
   "execution_count": 13,
   "metadata": {},
   "outputs": [
    {
     "name": "stdout",
     "output_type": "stream",
     "text": [
      "          A         B         C\n",
      "0  0.877882  0.564546  0.523190\n",
      "1  0.920955  0.384360  0.868824\n",
      "2  0.695045  0.943585  0.179649\n",
      "3  0.463616  0.565811  0.915517\n",
      "4  0.974904  0.492666  0.718933\n",
      "          A         B         C\n",
      "1  0.920955  0.384360  0.868824\n",
      "3  0.463616  0.565811  0.915517\n",
      "4  0.974904  0.492666  0.718933\n"
     ]
    }
   ],
   "source": [
    "# Show rows with specific conditions\n",
    "import numpy as np\n",
    "df = pd.DataFrame(np.random.rand(5, 3), columns=['A', 'B', 'C'])\n",
    "result = df[(df.A < 0.5) | (df.B < 0.5)]\n",
    "print(df)\n",
    "print(result)"
   ]
  },
  {
   "cell_type": "code",
   "execution_count": 14,
   "metadata": {},
   "outputs": [
    {
     "name": "stdout",
     "output_type": "stream",
     "text": [
      "    A   B   C\n",
      "0  A0  B0  C0\n",
      "1  A1  B1  C1\n",
      "2  A2  B2  C2\n"
     ]
    }
   ],
   "source": [
    "# Using function\n",
    "def make_df(cols, ind):\n",
    "    data = {c: [str(c) + str(i) for i in ind] for c in cols}\n",
    "    return pd.DataFrame(data, ind)\n",
    "print(make_df('ABC', range(3)))"
   ]
  },
  {
   "cell_type": "code",
   "execution_count": 15,
   "metadata": {},
   "outputs": [
    {
     "name": "stdout",
     "output_type": "stream",
     "text": [
      "  employee        group\n",
      "0      Bob   Accounting\n",
      "1     Jake  Engineering\n",
      "2     Lisa  Engineering\n",
      "3      Sue           HR\n",
      "  employee  hire_date\n",
      "0     Lisa       2004\n",
      "1      Bob       2008\n",
      "2     Jake       2012\n",
      "3      Sue       2014\n",
      "--------------------------\n",
      "  employee        group  hire_date\n",
      "0      Bob   Accounting       2008\n",
      "1     Jake  Engineering       2012\n",
      "2     Lisa  Engineering       2004\n",
      "3      Sue           HR       2014\n"
     ]
    }
   ],
   "source": [
    "# merge\n",
    "df1 = pd.DataFrame({'employee': ['Bob', 'Jake', 'Lisa', 'Sue'],\n",
    "'group': ['Accounting', 'Engineering',\n",
    "'Engineering', 'HR']})\n",
    "df2 = pd.DataFrame({'employee': ['Lisa', 'Bob', 'Jake', 'Sue'],\n",
    "'hire_date': [2004, 2008, 2012, 2014]})\n",
    "print(df1)\n",
    "print(df2)\n",
    "df3 = pd.merge(df1, df2)\n",
    "print('--------------------------')\n",
    "print(df3)"
   ]
  },
  {
   "cell_type": "code",
   "execution_count": 16,
   "metadata": {},
   "outputs": [
    {
     "name": "stdout",
     "output_type": "stream",
     "text": [
      "  employee        group  hire_date\n",
      "0      Bob   Accounting       2008\n",
      "1     Jake  Engineering       2012\n",
      "2     Lisa  Engineering       2004\n",
      "3      Sue           HR       2014\n",
      "--------------------------\n",
      "         group supervisor\n",
      "0   Accounting      Carly\n",
      "1  Engineering      Guido\n",
      "2           HR      Steve\n",
      "--------------------------\n",
      "  employee        group  hire_date supervisor\n",
      "0      Bob   Accounting       2008      Carly\n",
      "1     Jake  Engineering       2012      Guido\n",
      "2     Lisa  Engineering       2004      Guido\n",
      "3      Sue           HR       2014      Steve\n"
     ]
    }
   ],
   "source": [
    "# merge\n",
    "df1 = pd.DataFrame({'employee': ['Bob', 'Jake', 'Lisa', 'Sue'],\n",
    "'group': ['Accounting', 'Engineering',\n",
    "'Engineering', 'HR']})\n",
    "df2 = pd.DataFrame({'employee': ['Lisa', 'Bob', 'Jake', 'Sue'],\n",
    "'hire_date': [2004, 2008, 2012, 2014]})\n",
    "df3 = pd.merge(df1, df2)\n",
    "print(df3)\n",
    "print('--------------------------')\n",
    "df4 = pd.DataFrame({'group': ['Accounting', 'Engineering', 'HR'],\n",
    "'supervisor': ['Carly', 'Guido', 'Steve']})\n",
    "df5 = pd.merge(df3, df4)\n",
    "print(df4)\n",
    "print('--------------------------')\n",
    "print(df5)"
   ]
  },
  {
   "cell_type": "code",
   "execution_count": 17,
   "metadata": {},
   "outputs": [
    {
     "name": "stdout",
     "output_type": "stream",
     "text": [
      "  employee        group\n",
      "0      Bob   Accounting\n",
      "1     Jake  Engineering\n",
      "2     Lisa  Engineering\n",
      "3      Sue           HR\n",
      "   name  salary\n",
      "0   Bob   70000\n",
      "1  Jake   80000\n",
      "2  Lisa  120000\n",
      "3   Sue   90000\n",
      "  employee        group  name  salary\n",
      "0      Bob   Accounting   Bob   70000\n",
      "1     Jake  Engineering  Jake   80000\n",
      "2     Lisa  Engineering  Lisa  120000\n",
      "3      Sue           HR   Sue   90000\n"
     ]
    }
   ],
   "source": [
    "# merge\n",
    "df1 = pd.DataFrame({'employee': ['Bob', 'Jake', 'Lisa', 'Sue'],\n",
    "'group': ['Accounting', 'Engineering',\n",
    "'Engineering', 'HR']})\n",
    "df2 = pd.DataFrame({'employee': ['Lisa', 'Bob', 'Jake', 'Sue'],\n",
    "'hire_date': [2004, 2008, 2012, 2014]})\n",
    "df3 = pd.DataFrame({'name': ['Bob', 'Jake', 'Lisa', 'Sue'],\n",
    "'salary': [70000, 80000, 120000, 90000]})\n",
    "print(df1)\n",
    "print(df3)\n",
    "print(pd.merge(df1, df3, left_on=\"employee\", right_on=\"name\"))"
   ]
  },
  {
   "cell_type": "code",
   "execution_count": 18,
   "metadata": {},
   "outputs": [
    {
     "name": "stdout",
     "output_type": "stream",
     "text": [
      "  employee        group\n",
      "0      Bob   Accounting\n",
      "1     Jake  Engineering\n",
      "2     Lisa  Engineering\n",
      "3      Sue           HR\n",
      "   name  salary\n",
      "0   Bob   70000\n",
      "1  Jake   80000\n",
      "2  Lisa  120000\n",
      "3   Sue   90000\n",
      "  employee        group  salary\n",
      "0      Bob   Accounting   70000\n",
      "1     Jake  Engineering   80000\n",
      "2     Lisa  Engineering  120000\n",
      "3      Sue           HR   90000\n"
     ]
    }
   ],
   "source": [
    "# drop\n",
    "df1 = pd.DataFrame({'employee': ['Bob', 'Jake', 'Lisa', 'Sue'],\n",
    "'group': ['Accounting', 'Engineering',\n",
    "'Engineering', 'HR']})\n",
    "df2 = pd.DataFrame({'employee': ['Lisa', 'Bob', 'Jake', 'Sue'],\n",
    "'hire_date': [2004, 2008, 2012, 2014]})\n",
    "df3 = pd.DataFrame({'name': ['Bob', 'Jake', 'Lisa', 'Sue'],\n",
    "'salary': [70000, 80000, 120000, 90000]})\n",
    "print(df1)\n",
    "print(df3)\n",
    "print(pd.merge(df1, df3, left_on=\"employee\",\n",
    "right_on=\"name\").drop('name', axis=1))"
   ]
  },
  {
   "cell_type": "code",
   "execution_count": 19,
   "metadata": {},
   "outputs": [
    {
     "name": "stdout",
     "output_type": "stream",
     "text": [
      "  employee        group\n",
      "0      Bob   Accounting\n",
      "1     Jake  Engineering\n",
      "2     Lisa  Engineering\n",
      "3      Sue           HR\n",
      "                group\n",
      "employee             \n",
      "Bob        Accounting\n",
      "Jake      Engineering\n",
      "Lisa      Engineering\n",
      "Sue                HR\n"
     ]
    }
   ],
   "source": [
    "# set_index\n",
    "df1 = pd.DataFrame({'employee': ['Bob', 'Jake', 'Lisa', 'Sue'],\n",
    "'group': ['Accounting', 'Engineering',\n",
    "'Engineering', 'HR']})\n",
    "df2 = pd.DataFrame({'employee': ['Lisa', 'Bob', 'Jake', 'Sue'],\n",
    "'hire_date': [2004, 2008, 2012, 2014]})\n",
    "df3 = pd.DataFrame({'name': ['Bob', 'Jake', 'Lisa', 'Sue'],\n",
    "'salary': [70000, 80000, 120000, 90000]})\n",
    "print(df1)\n",
    "df2 = df1.set_index('employee')\n",
    "print(df2)"
   ]
  },
  {
   "cell_type": "code",
   "execution_count": 20,
   "metadata": {},
   "outputs": [
    {
     "name": "stdout",
     "output_type": "stream",
     "text": [
      "    name   food\n",
      "0  Peter   fish\n",
      "1   Paul  beans\n",
      "2   Mary  bread\n",
      "-----------------------------\n",
      "     name drink\n",
      "0    Mary  cola\n",
      "1  Joseph  7 up\n",
      "-----------------------------\n",
      "   name   food drink\n",
      "0  Mary  bread  cola\n"
     ]
    }
   ],
   "source": [
    "# Data intersection\n",
    "df1 = pd.DataFrame({'name': ['Peter', 'Paul', 'Mary'],\n",
    "'food': ['fish', 'beans', 'bread']},\n",
    "columns=['name', 'food'])\n",
    "df2 = pd.DataFrame({'name': ['Mary', 'Joseph'],\n",
    "'drink': ['cola', '7 up']},\n",
    "columns=['name', 'drink'])\n",
    "print(df1)\n",
    "print('-----------------------------')\n",
    "print(df2)\n",
    "print('-----------------------------')\n",
    "df3 = pd.merge(df1, df2)\n",
    "print(df3)"
   ]
  },
  {
   "cell_type": "code",
   "execution_count": 21,
   "metadata": {},
   "outputs": [
    {
     "name": "stdout",
     "output_type": "stream",
     "text": [
      "    name   food\n",
      "0  Peter   fish\n",
      "1   Paul  beans\n",
      "2   Mary  bread\n",
      "-----------------------------\n",
      "     name drink\n",
      "0    Mary  cola\n",
      "1  Joseph  7 up\n",
      "-----------------------------\n",
      "   name   food drink\n",
      "0  Mary  bread  cola\n"
     ]
    }
   ],
   "source": [
    "# Data intersection\n",
    "df1 = pd.DataFrame({'name': ['Peter', 'Paul', 'Mary'],\n",
    "'food': ['fish', 'beans', 'bread']},\n",
    "columns=['name', 'food'])\n",
    "df2 = pd.DataFrame({'name': ['Mary', 'Joseph'],\n",
    "'drink': ['cola', '7 up']},\n",
    "columns=['name', 'drink'])\n",
    "print(df1)\n",
    "print('-----------------------------')\n",
    "print(df2)\n",
    "print('-----------------------------')\n",
    "df3 = pd.merge(df1, df2, how='inner')\n",
    "print(df3)"
   ]
  },
  {
   "cell_type": "code",
   "execution_count": 22,
   "metadata": {},
   "outputs": [
    {
     "name": "stdout",
     "output_type": "stream",
     "text": [
      "    name   food\n",
      "0  Peter   fish\n",
      "1   Paul  beans\n",
      "2   Mary  bread\n",
      "-----------------------------\n",
      "     name drink\n",
      "0    Mary  cola\n",
      "1  Joseph  7 up\n",
      "-----------------------------\n",
      "     name   food drink\n",
      "0  Joseph    NaN  7 up\n",
      "1    Mary  bread  cola\n",
      "2    Paul  beans   NaN\n",
      "3   Peter   fish   NaN\n"
     ]
    }
   ],
   "source": [
    "# all Row\n",
    "df1 = pd.DataFrame({'name': ['Peter', 'Paul', 'Mary'],\n",
    "'food': ['fish', 'beans', 'bread']},\n",
    "columns=['name', 'food'])\n",
    "df2 = pd.DataFrame({'name': ['Mary', 'Joseph'],\n",
    "'drink': ['cola', '7 up']},\n",
    "columns=['name', 'drink'])\n",
    "print(df1)\n",
    "print('-----------------------------')\n",
    "print(df2)\n",
    "print('-----------------------------')\n",
    "df3 = pd.merge(df1, df2, how='outer')\n",
    "print(df3)"
   ]
  },
  {
   "cell_type": "code",
   "execution_count": 23,
   "metadata": {},
   "outputs": [
    {
     "name": "stdout",
     "output_type": "stream",
     "text": [
      "    name   food\n",
      "0  Peter   fish\n",
      "1   Paul  beans\n",
      "2   Mary  bread\n",
      "-----------------------------\n",
      "     name drink\n",
      "0    Mary  cola\n",
      "1  Joseph  7 up\n",
      "-----------------------------\n",
      "     name   food drink\n",
      "0    Mary  bread  cola\n",
      "1  Joseph    NaN  7 up\n"
     ]
    }
   ],
   "source": [
    "# merge\n",
    "df1 = pd.DataFrame({'name': ['Peter', 'Paul', 'Mary'],\n",
    "'food': ['fish', 'beans', 'bread']},\n",
    "columns=['name', 'food'])\n",
    "df2 = pd.DataFrame({'name': ['Mary', 'Joseph'],\n",
    "'drink': ['cola', '7 up']},\n",
    "columns=['name', 'drink'])\n",
    "print(df1)\n",
    "print('-----------------------------')\n",
    "print(df2)\n",
    "print('-----------------------------')\n",
    "df3 = pd.merge(df1, df2, how='right')\n",
    "print(df3)"
   ]
  },
  {
   "cell_type": "code",
   "execution_count": 24,
   "metadata": {},
   "outputs": [
    {
     "name": "stdout",
     "output_type": "stream",
     "text": [
      "    name   food\n",
      "0  Peter   fish\n",
      "1   Paul  beans\n",
      "2   Mary  bread\n",
      "-----------------------------\n",
      "     name drink\n",
      "0    Mary  cola\n",
      "1  Joseph  7 up\n",
      "-----------------------------\n",
      "    name   food drink\n",
      "0  Peter   fish   NaN\n",
      "1   Paul  beans   NaN\n",
      "2   Mary  bread  cola\n"
     ]
    }
   ],
   "source": [
    "# merge\n",
    "df1 = pd.DataFrame({'name': ['Peter', 'Paul', 'Mary'],\n",
    "'food': ['fish', 'beans', 'bread']},\n",
    "columns=['name', 'food'])\n",
    "df2 = pd.DataFrame({'name': ['Mary', 'Joseph'],\n",
    "'drink': ['cola', '7 up']},\n",
    "columns=['name', 'drink'])\n",
    "print(df1)\n",
    "print('-----------------------------')\n",
    "print(df2)\n",
    "print('-----------------------------')\n",
    "df3 = pd.merge(df1, df2, how='left')\n",
    "print(df3)"
   ]
  },
  {
   "cell_type": "code",
   "execution_count": 25,
   "metadata": {},
   "outputs": [
    {
     "name": "stdout",
     "output_type": "stream",
     "text": [
      "          A         B\n",
      "0  0.540003  0.418357\n",
      "1  0.598472  0.902909\n",
      "2  0.418913  0.490714\n",
      "3  0.557323  0.859597\n",
      "4  0.988652  0.706587\n",
      "5  0.156572  0.734532\n",
      "6  0.288903  0.027530\n",
      "7  0.917194  0.329659\n",
      "8  0.576061  0.259925\n",
      "9  0.393988  0.326405\n",
      "------------------------------\n",
      "A    5.436082\n",
      "B    5.056216\n",
      "dtype: float64\n",
      "------------------------------\n",
      "A    0.000702\n",
      "B    0.000064\n",
      "dtype: float64\n",
      "------------------------------\n",
      "A    0.543608\n",
      "B    0.505622\n",
      "dtype: float64\n"
     ]
    }
   ],
   "source": [
    "# sum and prod and mean\n",
    "import numpy as np\n",
    "df = pd.DataFrame({'A': np.random.rand(10),'B': np.random.rand(10)})\n",
    "print(df)\n",
    "print('------------------------------')\n",
    "print(df.sum())\n",
    "print('------------------------------')\n",
    "print(df.prod())\n",
    "print('------------------------------')\n",
    "print(df.mean())"
   ]
  },
  {
   "cell_type": "code",
   "execution_count": 26,
   "metadata": {},
   "outputs": [
    {
     "name": "stdout",
     "output_type": "stream",
     "text": [
      "          A         B\n",
      "0  0.358189  0.937630\n",
      "1  0.227597  0.191921\n",
      "2  0.105747  0.700453\n",
      "3  0.141737  0.929645\n",
      "4  0.356721  0.608523\n",
      "5  0.574529  0.989638\n",
      "6  0.558984  0.260856\n",
      "7  0.910234  0.802000\n",
      "8  0.406793  0.039039\n",
      "9  0.194489  0.072188\n",
      "------------------------------\n",
      "3.8350206087765795\n",
      "------------------------------\n",
      "4.160500889133314e-05\n",
      "------------------------------\n",
      "0.3835020608776579\n"
     ]
    }
   ],
   "source": [
    "# sum and prod and mean for columns\n",
    "import numpy as np\n",
    "df = pd.DataFrame({'A': np.random.rand(10),'B': np.random.rand(10)})\n",
    "print(df)\n",
    "print('------------------------------')\n",
    "print(df['A'].sum())\n",
    "print('------------------------------')\n",
    "print(df['B'].prod())\n",
    "print('------------------------------')\n",
    "print(df['A'].mean())"
   ]
  },
  {
   "cell_type": "code",
   "execution_count": 27,
   "metadata": {},
   "outputs": [
    {
     "name": "stdout",
     "output_type": "stream",
     "text": [
      "          A         B\n",
      "0  0.207716  0.140923\n",
      "1  0.535692  0.171155\n",
      "2  0.509525  0.571754\n",
      "3  0.802533  0.821420\n",
      "4  0.555342  0.216919\n",
      "5  0.422419  0.625833\n",
      "6  0.665802  0.720141\n",
      "7  0.441227  0.039295\n",
      "8  0.143307  0.906776\n",
      "9  0.923461  0.672282\n",
      "------------------------------\n",
      "0    0.174319\n",
      "1    0.353424\n",
      "2    0.540640\n",
      "3    0.811976\n",
      "4    0.386131\n",
      "5    0.524126\n",
      "6    0.692971\n",
      "7    0.240261\n",
      "8    0.525041\n",
      "9    0.797871\n",
      "dtype: float64\n"
     ]
    }
   ],
   "source": [
    "# Merge column data\n",
    "import numpy as np\n",
    "df = pd.DataFrame({'A': np.random.rand(10),'B': np.random.rand(10)})\n",
    "print(df)\n",
    "print('------------------------------')\n",
    "print(df.mean(axis='columns'))"
   ]
  },
  {
   "cell_type": "code",
   "execution_count": 28,
   "metadata": {},
   "outputs": [
    {
     "name": "stdout",
     "output_type": "stream",
     "text": [
      "          A         B\n",
      "0  0.749031  0.982175\n",
      "1  0.479196  0.761684\n",
      "2  0.852458  0.110946\n",
      "3  0.836368  0.210575\n",
      "4  0.418655  0.528203\n",
      "5  0.431990  0.984838\n",
      "6  0.021306  0.403770\n",
      "7  0.523608  0.993255\n",
      "8  0.913664  0.710626\n",
      "9  0.286940  0.038348\n",
      "------------------------------\n",
      "A    0.551322\n",
      "B    0.572442\n",
      "dtype: float64\n",
      "------------------------------\n",
      "A    10\n",
      "B    10\n",
      "dtype: int64\n",
      "------------------------------\n",
      "A    0.021306\n",
      "B    0.038348\n",
      "dtype: float64\n",
      "------------------------------\n",
      "A    0.913664\n",
      "B    0.993255\n",
      "dtype: float64\n",
      "------------------------------\n",
      "A    0.284983\n",
      "B    0.369614\n",
      "dtype: float64\n",
      "------------------------------\n"
     ]
    }
   ],
   "source": [
    "# max and min and sum and mean and std\n",
    "import numpy as np\n",
    "df = pd.DataFrame({'A': np.random.rand(10),'B': np.random.rand(10)})\n",
    "print(df)\n",
    "print('------------------------------')\n",
    "print(df.mean(axis='rows'))\n",
    "print('------------------------------')\n",
    "print(df.count())\n",
    "print('------------------------------')\n",
    "print(df.min())\n",
    "print('------------------------------')\n",
    "print(df.max())\n",
    "print('------------------------------')\n",
    "print(df.std())\n",
    "print('------------------------------')"
   ]
  },
  {
   "cell_type": "code",
   "execution_count": 29,
   "metadata": {},
   "outputs": [
    {
     "name": "stdout",
     "output_type": "stream",
     "text": [
      "  key  data\n",
      "0   A     0\n",
      "1   B     1\n",
      "2   C     2\n",
      "3   A     3\n",
      "4   B     4\n",
      "5   C     5\n",
      "           data\n",
      "count  6.000000\n",
      "mean   2.500000\n",
      "std    1.870829\n",
      "min    0.000000\n",
      "25%    1.250000\n",
      "50%    2.500000\n",
      "75%    3.750000\n",
      "max    5.000000\n"
     ]
    }
   ],
   "source": [
    "# Statistical data\n",
    "df = pd.DataFrame({'key':['A','B','C','A','B','C'],\n",
    "'data': range(6)},columns=['key', 'data'])\n",
    "print(df)\n",
    "print(df.describe())"
   ]
  },
  {
   "cell_type": "code",
   "execution_count": 30,
   "metadata": {},
   "outputs": [
    {
     "name": "stdout",
     "output_type": "stream",
     "text": [
      "  key  data\n",
      "0   A     0\n",
      "1   B     1\n",
      "2   C     2\n",
      "3   A     3\n",
      "4   B     4\n",
      "5   C     5\n",
      "     data\n",
      "key      \n",
      "A       3\n",
      "B       5\n",
      "C       7\n"
     ]
    }
   ],
   "source": [
    "# groupby and sum\n",
    "df = pd.DataFrame({'key':['A','B','C','A','B','C'],\n",
    "'data': range(6)},columns=['key', 'data'])\n",
    "print(df)\n",
    "print(df.groupby('key').sum())"
   ]
  },
  {
   "cell_type": "code",
   "execution_count": 31,
   "metadata": {},
   "outputs": [
    {
     "name": "stdout",
     "output_type": "stream",
     "text": [
      "  key  data\n",
      "0   A     0\n",
      "1   B     1\n",
      "2   C     2\n",
      "3   A     3\n",
      "4   B     4\n",
      "5   C     5\n",
      "     data                                         \n",
      "    count mean      std  min   25%  50%   75%  max\n",
      "key                                               \n",
      "A     2.0  1.5  2.12132  0.0  0.75  1.5  2.25  3.0\n",
      "B     2.0  2.5  2.12132  1.0  1.75  2.5  3.25  4.0\n",
      "C     2.0  3.5  2.12132  2.0  2.75  3.5  4.25  5.0\n"
     ]
    }
   ],
   "source": [
    "# groupby and describe\n",
    "df = pd.DataFrame({'key':['A','B','C','A','B','C'],\n",
    "'data': range(6)},columns=['key', 'data'])\n",
    "print(df)\n",
    "print(df.groupby('key').describe())"
   ]
  },
  {
   "cell_type": "code",
   "execution_count": 32,
   "metadata": {},
   "outputs": [
    {
     "name": "stdout",
     "output_type": "stream",
     "text": [
      "  key  data\n",
      "0   A     0\n",
      "1   B     1\n",
      "2   C     2\n",
      "3   A     3\n",
      "4   B     4\n",
      "5   C     5\n",
      "             key\n",
      "data  count  A      2.00000\n",
      "             B      2.00000\n",
      "             C      2.00000\n",
      "      mean   A      1.50000\n",
      "             B      2.50000\n",
      "             C      3.50000\n",
      "      std    A      2.12132\n",
      "             B      2.12132\n",
      "             C      2.12132\n",
      "      min    A      0.00000\n",
      "             B      1.00000\n",
      "             C      2.00000\n",
      "      25%    A      0.75000\n",
      "             B      1.75000\n",
      "             C      2.75000\n",
      "      50%    A      1.50000\n",
      "             B      2.50000\n",
      "             C      3.50000\n",
      "      75%    A      2.25000\n",
      "             B      3.25000\n",
      "             C      4.25000\n",
      "      max    A      3.00000\n",
      "             B      4.00000\n",
      "             C      5.00000\n",
      "dtype: float64\n"
     ]
    }
   ],
   "source": [
    "# groupby and describe and unstack\n",
    "df = pd.DataFrame({'key':['A','B','C','A','B','C'],\n",
    "'data': range(6)},columns=['key', 'data'])\n",
    "print(df)\n",
    "print(df.groupby('key').describe().unstack())"
   ]
  },
  {
   "cell_type": "code",
   "execution_count": 33,
   "metadata": {},
   "outputs": [
    {
     "name": "stdout",
     "output_type": "stream",
     "text": [
      "  key  data1  data2\n",
      "0   A      0      3\n",
      "1   B      1      8\n",
      "2   C      2      4\n",
      "3   A      3      1\n",
      "4   B      4      7\n",
      "5   C      5      5\n",
      "     data1  data2\n",
      "key              \n",
      "A        0      3\n",
      "B        1      8\n",
      "C        2      5\n"
     ]
    }
   ],
   "source": [
    "# groupby and aggregate\n",
    "import numpy as np\n",
    "df = pd.DataFrame({'key': ['A', 'B', 'C', 'A', 'B', 'C'],\n",
    "'data1': range(6),\n",
    "'data2': np.random.randint(0, 10, 6)},\n",
    "columns = ['key', 'data1', 'data2'])\n",
    "print(df)\n",
    "df2 = df.groupby('key').aggregate({'data1': 'min','data2': 'max'})\n",
    "print(df2)"
   ]
  },
  {
   "cell_type": "code",
   "execution_count": 34,
   "metadata": {},
   "outputs": [
    {
     "name": "stdout",
     "output_type": "stream",
     "text": [
      "  key  data1  data2\n",
      "0   A      0      3\n",
      "1   B      1      1\n",
      "2   C      2      3\n",
      "3   A      3      2\n",
      "4   B      4      0\n",
      "5   C      5      9\n",
      "     data1  data2\n",
      "key              \n",
      "A        0      3\n",
      "B        1      8\n",
      "C        2      5\n"
     ]
    }
   ],
   "source": [
    "# filter\n",
    "import numpy as np\n",
    "df = pd.DataFrame({'key': ['A', 'B', 'C', 'A', 'B', 'C'],\n",
    "'data1': range(6),\n",
    "'data2': np.random.randint(0, 10, 6)},\n",
    "columns = ['key', 'data1', 'data2'])\n",
    "print(df)\n",
    "def filter_func(x):\n",
    "    return x['data2'].std() > 4\n",
    "    df2 = df.groupby('key').filter(filter_func)\n",
    "print(df2)"
   ]
  },
  {
   "cell_type": "code",
   "execution_count": 35,
   "metadata": {},
   "outputs": [
    {
     "name": "stdout",
     "output_type": "stream",
     "text": [
      "  key  data1  data2\n",
      "0   A      0      1\n",
      "1   B      1      7\n",
      "2   C      2      2\n",
      "3   A      3      6\n",
      "4   B      4      6\n",
      "5   C      5      1\n",
      "   data1  data2\n",
      "0      0      1\n",
      "1      1     49\n",
      "2      4      4\n",
      "3      9     36\n",
      "4     16     36\n",
      "5     25      1\n"
     ]
    }
   ],
   "source": [
    "# lambda\n",
    "import numpy as np\n",
    "df = pd.DataFrame({'key': ['A', 'B', 'C', 'A', 'B', 'C'],\n",
    "'data1': range(6),\n",
    "'data2': np.random.randint(0, 10, 6)},\n",
    "columns = ['key', 'data1', 'data2'])\n",
    "print(df)\n",
    "df2 = df.groupby('key').transform(lambda x: x**2)\n",
    "print(df2)"
   ]
  }
 ],
 "metadata": {
  "kernelspec": {
   "display_name": "Python 3",
   "language": "python",
   "name": "python3"
  },
  "language_info": {
   "codemirror_mode": {
    "name": "ipython",
    "version": 3
   },
   "file_extension": ".py",
   "mimetype": "text/x-python",
   "name": "python",
   "nbconvert_exporter": "python",
   "pygments_lexer": "ipython3",
   "version": "3.12.9"
  }
 },
 "nbformat": 4,
 "nbformat_minor": 2
}
