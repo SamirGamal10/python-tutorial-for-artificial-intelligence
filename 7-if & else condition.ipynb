{
 "cells": [
  {
   "cell_type": "markdown",
   "metadata": {},
   "source": [
    "# lesson 7 if & else & elif condition"
   ]
  },
  {
   "cell_type": "code",
   "execution_count": 1,
   "metadata": {},
   "outputs": [
    {
     "name": "stdout",
     "output_type": "stream",
     "text": [
      "good\n",
      "good\n",
      "good\n",
      "good\n"
     ]
    }
   ],
   "source": [
    "# Equals: a == b  \n",
    "# Not Equals: a != b \n",
    "# Less than \n",
    "# Less than or equal to: a <= b \n",
    "# Greater than: a > b\n",
    "# Less than: a < b\n",
    "# Greater than or equal to: a >= b\n",
    "a=1\n",
    "b=1\n",
    "if a==b:\n",
    "    print('good')\n",
    "c=1\n",
    "d=2\n",
    "if c!=d:\n",
    "    print('good')\n",
    "e=1\n",
    "f=2\n",
    "if e<f:\n",
    "    print('good')\n",
    "j=2\n",
    "h=1\n",
    "if h<=j:\n",
    "    print('good')\n"
   ]
  },
  {
   "cell_type": "code",
   "execution_count": null,
   "metadata": {},
   "outputs": [],
   "source": [
    "#  if number & if String & if list\n",
    "if 4:\n",
    "    print('ok')\n",
    "if 0:\n",
    "    print('ok')\n",
    "if 'samir':\n",
    "    print('ok')\n",
    "if '':\n",
    "    print('ok')   "
   ]
  },
  {
   "cell_type": "code",
   "execution_count": null,
   "metadata": {},
   "outputs": [],
   "source": [
    "#  transform any data type to boolen\n",
    "print(bool(4))\n",
    "print(bool('samir'))"
   ]
  },
  {
   "cell_type": "code",
   "execution_count": null,
   "metadata": {},
   "outputs": [],
   "source": [
    "#  take input from user and make prossing\n",
    "#  if and else\n",
    "age=int(input('please enter your age : '))\n",
    "if age>10:\n",
    "    print(\"your biger than 10 year\")\n",
    "else:\n",
    "    print('you under age 10 year')"
   ]
  },
  {
   "cell_type": "code",
   "execution_count": null,
   "metadata": {},
   "outputs": [],
   "source": [
    "#  if and elif and else\n",
    "grade=84\n",
    "if 65>grade>50:\n",
    "    print('good')\n",
    "elif 80>grade>65:\n",
    "    print('very good')\n",
    "elif 100 >grade>80:\n",
    "    print('excellent')\n",
    "else:\n",
    "    print(\"faild\")"
   ]
  },
  {
   "cell_type": "code",
   "execution_count": null,
   "metadata": {},
   "outputs": [],
   "source": [
    "#  Short Hand If & in & not in\n",
    "l=['samir','gamal']\n",
    "if 'no' in l :print(\"found\") "
   ]
  },
  {
   "cell_type": "code",
   "execution_count": null,
   "metadata": {},
   "outputs": [],
   "source": [
    "#  Short Hand If  Else\n",
    "if 'no' in l :print(\"found\") \n",
    "else: print('no')"
   ]
  },
  {
   "cell_type": "code",
   "execution_count": null,
   "metadata": {},
   "outputs": [],
   "source": [
    "#  and & or\n",
    "g=10\n",
    "if g>4 and g%2==0:\n",
    "    print('even')\n",
    "h=11\n",
    "if g>4 or g%2==0:\n",
    "    print('odd')"
   ]
  },
  {
   "cell_type": "code",
   "execution_count": null,
   "metadata": {},
   "outputs": [],
   "source": [
    "#  take two input from user and make Nested If\n",
    "age=int(input('please enter your age: '))\n",
    "gender=str(input('please enter your gender: '))\n",
    "if 30>age >18:\n",
    "    if gender=='f':\n",
    "        print(\"your adult woman\")\n",
    "    else:\n",
    "         print(\"your adult man\")\n",
    "elif 60>age>30:\n",
    "    if gender=='f':\n",
    "        print(\"your old woman\")\n",
    "    else:\n",
    "         print(\"your old man\")"
   ]
  },
  {
   "cell_type": "code",
   "execution_count": null,
   "metadata": {},
   "outputs": [],
   "source": [
    "# for loop and if in list\n",
    "l=[index*2 for index in range(1,11) if index%2==0]\n",
    "print(l)\n",
    "#  The pass Statement\n",
    "if a==b:\n",
    "    pass"
   ]
  }
 ],
 "metadata": {
  "kernelspec": {
   "display_name": "Python 3",
   "language": "python",
   "name": "python3"
  },
  "language_info": {
   "codemirror_mode": {
    "name": "ipython",
    "version": 3
   },
   "file_extension": ".py",
   "mimetype": "text/x-python",
   "name": "python",
   "nbconvert_exporter": "python",
   "pygments_lexer": "ipython3",
   "version": "3.12.8"
  }
 },
 "nbformat": 4,
 "nbformat_minor": 2
}
