{
 "cells": [
  {
   "cell_type": "markdown",
   "metadata": {},
   "source": [
    "# lesson 10 function & recurtion & lamba"
   ]
  },
  {
   "cell_type": "code",
   "execution_count": 14,
   "metadata": {},
   "outputs": [],
   "source": [
    "#  create function\n",
    "def PrintStatment():\n",
    "    print('hello samir')"
   ]
  },
  {
   "cell_type": "code",
   "execution_count": 15,
   "metadata": {},
   "outputs": [
    {
     "name": "stdout",
     "output_type": "stream",
     "text": [
      "hello samir\n"
     ]
    }
   ],
   "source": [
    "#  Calling a Function\n",
    "PrintStatment()\n"
   ]
  },
  {
   "cell_type": "code",
   "execution_count": 16,
   "metadata": {},
   "outputs": [
    {
     "name": "stdout",
     "output_type": "stream",
     "text": [
      "hello samir\n"
     ]
    }
   ],
   "source": [
    "#  0 argument \n",
    "def PrintStatment():\n",
    "    print('hello samir')\n",
    "PrintStatment()"
   ]
  },
  {
   "cell_type": "code",
   "execution_count": 17,
   "metadata": {},
   "outputs": [
    {
     "name": "stdout",
     "output_type": "stream",
     "text": [
      "0.3488888888888889\n"
     ]
    }
   ],
   "source": [
    "# 1 argument\n",
    "def CirclArea(r):\n",
    "    print(3.14/(r**2))\n",
    "CirclArea(3)"
   ]
  },
  {
   "cell_type": "code",
   "execution_count": 18,
   "metadata": {},
   "outputs": [
    {
     "name": "stdout",
     "output_type": "stream",
     "text": [
      "5\n"
     ]
    }
   ],
   "source": [
    "# 2 argument \n",
    "def SumNumber(n1,n2):\n",
    "    print(n1+n2)\n",
    "SumNumber(3,2)"
   ]
  },
  {
   "cell_type": "code",
   "execution_count": 19,
   "metadata": {},
   "outputs": [
    {
     "name": "stdout",
     "output_type": "stream",
     "text": [
      "8\n"
     ]
    }
   ],
   "source": [
    "# more argument\n",
    "def SumNumbers(n1,n2,n3):\n",
    "    print(n1+n2+n3)\n",
    "SumNumbers(3,2,3)"
   ]
  },
  {
   "cell_type": "code",
   "execution_count": 20,
   "metadata": {},
   "outputs": [
    {
     "name": "stdout",
     "output_type": "stream",
     "text": [
      "13\n"
     ]
    }
   ],
   "source": [
    "#  *args \n",
    "def SumList(*l):\n",
    "    print(sum(l))\n",
    "SumList(2,3,4,4)"
   ]
  },
  {
   "cell_type": "code",
   "execution_count": 21,
   "metadata": {},
   "outputs": [
    {
     "name": "stdout",
     "output_type": "stream",
     "text": [
      "my name is  samir\n",
      "my name is 24 and i'am samir old \n",
      "my name is samir and i'am 24 old \n",
      "('samir', 5)\n",
      "1\n"
     ]
    }
   ],
   "source": [
    "#  **kwargs\n",
    "def SumListNumber(**l):\n",
    "    print(f'my name is ',l['name'])\n",
    "SumListNumber(name='samir')"
   ]
  },
  {
   "cell_type": "code",
   "execution_count": null,
   "metadata": {},
   "outputs": [],
   "source": [
    "#  named argument\n",
    "def Info(name,age):\n",
    "    print(f'my name is {name} and i\\'am {age} old ')\n",
    "Info(24,'samir')\n",
    "Info(age=24,name='samir')"
   ]
  },
  {
   "cell_type": "code",
   "execution_count": null,
   "metadata": {},
   "outputs": [],
   "source": [
    "#  return more value and make object\n",
    "def MyName(name):\n",
    "    return name ,len(name)\n",
    "theName=MyName('samir')\n",
    "print(theName)"
   ]
  },
  {
   "cell_type": "code",
   "execution_count": null,
   "metadata": {},
   "outputs": [],
   "source": [
    "#  diffult argument\n",
    "def RetrunSumNumber(n1,n2=0):\n",
    "    return n1+n2\n",
    "theSum=RetrunSumNumber(1)\n",
    "print(theSum)"
   ]
  },
  {
   "cell_type": "code",
   "execution_count": 22,
   "metadata": {},
   "outputs": [
    {
     "name": "stdout",
     "output_type": "stream",
     "text": [
      "hello  samir  how  a\n"
     ]
    }
   ],
   "source": [
    "Char='hello @ samir ! how $ are you^&'\n",
    "def CleanChar(Char,spetail,limit=20):\n",
    "    for index in spetail:\n",
    "        Char=Char.replace(index,'')\n",
    "    limit=Char[:limit]\n",
    "    return limit\n",
    "print(CleanChar(Char,'!@#$%^&*()' ,))"
   ]
  },
  {
   "cell_type": "code",
   "execution_count": 23,
   "metadata": {},
   "outputs": [
    {
     "data": {
      "text/plain": [
       "({'!': 1,\n",
       "  '@': 3,\n",
       "  '#': 1,\n",
       "  '$': 1,\n",
       "  '%': 0,\n",
       "  '^': 0,\n",
       "  '&': 1,\n",
       "  '*': 0,\n",
       "  '(': 0,\n",
       "  ')': 0,\n",
       "  '_': 0,\n",
       "  '+': 0,\n",
       "  '-': 0,\n",
       "  ' ': 4,\n",
       "  'hello#': 6,\n",
       "  'samir@@@': 8,\n",
       "  'how$': 4,\n",
       "  'are&': 4,\n",
       "  'you!': 4},\n",
       " {'you!': 3})"
      ]
     },
     "execution_count": 23,
     "metadata": {},
     "output_type": "execute_result"
    }
   ],
   "source": [
    "#  Nested function \n",
    "def TxtDetails(txt):\n",
    "    def CountTxt(txt,CharTxt):\n",
    "        return str(txt).count(CharTxt)\n",
    "    def CountWord(word):\n",
    "        return len(word)\n",
    "    def CleanWord(word):\n",
    "        for newword in '!@#$%^&*()_+- ':\n",
    "             word=word.replace(newword,'')\n",
    "             return len(word)\n",
    "         \n",
    "    dictionayTxt={}\n",
    "    cleantxt={}\n",
    "    for char in '!@#$%^&*()_+- ':\n",
    "        dictionayTxt[char]=CountTxt(txt,char)\n",
    "    \n",
    "    for word in txt.split():\n",
    "        dictionayTxt[word]=CountWord(word)\n",
    "\n",
    "    \n",
    "    \n",
    "    cleantxt[word]=CleanWord(word)\n",
    "    return dictionayTxt,cleantxt\n",
    "\n",
    "TxtDetails('hello# samir@@@ how$ are& you!')\n",
    "\n",
    "\n"
   ]
  },
  {
   "cell_type": "code",
   "execution_count": 24,
   "metadata": {},
   "outputs": [
    {
     "data": {
      "text/plain": [
       "'republic of egypt  is a transcontinental country spanning the northeast corner of africa and the sinai peninsula in the southwest corner of asia  it is bordered by the mediterranean sea to the north  the gaza strip of palestine and israel to the northeast  the red sea to the east  sudan to the south  and libya to the west  the gulf of aqaba in the northeast separates egypt from jordan and saudi arabia  cairo is the capital and largest city of egypt  while alexandria  the second largest city  is an important industrial and tourist hub at the mediterranean coast [20] at approximately 100 million inhabitants  egypt is the 14th most populated country in the world  and the third most populated in africa '"
      ]
     },
     "execution_count": 24,
     "metadata": {},
     "output_type": "execute_result"
    }
   ],
   "source": [
    "MyText='''\n",
    "Republic of Egypt, is a transcontinental country spanning the northeast corner\n",
    " of Africa and the Sinai Peninsula in the southwest corner of Asia. It is bordered by the\n",
    " Mediterranean Sea to the north, the Gaza Strip of Palestine and Israel to the northeast,\n",
    " the Red Sea to the east, Sudan to the south, and Libya to the west. The Gulf of Aqaba in\n",
    " the northeast separates Egypt from Jordan and Saudi Arabia. Cairo is the capital and largest\n",
    " city of Egypt, while Alexandria, the second-largest city, is an important industrial and tourist\n",
    " hub at the Mediterranean coast.[20] At approximately 100 million inhabitants, Egypt is the 14th-most\n",
    " populated country in the world, and the third-most populated in Africa.\n",
    " '''\n",
    "def TextCleaning(Text, SpecialChar, Limit = 1000) :\n",
    "    Text = Text. lower()\n",
    "    for char in SpecialChar :\n",
    "        Text = Text.replace(char,' ')\n",
    "    LimitedText = Text[:Limit]\n",
    "    return LimitedText\n",
    "TextCleaning(MyText,'?.,!@#$%^&*()_+-,. ',Limit=2000)"
   ]
  },
  {
   "cell_type": "markdown",
   "metadata": {},
   "source": [
    "#  yield function"
   ]
  },
  {
   "cell_type": "code",
   "execution_count": 25,
   "metadata": {},
   "outputs": [
    {
     "name": "stdout",
     "output_type": "stream",
     "text": [
      "1\n",
      "2\n",
      "3\n",
      "4\n",
      "5\n",
      "6\n",
      "7\n",
      "8\n",
      "9\n",
      "10\n"
     ]
    }
   ],
   "source": [
    "#  yield function\n",
    "def yie():\n",
    "    for index in range(1,11):\n",
    "        yield index\n",
    "for index2 in yie():\n",
    "    print(index2) "
   ]
  },
  {
   "cell_type": "code",
   "execution_count": 26,
   "metadata": {},
   "outputs": [
    {
     "name": "stdout",
     "output_type": "stream",
     "text": [
      "1\n",
      "2\n",
      "3\n"
     ]
    }
   ],
   "source": [
    "def yie():\n",
    "    for index in range(1,11):\n",
    "        yield index\n",
    "y=yie()\n",
    "print(next(y))\n",
    "print(next(y))\n",
    "print(next(y))"
   ]
  },
  {
   "cell_type": "markdown",
   "metadata": {},
   "source": [
    "# fabonatchi"
   ]
  },
  {
   "cell_type": "code",
   "execution_count": 27,
   "metadata": {},
   "outputs": [
    {
     "name": "stdout",
     "output_type": "stream",
     "text": [
      "[1, 1, 2, 3, 5, 8, 13, 21, 34, 55, 89, 144, 233, 377, 610, 987, 1597, 2584, 4181]\n",
      "1\n",
      "1\n",
      "2\n",
      "3\n",
      "5\n",
      "8\n",
      "13\n",
      "21\n",
      "34\n",
      "55\n",
      "89\n"
     ]
    }
   ],
   "source": [
    "#fabonatchi\n",
    "def fabonatchi(number):\n",
    "    a=b=1\n",
    "    reselut=[]\n",
    "    for index in range(1,number):\n",
    "        reselut.append(a)\n",
    "        a,b=b,a+b\n",
    "    return reselut\n",
    "print(fabonatchi(20))"
   ]
  },
  {
   "cell_type": "code",
   "execution_count": null,
   "metadata": {},
   "outputs": [],
   "source": [
    "# fabonatchi by yield\n",
    "def y(n):\n",
    "    a=b=1\n",
    "    for index in range(n):\n",
    "        yield a\n",
    "        a,b=b,a+b\n",
    "for index2 in y(11):\n",
    "    print(index2)"
   ]
  },
  {
   "cell_type": "markdown",
   "metadata": {},
   "source": [
    "# recurtion"
   ]
  },
  {
   "cell_type": "code",
   "execution_count": 28,
   "metadata": {},
   "outputs": [
    {
     "data": {
      "text/plain": [
       "6"
      ]
     },
     "execution_count": 28,
     "metadata": {},
     "output_type": "execute_result"
    }
   ],
   "source": [
    "# recurtion\n",
    "def factorial(x):\n",
    "# This is a recursive functionto find the factorial of an integer\n",
    "    if x == 1:\n",
    "        return 1\n",
    "    else:\n",
    "        return (x * factorial(x-1))\n",
    "factorial(3)"
   ]
  },
  {
   "cell_type": "markdown",
   "metadata": {},
   "source": [
    "# lamba"
   ]
  },
  {
   "cell_type": "code",
   "execution_count": 29,
   "metadata": {},
   "outputs": [
    {
     "name": "stdout",
     "output_type": "stream",
     "text": [
      "<class 'function'>\n",
      "102\n",
      "5\n",
      "[2, 4, 56, 54, 2]\n",
      "[True, False, False, True, True, True, True, False, False]\n"
     ]
    }
   ],
   "source": [
    "# Syntax lamba\n",
    "f=lambda a:a+100\n",
    "print(type(f))\n",
    "print(f(2))"
   ]
  },
  {
   "cell_type": "code",
   "execution_count": null,
   "metadata": {},
   "outputs": [],
   "source": [
    "# lamba make prossing in two number\n",
    "f2=lambda a,b:a+b\n",
    "print(f2(2,3))"
   ]
  },
  {
   "cell_type": "code",
   "execution_count": null,
   "metadata": {},
   "outputs": [],
   "source": [
    "# list in lamba\n",
    "l=[lambda a:a*1,lambda a:a*2,lambda a:a*3]\n",
    "l[2](1)"
   ]
  },
  {
   "cell_type": "code",
   "execution_count": null,
   "metadata": {},
   "outputs": [],
   "source": [
    "# filtter by lamba from list or set even or odd\n",
    "l2=[2,3,1,4,56,54,2,45,23]\n",
    "la=list(filter(lambda a:a%2==0 ,l2))\n",
    "print(la)"
   ]
  },
  {
   "cell_type": "code",
   "execution_count": null,
   "metadata": {},
   "outputs": [],
   "source": [
    "# map by lamba from list or set even or odd\n",
    "l3=list(map(lambda a:a%2==0 ,l2))\n",
    "print(l3)"
   ]
  }
 ],
 "metadata": {
  "kernelspec": {
   "display_name": "Python 3",
   "language": "python",
   "name": "python3"
  },
  "language_info": {
   "codemirror_mode": {
    "name": "ipython",
    "version": 3
   },
   "file_extension": ".py",
   "mimetype": "text/x-python",
   "name": "python",
   "nbconvert_exporter": "python",
   "pygments_lexer": "ipython3",
   "version": "3.12.8"
  }
 },
 "nbformat": 4,
 "nbformat_minor": 2
}
