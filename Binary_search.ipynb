{
 "cells": [
  {
   "cell_type": "code",
   "execution_count": 1,
   "id": "d8fa197b",
   "metadata": {},
   "outputs": [],
   "source": [
    "def binary_search(arr, target):\n",
    "    \"\"\"\n",
    "    Perform binary search on a sorted array\n",
    "    Returns the index of the target if found, otherwise -1\n",
    "    \"\"\"\n",
    "    left = 0\n",
    "    right = len(arr) - 1\n",
    "\n",
    "    while left <= right:\n",
    "        # Calculate mid point\n",
    "        mid = (left + right) // 2\n",
    "\n",
    "        # Check if target is present at mid\n",
    "        if arr[mid] == target:\n",
    "            return mid\n",
    "        \n",
    "        # If target is greater, ignore left half\n",
    "        elif arr[mid] < target:\n",
    "            left = mid + 1\n",
    "        \n",
    "        # If target is smaller, ignore right half\n",
    "        else:\n",
    "            right = mid - 1\n",
    "\n",
    "    # Target was not found\n",
    "    return -1"
   ]
  },
  {
   "cell_type": "code",
   "execution_count": 2,
   "id": "87d266f5",
   "metadata": {},
   "outputs": [],
   "source": [
    "# Sorted array\n",
    "numbers = [5, 10, 15, 20, 25, 30, 35, 40, 45, 50]"
   ]
  },
  {
   "cell_type": "code",
   "execution_count": 3,
   "id": "94800e52",
   "metadata": {},
   "outputs": [],
   "source": [
    "# Search for different targets\n",
    "targets = [25, 55, 15]"
   ]
  },
  {
   "cell_type": "code",
   "execution_count": 4,
   "id": "e3a4d0e5",
   "metadata": {},
   "outputs": [
    {
     "name": "stdout",
     "output_type": "stream",
     "text": [
      "25 found at index 4\n",
      "55 not found in the list\n",
      "15 found at index 2\n"
     ]
    }
   ],
   "source": [
    "for target in targets:\n",
    "        result = binary_search(numbers, target)\n",
    "        if result != -1:\n",
    "            print(f\"{target} found at index {result}\")\n",
    "        else:\n",
    "            print(f\"{target} not found in the list\")"
   ]
  }
 ],
 "metadata": {
  "kernelspec": {
   "display_name": "Python 3",
   "language": "python",
   "name": "python3"
  },
  "language_info": {
   "codemirror_mode": {
    "name": "ipython",
    "version": 3
   },
   "file_extension": ".py",
   "mimetype": "text/x-python",
   "name": "python",
   "nbconvert_exporter": "python",
   "pygments_lexer": "ipython3",
   "version": "3.13.5"
  }
 },
 "nbformat": 4,
 "nbformat_minor": 5
}
