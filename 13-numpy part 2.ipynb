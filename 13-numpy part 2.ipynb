{
 "cells": [
  {
   "cell_type": "markdown",
   "metadata": {},
   "source": [
    "# lesson 12 numpy part 2"
   ]
  },
  {
   "cell_type": "code",
   "execution_count": 57,
   "metadata": {},
   "outputs": [],
   "source": [
    "import numpy as np"
   ]
  },
  {
   "cell_type": "code",
   "execution_count": 58,
   "metadata": {},
   "outputs": [
    {
     "name": "stdout",
     "output_type": "stream",
     "text": [
      "[[13  5  7]\n",
      " [19 11 13]\n",
      " [ 5 16  7]]\n",
      "-------------------------\n",
      "19\n",
      "-------------------------\n",
      "5\n",
      "-------------------------\n",
      "3\n",
      "-------------------------\n",
      "1\n"
     ]
    }
   ],
   "source": [
    "# max and min\n",
    "a =np.random.randint(5,20, size=9).reshape(3,3)\n",
    "print(a)\n",
    "print('-------------------------')\n",
    "b = np.max(a)\n",
    "print(b)\n",
    "print('-------------------------')\n",
    "c = np.min(a)\n",
    "print(c)\n",
    "print('-------------------------')\n",
    "d = np.argmax(a)\n",
    "print(d)\n",
    "print('-------------------------')\n",
    "e = np.argmin(a)\n",
    "print(e)"
   ]
  },
  {
   "cell_type": "code",
   "execution_count": 59,
   "metadata": {},
   "outputs": [
    {
     "name": "stdout",
     "output_type": "stream",
     "text": [
      "[[15 12 10]\n",
      " [ 9 13 10]\n",
      " [13 18 17]]\n",
      "-------------------------\n",
      "8.88888888888889\n",
      "-------------------------\n",
      "[[ 6.33333333 -1.83333333 -5.5       ]\n",
      " [-1.83333333  4.33333333  4.5       ]\n",
      " [-5.5         4.5         7.        ]]\n"
     ]
    }
   ],
   "source": [
    "# Variance and Covariance\n",
    "a =np.random.randint(5,20, size=9).reshape(3,3)\n",
    "print(a)\n",
    "print('-------------------------')\n",
    "b = np.var(a)\n",
    "print(b)\n",
    "print('-------------------------')\n",
    "c = np.cov(a)\n",
    "print(c)"
   ]
  },
  {
   "cell_type": "code",
   "execution_count": 60,
   "metadata": {},
   "outputs": [
    {
     "name": "stdout",
     "output_type": "stream",
     "text": [
      "[[10  6 17]\n",
      " [18 13 19]\n",
      " [11 18 15]]\n",
      "-------------------------\n",
      "[[17 12  8]\n",
      " [ 8 14 14]\n",
      " [ 9 14 12]]\n",
      "-------------------------\n",
      "[[27 18 25]\n",
      " [26 27 33]\n",
      " [20 32 27]]\n",
      "-------------------------\n",
      "[[-7 -6  9]\n",
      " [10 -1  5]\n",
      " [ 2  4  3]]\n"
     ]
    }
   ],
   "source": [
    "# + - \n",
    "a =np.random.randint(5,20, size=9).reshape(3,3)\n",
    "print(a)\n",
    "print('-------------------------')\n",
    "b =np.random.randint(5,20, size=9).reshape(3,3)\n",
    "print(b)\n",
    "print('-------------------------')\n",
    "c = a+b\n",
    "print(c)\n",
    "print('-------------------------')\n",
    "d = a-b\n",
    "print(d)\n"
   ]
  },
  {
   "cell_type": "code",
   "execution_count": 61,
   "metadata": {},
   "outputs": [
    {
     "name": "stdout",
     "output_type": "stream",
     "text": [
      "[[ 5 12 15]\n",
      " [14 19 14]\n",
      " [10 17 11]]\n",
      "-------------------------\n",
      "[[ 9 19 11]\n",
      " [19  8 13]\n",
      " [11 15  6]]\n",
      "-------------------------\n",
      "[[ 45 228 165]\n",
      " [266 152 182]\n",
      " [110 255  66]]\n",
      "-------------------------\n",
      "[[0.55555556 0.63157895 1.36363636]\n",
      " [0.73684211 2.375      1.07692308]\n",
      " [0.90909091 1.13333333 1.83333333]]\n"
     ]
    }
   ],
   "source": [
    "# * /\n",
    "a =np.random.randint(5,20, size=9).reshape(3,3)\n",
    "print(a)\n",
    "print('-------------------------')\n",
    "b =np.random.randint(5,20, size=9).reshape(3,3)\n",
    "print(b)\n",
    "print('-------------------------')\n",
    "c = a*b\n",
    "print(c)\n",
    "print('-------------------------')\n",
    "d = a/b\n",
    "print(d)"
   ]
  },
  {
   "cell_type": "code",
   "execution_count": 62,
   "metadata": {},
   "outputs": [
    {
     "name": "stdout",
     "output_type": "stream",
     "text": [
      "[[ 7 17 18]\n",
      " [ 8  6 17]\n",
      " [14 10 13]]\n",
      "-------------------------\n",
      "[[ 6 13 16]\n",
      " [18  5 17]\n",
      " [11 13 18]]\n",
      "-------------------------\n",
      "[[21 51 54]\n",
      " [24 18 51]\n",
      " [42 30 39]]\n",
      "-------------------------\n",
      "[[1.2 2.6 3.2]\n",
      " [3.6 1.  3.4]\n",
      " [2.2 2.6 3.6]]\n"
     ]
    }
   ],
   "source": [
    "# Dividing and multiplying the matrix by a number\n",
    "a =np.random.randint(5,20, size=9).reshape(3,3)\n",
    "print(a)\n",
    "print('-------------------------')\n",
    "b =np.random.randint(5,20, size=9).reshape(3,3)\n",
    "print(b)\n",
    "print('-------------------------')\n",
    "c = a*3\n",
    "print(c)\n",
    "print('-------------------------')\n",
    "d = b/5\n",
    "print(d)"
   ]
  },
  {
   "cell_type": "code",
   "execution_count": 63,
   "metadata": {},
   "outputs": [
    {
     "name": "stdout",
     "output_type": "stream",
     "text": [
      "[[15 11  8]\n",
      " [12 10 16]\n",
      " [12  7  8]]\n",
      "-------------------------\n",
      "[[ 9  7 16]\n",
      " [ 9  7 18]\n",
      " [10 17  8]]\n",
      "-------------------------\n",
      "[[ 0.65028784 -0.99999021  0.98935825]\n",
      " [-0.53657292 -0.54402111 -0.28790332]\n",
      " [-0.53657292  0.6569866   0.98935825]]\n",
      "-------------------------\n",
      "[[ 81  49 256]\n",
      " [ 81  49 324]\n",
      " [100 289  64]]\n",
      "-------------------------\n",
      "[[2.7080502  2.39789527 2.07944154]\n",
      " [2.48490665 2.30258509 2.77258872]\n",
      " [2.48490665 1.94591015 2.07944154]]\n"
     ]
    }
   ],
   "source": [
    "# function matrix\n",
    "a =np.random.randint(5,20, size=9).reshape(3,3)\n",
    "print(a)\n",
    "print('-------------------------')\n",
    "b =np.random.randint(5,20, size=9).reshape(3,3)\n",
    "print(b)\n",
    "print('-------------------------')\n",
    "c = np.sin(a)\n",
    "print(c)\n",
    "print('-------------------------')\n",
    "d = b**2\n",
    "print(d)\n",
    "print('-------------------------')\n",
    "e = np.log(a)\n",
    "print(e)"
   ]
  },
  {
   "cell_type": "code",
   "execution_count": 64,
   "metadata": {},
   "outputs": [
    {
     "name": "stdout",
     "output_type": "stream",
     "text": [
      "[[2 3 1]\n",
      " [1 1 2]\n",
      " [1 3 1]]\n",
      "-------------------------\n",
      "[[3 1 3]\n",
      " [1 2 2]\n",
      " [2 3 1]]\n",
      "-------------------------\n",
      "[[11 11 13]\n",
      " [ 8  9  7]\n",
      " [ 8 10 10]]\n"
     ]
    }
   ],
   "source": [
    "# dot\n",
    "a =np.random.randint(1,4, size=9).reshape(3,3)\n",
    "print(a)\n",
    "print('-------------------------')\n",
    "b =np.random.randint(1,4, size=9).reshape(3,3)\n",
    "print(b)\n",
    "print('-------------------------')\n",
    "c = np.dot(a,b)\n",
    "print(c)"
   ]
  },
  {
   "cell_type": "code",
   "execution_count": 65,
   "metadata": {},
   "outputs": [
    {
     "name": "stdout",
     "output_type": "stream",
     "text": [
      "[[ 6 12 19]\n",
      " [16 12 16]\n",
      " [ 9 13  5]]\n",
      "-------------------------\n",
      "108\n",
      "-------------------------\n",
      "108\n",
      "-------------------------\n",
      "[37 44 27]\n",
      "-------------------------\n",
      "[31 37 40]\n"
     ]
    }
   ],
   "source": [
    "# sum\n",
    "a =np.random.randint(5,20, size=9).reshape(3,3)\n",
    "print(a)\n",
    "print('-------------------------')\n",
    "b = sum(a)\n",
    "print(b)\n",
    "print('-------------------------')\n",
    "c = a.sum()\n",
    "print(c)\n",
    "print('-------------------------')\n",
    "d = a.sum(axis = 1)\n",
    "print(d)\n",
    "print('-------------------------')\n",
    "e = a.sum(axis = 0)\n",
    "print(e)\n"
   ]
  },
  {
   "cell_type": "code",
   "execution_count": 66,
   "metadata": {},
   "outputs": [
    {
     "name": "stdout",
     "output_type": "stream",
     "text": [
      "[[14 17 15]\n",
      " [18 18 13]\n",
      " [ 7  8  7]]\n",
      "-------------------------\n",
      "13.0\n",
      "-------------------------\n",
      "4.320493798938574\n",
      "-------------------------\n",
      "18.666666666666668\n"
     ]
    }
   ],
   "source": [
    "# mean and std and var\n",
    "a =np.random.randint(5,20, size=9).reshape(3,3)\n",
    "print(a)\n",
    "print('-------------------------')\n",
    "b = a.mean()\n",
    "print(b)\n",
    "print('-------------------------')\n",
    "c = a.std()\n",
    "print(c)\n",
    "print('-------------------------')\n",
    "d = a.var()\n",
    "print(d)"
   ]
  },
  {
   "cell_type": "code",
   "execution_count": 67,
   "metadata": {},
   "outputs": [
    {
     "name": "stdout",
     "output_type": "stream",
     "text": [
      "[[18  9 19]\n",
      " [ 7 14 12]\n",
      " [13 14  6]]\n",
      "-------------------------\n",
      "[[ 1.         -0.65465367 -0.66647385]\n",
      " [-0.65465367  1.         -0.12725695]\n",
      " [-0.66647385 -0.12725695  1.        ]]\n"
     ]
    }
   ],
   "source": [
    "# corrcoef\n",
    "a =np.random.randint(5,20, size=9).reshape(3,3)\n",
    "print(a)\n",
    "print('-------------------------')\n",
    "b = np.corrcoef(a)\n",
    "print(b)"
   ]
  },
  {
   "cell_type": "code",
   "execution_count": 68,
   "metadata": {},
   "outputs": [
    {
     "name": "stdout",
     "output_type": "stream",
     "text": [
      "[[11 15  8]\n",
      " [19 17 10]\n",
      " [19 11 14]]\n",
      "-------------------------\n",
      "[[11 11  8]\n",
      " [19 15 10]\n",
      " [19 17 14]]\n",
      "-------------------------\n",
      "[[ 8 11 15]\n",
      " [10 17 19]\n",
      " [11 14 19]]\n"
     ]
    }
   ],
   "source": [
    "# sort Row and Columns\n",
    "a =np.random.randint(5,20, size=9).reshape(3,3)\n",
    "print(a)\n",
    "print('-------------------------')\n",
    "b = np.sort(a,axis=0)\n",
    "print(b)\n",
    "print('-------------------------')\n",
    "c = np.sort(a,axis=1)\n",
    "print(c)"
   ]
  },
  {
   "cell_type": "code",
   "execution_count": 69,
   "metadata": {},
   "outputs": [
    {
     "name": "stdout",
     "output_type": "stream",
     "text": [
      "[[2 1 3]\n",
      " [2 3 3]\n",
      " [2 2 2]]\n",
      "-------------------------\n",
      "[[ 0.  -1.   1.5]\n",
      " [-0.5  0.5  0. ]\n",
      " [ 0.5  0.5 -1. ]]\n",
      "-------------------------\n",
      "[[1. 0. 0.]\n",
      " [0. 1. 0.]\n",
      " [0. 0. 1.]]\n"
     ]
    }
   ],
   "source": [
    "# inv\n",
    "a =np.random.randint(1,4, size=9).reshape(3,3)\n",
    "print(a)\n",
    "print('-------------------------')\n",
    "b = np.linalg.inv(a)\n",
    "print(b)\n",
    "print('-------------------------')\n",
    "c = np.dot(a,b)\n",
    "print(c)"
   ]
  },
  {
   "cell_type": "code",
   "execution_count": 70,
   "metadata": {},
   "outputs": [
    {
     "name": "stdout",
     "output_type": "stream",
     "text": [
      "5.5 - 4.5 (-1.0 + 0.01111111x)\n",
      "-------------------------\n",
      "[array([5.62063395e-30]), np.int32(2), array([1., 1.]), np.float64(2.220446049250313e-15)]\n"
     ]
    }
   ],
   "source": [
    "# Polynomial\n",
    "Polynomial = np.polynomial.Polynomial\n",
    "X= np.array([0,20,40,60,80,100,120,140,160,180])\n",
    "Y= np.array([10,9,8,7,6,5,4,3,2,1])\n",
    "points,stats = Polynomial.fit(X,Y,1,full=True)\n",
    "print(points)\n",
    "print('-------------------------')\n",
    "print(stats)\n"
   ]
  },
  {
   "cell_type": "code",
   "execution_count": 71,
   "metadata": {},
   "outputs": [
    {
     "name": "stdout",
     "output_type": "stream",
     "text": [
      " \n",
      "-7\n",
      "-------------------------\n",
      " \n",
      "-7 x + 2\n",
      "-------------------------\n",
      "    2\n",
      "-7 x + 2 x + 1\n",
      "-------------------------\n",
      "    3     2\n",
      "-7 x + 2 x + 1 x + 3\n",
      "-------------------------\n",
      "    4     3     2\n",
      "-7 x + 2 x + 1 x + 3 x + 6\n"
     ]
    }
   ],
   "source": [
    "# Poly\n",
    "a = np.poly1d((-7))\n",
    "print(a)\n",
    "print('-------------------------')\n",
    "b = np.poly1d((-7,2))\n",
    "print(b)\n",
    "print('-------------------------')\n",
    "c = np.poly1d((-7,2,1))\n",
    "print(c)\n",
    "print('-------------------------')\n",
    "d = np.poly1d((-7,2,1,3))\n",
    "print(d)\n",
    "print('-------------------------')\n",
    "e = np.poly1d((-7,2,1,3,6))\n",
    "print(e)\n"
   ]
  },
  {
   "cell_type": "code",
   "execution_count": 72,
   "metadata": {},
   "outputs": [
    {
     "name": "stdout",
     "output_type": "stream",
     "text": [
      "    4     3     2\n",
      "-7 x + 2 x + 1 x + 3 x + 6\n",
      "-------------------------\n",
      "-4079\n",
      "-------------------------\n",
      "6\n",
      "-------------------------\n",
      "-360939\n"
     ]
    }
   ],
   "source": [
    "# make x equal number\n",
    "a = np.poly1d((-7,2,1,3,6))\n",
    "print(a)\n",
    "print('-------------------------')\n",
    "b=a(5)\n",
    "print(b)\n",
    "print('-------------------------')\n",
    "c=a(0)\n",
    "print(c)\n",
    "print('-------------------------')\n",
    "d=a(-15)\n",
    "print(d)"
   ]
  },
  {
   "cell_type": "code",
   "execution_count": 73,
   "metadata": {},
   "outputs": [
    {
     "name": "stdout",
     "output_type": "stream",
     "text": [
      "-4079\n"
     ]
    }
   ],
   "source": [
    "# the same order\n",
    "a= np.polyval((-7,2,1,3,6),5)\n",
    "# a = polyval((1,2),2)\n",
    "# b = polyval((1,2,3),7)\n",
    "# c = polyval((1,2,3,5),-3)\n",
    "# d = polyval((1,2,3,5,-6),12.6)\n",
    "\n",
    "print(a)\n",
    "# print('-------------------------')\n",
    "# print(b)\n",
    "# print('-------------------------')\n",
    "# print(c)\n",
    "# print('-------------------------')\n",
    "# print(d)\n"
   ]
  },
  {
   "cell_type": "code",
   "execution_count": 74,
   "metadata": {},
   "outputs": [
    {
     "name": "stdout",
     "output_type": "stream",
     "text": [
      "   2\n",
      "1 x + 2 x + 3\n",
      "-------------------------\n",
      " \n",
      "2 x + 2\n"
     ]
    }
   ],
   "source": [
    "# derivation\n",
    "a1=np.poly1d((1,2,3))\n",
    "print(a1)\n",
    "a =np.polyder(a1)\n",
    "print('-------------------------')\n",
    "print(a)"
   ]
  },
  {
   "cell_type": "code",
   "execution_count": 75,
   "metadata": {},
   "outputs": [
    {
     "name": "stdout",
     "output_type": "stream",
     "text": [
      "6\n",
      "-------------------------\n",
      "2\n",
      "-------------------------\n",
      "0\n",
      "-------------------------\n",
      "1\n",
      "-------------------------\n",
      "132\n"
     ]
    }
   ],
   "source": [
    "#  make x equal number in derivation\n",
    "a =np.polyder(np.poly1d((1,2,3)))\n",
    "print(a(2))\n",
    "print('-------------------------')\n",
    "b =np.polyder(np.poly1d((1,2,3)),2)\n",
    "print(b(0))\n",
    "print('-------------------------')\n",
    "c =np.polyder(np.poly1d((1,2,3)),3)\n",
    "print(c(3))\n",
    "print('-------------------------')\n",
    "d =np.polyder(np.poly1d((1,2,3,5,12)))\n",
    "print(d(-1))\n",
    "print('-------------------------')\n",
    "e =np.polyder(np.poly1d((1,2,3,5,12)),3)\n",
    "print(e(5))"
   ]
  },
  {
   "cell_type": "code",
   "execution_count": 76,
   "metadata": {},
   "outputs": [
    {
     "name": "stdout",
     "output_type": "stream",
     "text": [
      "        3     2\n",
      "0.3333 x + 1 x + 3 x\n",
      "-------------------------\n",
      "         4          3       2\n",
      "0.08333 x + 0.3333 x + 1.5 x\n",
      "-------------------------\n",
      "         5           4       3\n",
      "0.01667 x + 0.08333 x + 0.5 x\n",
      "-------------------------\n",
      "     5       4     3       2\n",
      "0.2 x + 0.5 x + 1 x + 2.5 x + 12 x\n",
      "-------------------------\n",
      "          7           6        5          4     3\n",
      "0.004762 x + 0.01667 x + 0.05 x + 0.2083 x + 2 x\n"
     ]
    }
   ],
   "source": [
    "# Integration\n",
    "a =np.polyint(np.poly1d((1,2,3)))\n",
    "print(a)\n",
    "print('-------------------------')\n",
    "b =np.polyint(np.poly1d((1,2,3)),2)\n",
    "print(b)\n",
    "print('-------------------------')\n",
    "c =np.polyint(np.poly1d((1,2,3)),3)\n",
    "print(c)\n",
    "print('-------------------------')\n",
    "d =np.polyint(np.poly1d((1,2,3,5,12)))\n",
    "print(d)\n",
    "print('-------------------------')\n",
    "e =np.polyint(np.poly1d((1,2,3,5,12)),3)\n",
    "print(e)"
   ]
  },
  {
   "cell_type": "code",
   "execution_count": 77,
   "metadata": {},
   "outputs": [
    {
     "name": "stdout",
     "output_type": "stream",
     "text": [
      "12.666666666666666\n",
      "-------------------------\n",
      "0.0\n",
      "-------------------------\n",
      "24.300000000000004\n",
      "-------------------------\n",
      "-10.2\n",
      "-------------------------\n",
      "1168.8988095238094\n"
     ]
    }
   ],
   "source": [
    "# make x equal number in Integration\n",
    "a =np.polyint(np.poly1d((1,2,3)))\n",
    "print(a(2))\n",
    "print('-------------------------')\n",
    "b =np.polyint(np.poly1d((1,2,3)),2)\n",
    "print(b(0))\n",
    "print('-------------------------')\n",
    "c =np.polyint(np.poly1d((1,2,3)),3)\n",
    "print(c(3))\n",
    "print('-------------------------')\n",
    "d =np.polyint(np.poly1d((1,2,3,5,12)))\n",
    "print(d(-1))\n",
    "print('-------------------------')\n",
    "e =np.polyint(np.poly1d((1,2,3,5,12)),3)\n",
    "print(e(5))"
   ]
  },
  {
   "cell_type": "code",
   "execution_count": 78,
   "metadata": {},
   "outputs": [
    {
     "name": "stdout",
     "output_type": "stream",
     "text": [
      "[-2.]\n",
      "-------------------------\n",
      "[-1.+1.41421356j -1.-1.41421356j]\n",
      "-------------------------\n",
      "[-1.84373428+0.j         -0.07813286+1.64492638j -0.07813286-1.64492638j]\n",
      "-------------------------\n",
      "[-1.61635728+1.15083694j -1.61635728-1.15083694j  0.61635728+1.63342631j\n",
      "  0.61635728-1.63342631j]\n",
      "-------------------------\n",
      "[ 0.98732723+1.53502015j  0.98732723-1.53502015j -1.06743101+1.56536107j\n",
      " -1.06743101-1.56536107j -1.83979245+0.j        ]\n",
      "-------------------------\n",
      "   4     3     2\n",
      "1 x + 2 x + 3 x + 4 x + 4\n",
      "-------------------------\n",
      "[ 0.20710678+1.39896633j  0.20710678-1.39896633j -1.20710678+0.73681288j\n",
      " -1.20710678-0.73681288j]\n"
     ]
    }
   ],
   "source": [
    "# roots\n",
    "a =np.roots(np.poly1d((1,2)))\n",
    "print(a)\n",
    "print('-------------------------')\n",
    "b =np.roots(np.poly1d((1,2,3)))\n",
    "print(b)\n",
    "print('-------------------------')\n",
    "c =np.roots(np.poly1d((1,2,3,5)))\n",
    "print(c)\n",
    "print('-------------------------')\n",
    "d =np.roots(np.poly1d((1,2,3,5,12)))\n",
    "print(d)\n",
    "print('-------------------------')\n",
    "e =np.roots(np.poly1d((1,2,3,5,12,22)))\n",
    "print(e)\n",
    "print('-------------------------')\n",
    "a=np.poly1d((1,2,3,4,4))\n",
    "print(a)\n",
    "print('-------------------------')\n",
    "a1=np.roots(a)\n",
    "print(a1)"
   ]
  },
  {
   "cell_type": "code",
   "execution_count": 79,
   "metadata": {},
   "outputs": [
    {
     "name": "stdout",
     "output_type": "stream",
     "text": [
      "[3 6 2 5 4]\n",
      "-------------------------\n",
      "[ 2.   3.  -9.   6.   2.5]\n",
      "-------------------------\n",
      "[  0.33333333  -5.78571429  31.95238095 -52.1       ]\n"
     ]
    }
   ],
   "source": [
    "# polyfit\n",
    "x = np.array([3,6,2,5,4])\n",
    "print(x)\n",
    "print('-------------------------')\n",
    "y = np.array([2,3,-9,6,2.5])\n",
    "print(y)\n",
    "print('-------------------------')\n",
    "z = np.polyfit(x, y,3)\n",
    "print(z)"
   ]
  },
  {
   "cell_type": "code",
   "execution_count": 80,
   "metadata": {},
   "outputs": [
    {
     "name": "stdout",
     "output_type": "stream",
     "text": [
      "2015-07-04\n"
     ]
    }
   ],
   "source": [
    "# Formulation Date\n",
    "x = np.array('2015-07-04', dtype=datetime64)\n",
    "print(x)"
   ]
  },
  {
   "cell_type": "code",
   "execution_count": 81,
   "metadata": {},
   "outputs": [
    {
     "name": "stdout",
     "output_type": "stream",
     "text": [
      "2015-07-04\n"
     ]
    }
   ],
   "source": [
    "# Example\n",
    "x = np.datetime64('2015-07-04')\n",
    "print(x)"
   ]
  },
  {
   "cell_type": "code",
   "execution_count": 82,
   "metadata": {},
   "outputs": [
    {
     "name": "stdout",
     "output_type": "stream",
     "text": [
      "2015-07-04\n",
      "-------------------------\n",
      "['2015-07-04' '2015-07-05' '2015-07-06' '2015-07-07' '2015-07-08'\n",
      " '2015-07-09' '2015-07-10' '2015-07-11' '2015-07-12' '2015-07-13'\n",
      " '2015-07-14' '2015-07-15']\n"
     ]
    }
   ],
   "source": [
    "# Increased days\n",
    "x = np.datetime64('2015-07-04')\n",
    "print(x)\n",
    "print('-------------------------')\n",
    "y = x + np.arange(12)\n",
    "print(y)"
   ]
  },
  {
   "cell_type": "code",
   "execution_count": 83,
   "metadata": {},
   "outputs": [
    {
     "name": "stdout",
     "output_type": "stream",
     "text": [
      "2015-07-04\n",
      "-------------------------\n",
      "['2015-07-04' '2015-07-03' '2015-07-02' '2015-07-01' '2015-06-30'\n",
      " '2015-06-29' '2015-06-28' '2015-06-27' '2015-06-26' '2015-06-25'\n",
      " '2015-06-24' '2015-06-23']\n"
     ]
    }
   ],
   "source": [
    "# decrease days\n",
    "x = np.datetime64('2015-07-04')\n",
    "print(x)\n",
    "print('-------------------------')\n",
    "y = x - np.arange(12)\n",
    "print(y)"
   ]
  },
  {
   "cell_type": "code",
   "execution_count": 84,
   "metadata": {},
   "outputs": [
    {
     "name": "stdout",
     "output_type": "stream",
     "text": [
      "2015-07-04\n",
      "-------------------------\n",
      "2018-09-21\n",
      "-------------------------\n",
      "[  0.33333333  -5.78571429  31.95238095 -52.1       ]\n"
     ]
    }
   ],
   "source": [
    "# Difference of days\n",
    "X = np.datetime64('2015-07-04')\n",
    "print(x)\n",
    "print('-------------------------')\n",
    "y = np.datetime64('2018-09-21')\n",
    "print(y)\n",
    "print('-------------------------')\n",
    "Z = y-x\n",
    "print(z)"
   ]
  },
  {
   "cell_type": "code",
   "execution_count": 85,
   "metadata": {},
   "outputs": [
    {
     "name": "stdout",
     "output_type": "stream",
     "text": [
      "[  0.   1.   8.  27.  64. 125. 216. 343. 512. 729.]\n"
     ]
    }
   ],
   "source": [
    "# Numpy Function\n",
    "# fromfunction\n",
    "x = np.fromfunction(lambda i: i**3, (10,))\n",
    "print(x)"
   ]
  },
  {
   "cell_type": "code",
   "execution_count": 86,
   "metadata": {},
   "outputs": [
    {
     "name": "stdout",
     "output_type": "stream",
     "text": [
      "[ 375.  648. 1029. 1536. 2187. 3000. 3993. 5184. 6591. 8232.]\n"
     ]
    }
   ],
   "source": [
    "# 1D\n",
    "x = np.fromfunction(lambda i: 3 * (i+5)**3, (10,))\n",
    "print(x)"
   ]
  },
  {
   "cell_type": "code",
   "execution_count": 87,
   "metadata": {},
   "outputs": [
    {
     "name": "stdout",
     "output_type": "stream",
     "text": [
      "[[0. 1. 2. 3. 4.]\n",
      " [1. 2. 3. 4. 5.]\n",
      " [2. 3. 4. 5. 6.]\n",
      " [3. 4. 5. 6. 7.]]\n"
     ]
    }
   ],
   "source": [
    "# 2D\n",
    "x = np.fromfunction(lambda i,j: i+j, (4,5))\n",
    "print(x)"
   ]
  },
  {
   "cell_type": "code",
   "execution_count": 88,
   "metadata": {},
   "outputs": [
    {
     "name": "stdout",
     "output_type": "stream",
     "text": [
      "[[ 0.  0.  0.  0.  0.]\n",
      " [ 0.  3.  6.  9. 12.]\n",
      " [ 0.  6. 12. 18. 24.]\n",
      " [ 0.  9. 18. 27. 36.]]\n"
     ]
    }
   ],
   "source": [
    "# Example\n",
    "x = np.fromfunction(lambda i,j: 3*i*j, (4,5))\n",
    "print(x)"
   ]
  },
  {
   "cell_type": "code",
   "execution_count": 89,
   "metadata": {},
   "outputs": [
    {
     "name": "stdout",
     "output_type": "stream",
     "text": [
      "[[[0. 1. 2. 3.]\n",
      "  [1. 2. 3. 4.]\n",
      "  [2. 3. 4. 5.]]\n",
      "\n",
      " [[1. 2. 3. 4.]\n",
      "  [2. 3. 4. 5.]\n",
      "  [3. 4. 5. 6.]]]\n"
     ]
    }
   ],
   "source": [
    "# 3D\n",
    "x = np.fromfunction(lambda i,j,k: i+j+k, (2,3,4))\n",
    "print(x)"
   ]
  },
  {
   "cell_type": "code",
   "execution_count": 90,
   "metadata": {},
   "outputs": [
    {
     "name": "stdout",
     "output_type": "stream",
     "text": [
      "[[[ 0.  0.  0.  0.]\n",
      "  [ 0.  1.  2.  3.]\n",
      "  [ 0.  4.  8. 12.]]\n",
      "\n",
      " [[ 2.  2.  2.  2.]\n",
      "  [ 2.  3.  4.  5.]\n",
      "  [ 2.  6. 10. 14.]]]\n"
     ]
    }
   ],
   "source": [
    "# Example\n",
    "x = np.fromfunction(lambda i,j,k: (2*i)+(j**2)*k, (2,3,4))\n",
    "print(x)"
   ]
  },
  {
   "cell_type": "code",
   "execution_count": 91,
   "metadata": {},
   "outputs": [
    {
     "name": "stdout",
     "output_type": "stream",
     "text": [
      "[ 0  1  4  9 16 25 36 49 64]\n"
     ]
    }
   ],
   "source": [
    "# different way\n",
    "def powers(i):\n",
    "    i = i**2\n",
    "    return i\n",
    "x = np.fromfunction(powers, (9,), dtype=int)\n",
    "print(x)"
   ]
  },
  {
   "cell_type": "code",
   "execution_count": 92,
   "metadata": {},
   "outputs": [
    {
     "name": "stdout",
     "output_type": "stream",
     "text": [
      "[[ 1  0  0  0  0]\n",
      " [ 1  1  1  1  1]\n",
      " [ 1  2  4  8 16]\n",
      " [ 1  3  9 27 81]]\n"
     ]
    }
   ],
   "source": [
    "# Example\n",
    "def powers(i,j):\n",
    "    i = i**j\n",
    "    return i\n",
    "x = np.fromfunction(powers, (4,5), dtype=int)\n",
    "print(x)"
   ]
  }
 ],
 "metadata": {
  "kernelspec": {
   "display_name": "Python 3",
   "language": "python",
   "name": "python3"
  },
  "language_info": {
   "codemirror_mode": {
    "name": "ipython",
    "version": 3
   },
   "file_extension": ".py",
   "mimetype": "text/x-python",
   "name": "python",
   "nbconvert_exporter": "python",
   "pygments_lexer": "ipython3",
   "version": "3.12.9"
  }
 },
 "nbformat": 4,
 "nbformat_minor": 2
}
