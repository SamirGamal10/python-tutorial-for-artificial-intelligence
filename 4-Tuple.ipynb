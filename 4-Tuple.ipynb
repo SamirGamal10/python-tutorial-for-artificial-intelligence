{
 "cells": [
  {
   "cell_type": "markdown",
   "metadata": {},
   "source": [
    "# lesson 4 Tuple"
   ]
  },
  {
   "cell_type": "markdown",
   "metadata": {},
   "source": [
    "# tuple"
   ]
  },
  {
   "cell_type": "code",
   "execution_count": null,
   "metadata": {},
   "outputs": [
    {
     "name": "stdout",
     "output_type": "stream",
     "text": [
      "('samir', 'hassan', 'gamal', 'samir')\n",
      "(1, 2, 3, 4, 5, 6)\n",
      "(1, 2, 2, 2, 3, 3, 4, 4, 5, 6, 6)\n",
      "<class 'tuple'>\n",
      "<class 'str'>\n",
      "(1, 2, 3, 'samir', 'hassan', 'gamal', False, 3.4)\n",
      "(1, 2, 3)\n",
      "(2, 3, 'samir', 'hassan')\n",
      "h\n",
      "[1, 2, 3, 'samir', 'hassan', 'gamal', False, 3.4, 'samir']\n",
      "apple\n",
      "['banana', 'orange']\n",
      "2\n",
      "0\n"
     ]
    }
   ],
   "source": [
    "#  tuple\n",
    "#  Create a Tuple\n",
    "t=('samir','hassan','gamal','samir')\n",
    "print(t)"
   ]
  },
  {
   "cell_type": "code",
   "execution_count": null,
   "metadata": {},
   "outputs": [],
   "source": [
    "#  Constructor\n",
    "newTuple=tuple((1, 2, 3, 4, 5, 6))\n",
    "print(newTuple)"
   ]
  },
  {
   "cell_type": "code",
   "execution_count": null,
   "metadata": {},
   "outputs": [],
   "source": [
    "#  duplicate and length\n",
    "newTuple1=tuple((1, 2, 2, 2, 3, 3, 4, 4, 5, 6, 6))\n",
    "print(newTuple1)"
   ]
  },
  {
   "cell_type": "code",
   "execution_count": null,
   "metadata": {},
   "outputs": [],
   "source": [
    "#  if you Create one item tuple don't forget the comma\n",
    "t1=('samir',)\n",
    "print(type(t1))\n",
    "t2=('samir')\n",
    "print(type(t2))"
   ]
  },
  {
   "cell_type": "code",
   "execution_count": null,
   "metadata": {},
   "outputs": [],
   "source": [
    "#  tuple can carry differint data type\n",
    "t3=(1,2,3,'samir','hassan','gamal',False,3.4)\n",
    "print(t3)"
   ]
  },
  {
   "cell_type": "code",
   "execution_count": null,
   "metadata": {},
   "outputs": [],
   "source": [
    "#  Slicing tuple\n",
    "print(t3[0:3])\n",
    "print(t3[1:5])\n",
    "print(t3[4][0])"
   ]
  },
  {
   "cell_type": "code",
   "execution_count": null,
   "metadata": {},
   "outputs": [],
   "source": [
    "#  update if need to change item or remove or delete\n",
    "# tuple dont allow to chane but if you need change you can transform tuple to list\n",
    "newTuple2=list(t3)\n",
    "newTuple2.append('samir')\n",
    "print(newTuple2)"
   ]
  },
  {
   "cell_type": "code",
   "execution_count": null,
   "metadata": {},
   "outputs": [],
   "source": [
    "#  Unpacking a tuple & Using Asterisk*\n",
    "fruits=['apple','banana','orange']\n",
    "x,*z=fruits\n",
    "print(x)\n",
    "print(z)"
   ]
  },
  {
   "cell_type": "code",
   "execution_count": null,
   "metadata": {},
   "outputs": [],
   "source": [
    "#  tuple Method\t\n",
    "#     count()\tReturns the number of times a specified value occurs in a tuple\n",
    "print(t.count('samir'))"
   ]
  },
  {
   "cell_type": "code",
   "execution_count": null,
   "metadata": {},
   "outputs": [],
   "source": [
    "#     index()\tSearches the tuple for a specified value and returns the position of where it was found\n",
    "print(t.index('samir'))"
   ]
  }
 ],
 "metadata": {
  "language_info": {
   "name": "python"
  }
 },
 "nbformat": 4,
 "nbformat_minor": 2
}
