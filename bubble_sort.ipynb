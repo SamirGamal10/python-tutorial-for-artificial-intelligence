{
 "cells": [
  {
   "cell_type": "code",
   "execution_count": 13,
   "id": "92d15617",
   "metadata": {},
   "outputs": [],
   "source": [
    "def bubble_sort(arr):\n",
    "    # Get the length of the array\n",
    "    n = len(arr)\n",
    "    \n",
    "    # Outer loop for passes\n",
    "    for i in range(n):\n",
    "        # Flag to optimize the algorithm\n",
    "        # If no swapping occurs in a pass, array is already sorted\n",
    "        swapped = False\n",
    "        # Inner loop for comparisons and swapping\n",
    "        # Each pass will move the largest unsorted element to its correct position\n",
    "        for j in range(0, n - i - 1):\n",
    "            # Compare adjacent elements\n",
    "            if arr[j] > arr[j + 1]:\n",
    "                # Swap elements if they are in the wrong order\n",
    "                arr[j], arr[j + 1] = arr[j + 1], arr[j]\n",
    "                swapped = True\n",
    "        \n",
    "        # If no swapping occurred, array is already sorted\n",
    "        # Break out of the loop to save unnecessary iterations\n",
    "        if not swapped:\n",
    "            break\n",
    "    \n",
    "    return arr"
   ]
  },
  {
   "cell_type": "code",
   "execution_count": 14,
   "id": "49c18892",
   "metadata": {},
   "outputs": [
    {
     "name": "stdout",
     "output_type": "stream",
     "text": [
      "Original array: [64, 34, 25, 12, 22, 11, 90]\n"
     ]
    }
   ],
   "source": [
    "# Example usage\n",
    "# Test the bubble sort algorithm\n",
    "arr1 = [64, 34, 25, 12, 22, 11, 90]\n",
    "print(\"Original array:\", arr1)"
   ]
  },
  {
   "cell_type": "code",
   "execution_count": 15,
   "id": "d1898080",
   "metadata": {},
   "outputs": [
    {
     "name": "stdout",
     "output_type": "stream",
     "text": [
      "Sorted array: [11, 12, 22, 25, 34, 64, 90]\n"
     ]
    }
   ],
   "source": [
    "sorted_arr = bubble_sort(arr1)\n",
    "print(\"Sorted array:\", sorted_arr)"
   ]
  }
 ],
 "metadata": {
  "kernelspec": {
   "display_name": "Python 3",
   "language": "python",
   "name": "python3"
  },
  "language_info": {
   "codemirror_mode": {
    "name": "ipython",
    "version": 3
   },
   "file_extension": ".py",
   "mimetype": "text/x-python",
   "name": "python",
   "nbconvert_exporter": "python",
   "pygments_lexer": "ipython3",
   "version": "3.13.5"
  }
 },
 "nbformat": 4,
 "nbformat_minor": 5
}
