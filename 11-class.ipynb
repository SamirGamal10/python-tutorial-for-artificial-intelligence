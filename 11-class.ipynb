{
 "cells": [
  {
   "cell_type": "markdown",
   "metadata": {},
   "source": [
    "# lesson 11 class"
   ]
  },
  {
   "cell_type": "code",
   "execution_count": 1,
   "metadata": {},
   "outputs": [],
   "source": [
    "# Create a simple Class\n",
    "class Info():\n",
    "    name ='samir'\n",
    "    age=24\n",
    "    heght=181"
   ]
  },
  {
   "cell_type": "code",
   "execution_count": 2,
   "metadata": {},
   "outputs": [
    {
     "name": "stdout",
     "output_type": "stream",
     "text": [
      "samir\n",
      "24\n",
      "181\n",
      "cs\n",
      "samir\n",
      "0\n",
      "5\n",
      "hill object was Deleted\n",
      "4\n",
      "the user count is 4\n",
      "Hello For you\n",
      "3\n"
     ]
    }
   ],
   "source": [
    "# make object\n",
    "Info1=Info()"
   ]
  },
  {
   "cell_type": "code",
   "execution_count": 3,
   "metadata": {},
   "outputs": [
    {
     "name": "stdout",
     "output_type": "stream",
     "text": [
      "samir\n",
      "24\n",
      "181\n",
      "cs\n",
      "samir\n",
      "0\n",
      "5\n",
      "hill object was Deleted\n",
      "4\n",
      "the user count is 4\n",
      "Hello For you\n",
      "3\n"
     ]
    }
   ],
   "source": [
    "# append attrbute\n",
    "Info1.college='cs'\n",
    "print(Info1.name)\n",
    "print(Info1.age)\n",
    "print(Info1.heght)\n",
    "print(Info1.college)"
   ]
  },
  {
   "cell_type": "code",
   "execution_count": null,
   "metadata": {},
   "outputs": [],
   "source": [
    "# function in class\n",
    "class Myname():\n",
    "    def FirstName(name):\n",
    "        return name\n",
    "print(Myname.FirstName('samir'))"
   ]
  },
  {
   "cell_type": "code",
   "execution_count": 4,
   "metadata": {},
   "outputs": [
    {
     "name": "stdout",
     "output_type": "stream",
     "text": [
      "0\n",
      "5\n",
      "hill object was Deleted\n",
      "4\n",
      "the user count is 4\n",
      "Hello For you\n",
      "3\n"
     ]
    }
   ],
   "source": [
    "# The __init__() Function &  self & attribute class & count if deleted object\n",
    "class MyInfo():\n",
    "    # attribute class\n",
    "    NonAvialbleName=['hill','dog','cat']\n",
    "    CountObject=0\n",
    "    # class method\n",
    "    @classmethod\n",
    "    def ShowUserCount(cls):\n",
    "        return f'the user count is {cls.CountObject}'\n",
    "    # static method\n",
    "    @staticmethod\n",
    "    def PrintHello():\n",
    "        return f'Hello For you'\n",
    "    # The __init__() Function &  self\n",
    "    def __init__(self,FirstName,SeconName,LastName,age,Hieght):\n",
    "        self.FirstName=FirstName\n",
    "        self.SeconName=SeconName\n",
    "        self.LastName=LastName\n",
    "        self.age=age\n",
    "        self.Hieght=Hieght\n",
    "        # count object\n",
    "        MyInfo.CountObject+=1\n",
    "    def MYFirstName(self):\n",
    "        if self.FirstName in MyInfo.NonAvialbleName:\n",
    "            return f'non avalble name please replace the name'\n",
    "        else:\n",
    "            return f'My name is {self.FirstName}'\n",
    "    def Title(self):\n",
    "        return f'hello Mr {self.FirstName}'\n",
    "    def GetTitileAndName(self):\n",
    "        return f'{self.Title} {self.FirstName}'\n",
    "    def FullName(self):\n",
    "        return f'{self.FirstName} {self.SeconName} {self.LastName}'\n",
    "    def AllInFoAboutMy(self):\n",
    "        return f'my name is {self.FullName()} your age is {self.age} and your height is {self.Hieght}'\n",
    "    # count if deleted object\n",
    "    def DeletedObject(self):\n",
    "        MyInfo.CountObject-=1\n",
    "        return f'{self.FirstName} object was Deleted'\n",
    "print(MyInfo.CountObject)\n",
    "info=MyInfo('hill','abc','abc',24,181)\n",
    "info1=MyInfo('hill','abc','abc',24,181)\n",
    "info2=MyInfo('hill','abc','abc',24,181)\n",
    "info3=MyInfo('hill','abc','abc',24,181)\n",
    "info4=MyInfo('hill','abc','abc',24,181)\n",
    "print(MyInfo.CountObject)\n",
    "print(info1.DeletedObject())\n",
    "print(MyInfo.CountObject)\n",
    "print(MyInfo.ShowUserCount())\n",
    "print(MyInfo.PrintHello())\n",
    "# magic class\n",
    "str.upper('samir') \n",
    "print(len(info1.NonAvialbleName))"
   ]
  }
 ],
 "metadata": {
  "kernelspec": {
   "display_name": "Python 3",
   "language": "python",
   "name": "python3"
  },
  "language_info": {
   "codemirror_mode": {
    "name": "ipython",
    "version": 3
   },
   "file_extension": ".py",
   "mimetype": "text/x-python",
   "name": "python",
   "nbconvert_exporter": "python",
   "pygments_lexer": "ipython3",
   "version": "3.12.8"
  }
 },
 "nbformat": 4,
 "nbformat_minor": 2
}
