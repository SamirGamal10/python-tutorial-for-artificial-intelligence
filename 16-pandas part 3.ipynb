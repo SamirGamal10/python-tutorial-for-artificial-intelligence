{
 "cells": [
  {
   "cell_type": "markdown",
   "metadata": {},
   "source": [
    "# lesson 16 pandas part 3"
   ]
  },
  {
   "cell_type": "code",
   "execution_count": 122,
   "metadata": {},
   "outputs": [],
   "source": [
    "import pandas as pd"
   ]
  },
  {
   "cell_type": "code",
   "execution_count": 123,
   "metadata": {},
   "outputs": [
    {
     "name": "stdout",
     "output_type": "stream",
     "text": [
      "California  2000    10000\n",
      "            2010    15000\n",
      "New York    2000    20000\n",
      "            2010    25000\n",
      "Texas       2000    30000\n",
      "            2010    35000\n",
      "dtype: int64\n"
     ]
    }
   ],
   "source": [
    "# MultiIndex\n",
    "index = [('California', 2000),('California', 2010),\n",
    "('New York', 2000),('New York', 2010),\n",
    "('Texas', 2000),('Texas', 2010)]\n",
    "populations = [10000,15000,\n",
    "20000,25000,\n",
    "30000,35000]\n",
    "index = pd.MultiIndex.from_tuples(index)\n",
    "pop = pd.Series(populations, index=index)\n",
    "pop = pop.reindex(index)\n",
    "print(pop)"
   ]
  },
  {
   "cell_type": "code",
   "execution_count": 124,
   "metadata": {},
   "outputs": [
    {
     "name": "stdout",
     "output_type": "stream",
     "text": [
      "California    15000\n",
      "New York      25000\n",
      "Texas         35000\n",
      "dtype: int64\n"
     ]
    }
   ],
   "source": [
    "# specific year\n",
    "index = [('California', 2000),('California', 2010),\n",
    "('New York', 2000),('New York', 2010),\n",
    "('Texas', 2000),('Texas', 2010)]\n",
    "populations = [10000,15000,\n",
    "20000,25000,\n",
    "30000,35000]\n",
    "index = pd.MultiIndex.from_tuples(index)\n",
    "pop = pd.Series(populations, index=index)\n",
    "pop = pop.reindex(index)\n",
    "print(pop[:, 2010])"
   ]
  },
  {
   "cell_type": "code",
   "execution_count": 125,
   "metadata": {},
   "outputs": [
    {
     "name": "stdout",
     "output_type": "stream",
     "text": [
      "             2000   2010\n",
      "California  10000  15000\n",
      "New York    20000  25000\n",
      "Texas       30000  35000\n"
     ]
    }
   ],
   "source": [
    "# unstack\n",
    "index = [('California', 2000),('California', 2010),\n",
    "('New York', 2000),('New York', 2010),\n",
    "('Texas', 2000),('Texas', 2010)]\n",
    "populations = [10000,15000,\n",
    "20000,25000,\n",
    "30000,35000]\n",
    "index = pd.MultiIndex.from_tuples(index)\n",
    "pop = pd.Series(populations, index=index)\n",
    "pop = pop.reindex(index)\n",
    "print(pop.unstack())"
   ]
  },
  {
   "cell_type": "code",
   "execution_count": 126,
   "metadata": {},
   "outputs": [
    {
     "name": "stdout",
     "output_type": "stream",
     "text": [
      "California  2000    10000\n",
      "            2010    15000\n",
      "New York    2000    20000\n",
      "            2010    25000\n",
      "Texas       2000    30000\n",
      "            2010    35000\n",
      "dtype: int64\n",
      "                 total  under18\n",
      "California 2000  10000  9267089\n",
      "           2010  15000  9284094\n",
      "New York   2000  20000  4687374\n",
      "           2010  25000  4318033\n",
      "Texas      2000  30000  5906301\n",
      "           2010  35000  6879014\n"
     ]
    }
   ],
   "source": [
    "# Increase a column\n",
    "index = [('California', 2000),('California', 2010),\n",
    "('New York', 2000),('New York', 2010),\n",
    "('Texas', 2000),('Texas', 2010)]\n",
    "populations = [10000,15000,\n",
    "20000,25000,\n",
    "30000,35000]\n",
    "index = pd.MultiIndex.from_tuples(index)\n",
    "pop = pd.Series(populations, index=index)\n",
    "pop = pop.reindex(index)\n",
    "pop_df = pd.DataFrame({'total': pop,\n",
    "'under18':[9267089, 9284094,4687374,\n",
    "4318033,5906301, 6879014]})\n",
    "print(pop)\n",
    "print(pop_df)"
   ]
  },
  {
   "cell_type": "code",
   "execution_count": 127,
   "metadata": {},
   "outputs": [
    {
     "name": "stdout",
     "output_type": "stream",
     "text": [
      "       income    profit\n",
      "a 1  0.470247  0.591000\n",
      "  2  0.031114  0.254534\n",
      "b 1  0.474064  0.634420\n",
      "  2  0.479457  0.306482\n"
     ]
    }
   ],
   "source": [
    "# dataframe\n",
    "import numpy as np\n",
    "df = pd.DataFrame(np.random.rand(4, 2),\n",
    "index=[['a', 'a', 'b', 'b'],\n",
    "[1, 2, 1, 2]],columns=['income', 'profit'])\n",
    "print(df)"
   ]
  },
  {
   "cell_type": "code",
   "execution_count": 128,
   "metadata": {},
   "outputs": [
    {
     "name": "stdout",
     "output_type": "stream",
     "text": [
      "California  2000    10000\n",
      "            2010    15000\n",
      "Texas       2000    20000\n",
      "            2010    25000\n",
      "New York    2000    30000\n",
      "            2010    35000\n",
      "dtype: int64\n"
     ]
    }
   ],
   "source": [
    "# Examples\n",
    "data = {('California', 2000): 10000,('California', 2010):15000,\n",
    "('Texas', 2000): 20000,('Texas', 2010): 25000,\n",
    "('New York', 2000): 30000,('New York', 2010): 35000}\n",
    "df = pd.Series(data)\n",
    "print(df)"
   ]
  },
  {
   "cell_type": "code",
   "execution_count": 129,
   "metadata": {},
   "outputs": [
    {
     "name": "stdout",
     "output_type": "stream",
     "text": [
      "subject     Bob      Guido       Sue     \n",
      "type         HR Temp    HR Temp   HR Temp\n",
      "year visit                               \n",
      "2013 1      1.0  1.0   1.0  1.0 -0.0 -0.0\n",
      "     2     -1.0  2.0   2.0  1.0  1.0  2.0\n",
      "2014 1     -0.0 -1.0  -0.0 -1.0  0.0  0.0\n",
      "     2     -1.0 -0.0  -1.0  0.0  1.0  1.0\n"
     ]
    }
   ],
   "source": [
    "# Overlapping data\n",
    "import numpy as np\n",
    "index = pd.MultiIndex.from_product([[2013, 2014],[1, 2]],\n",
    "names=['year', 'visit'])\n",
    "columns = pd.MultiIndex.from_product([['Bob', 'Guido', 'Sue'],\n",
    "['HR', 'Temp']],\n",
    "names=['subject', 'type'])\n",
    "data = np.round(np.random.randn(4, 6))\n",
    "health_data = pd.DataFrame(data, index=index, columns=columns)\n",
    "print(health_data)"
   ]
  },
  {
   "cell_type": "code",
   "execution_count": 130,
   "metadata": {},
   "outputs": [
    {
     "name": "stdout",
     "output_type": "stream",
     "text": [
      "year  visit\n",
      "2013  1       -0.0\n",
      "      2        1.0\n",
      "2014  1        0.0\n",
      "      2        3.0\n",
      "Name: (Guido, HR), dtype: float64\n"
     ]
    }
   ],
   "source": [
    "# Slicing\n",
    "import numpy as np\n",
    "index = pd.MultiIndex.from_product([[2013, 2014],[1, 2]],\n",
    "names=['year', 'visit'])\n",
    "columns = pd.MultiIndex.from_product([['Bob', 'Guido', 'Sue'],\n",
    "['HR', 'Temp']],\n",
    "names=['subject', 'type'])\n",
    "data = np.round(np.random.randn(4, 6))\n",
    "health_data = pd.DataFrame(data, index=index, columns=columns)\n",
    "print(health_data['Guido', 'HR'])"
   ]
  },
  {
   "cell_type": "code",
   "execution_count": 131,
   "metadata": {},
   "outputs": [
    {
     "name": "stdout",
     "output_type": "stream",
     "text": [
      "year  visit\n",
      "2013  1        1.0\n",
      "      2        1.0\n",
      "2014  1       -1.0\n",
      "      2       -0.0\n",
      "Name: (Bob, HR), dtype: float64\n"
     ]
    }
   ],
   "source": [
    "# loc\n",
    "import numpy as np\n",
    "index = pd.MultiIndex.from_product([[2013, 2014],[1, 2]],\n",
    "names=['year', 'visit'])\n",
    "columns = pd.MultiIndex.from_product([['Bob', 'Guido', 'Sue'],\n",
    "['HR', 'Temp']],\n",
    "names=['subject', 'type'])\n",
    "data = np.round(np.random.randn(4, 6))\n",
    "health_data = pd.DataFrame(data, index=index, columns=columns)\n",
    "print(health_data.loc[:, ('Bob', 'HR')])"
   ]
  },
  {
   "cell_type": "code",
   "execution_count": 132,
   "metadata": {},
   "outputs": [
    {
     "name": "stdout",
     "output_type": "stream",
     "text": [
      "subject     Bob Guido  Sue\n",
      "type         HR    HR   HR\n",
      "year visit                \n",
      "2013 1      0.0  -0.0  0.0\n",
      "2014 1     -0.0  -0.0 -2.0\n"
     ]
    }
   ],
   "source": [
    "# Slicing\n",
    "import numpy as np\n",
    "index = pd.MultiIndex.from_product([[2013, 2014],[1, 2]],\n",
    "names=['year', 'visit'])\n",
    "columns = pd.MultiIndex.from_product([['Bob', 'Guido', 'Sue'],\n",
    "['HR', 'Temp']],\n",
    "names=['subject', 'type'])\n",
    "data = np.round(np.random.randn(4, 6))\n",
    "health_data = pd.DataFrame(data, index=index, columns=columns)\n",
    "idx = pd.IndexSlice\n",
    "print(health_data.loc[idx[:, 1], idx[:, 'HR']])"
   ]
  },
  {
   "cell_type": "code",
   "execution_count": 133,
   "metadata": {},
   "outputs": [
    {
     "name": "stdout",
     "output_type": "stream",
     "text": [
      "0    5\n",
      "1    4\n",
      "2    4\n",
      "3    2\n",
      "4    1\n",
      "dtype: int64\n",
      "0     True\n",
      "1    False\n",
      "2    False\n",
      "3    False\n",
      "4    False\n",
      "dtype: bool\n",
      "0    False\n",
      "1    False\n",
      "2     True\n",
      "3    False\n",
      "4    False\n",
      "dtype: bool\n"
     ]
    }
   ],
   "source": [
    "# Examples\n",
    "data = ['peter', 'Paul', 'MARY', '15' , ' ' ]\n",
    "print( pd.Series(data).str.len()) # length\n",
    "print( pd.Series(data).str.startswith('p'))# is it start with \"p\"\n",
    "print( pd.Series(data).str.endswith('Y')) #does is end with \"r\""
   ]
  },
  {
   "cell_type": "code",
   "execution_count": 134,
   "metadata": {},
   "outputs": [
    {
     "name": "stdout",
     "output_type": "stream",
     "text": [
      "0    2\n",
      "1   -1\n",
      "2   -1\n",
      "3   -1\n",
      "4   -1\n",
      "dtype: int64\n",
      "0   -1\n",
      "1   -1\n",
      "2    1\n",
      "3   -1\n",
      "4   -1\n",
      "dtype: int64\n"
     ]
    }
   ],
   "source": [
    "# Search for a character\n",
    "data = ['peter', 'Paul', 'MARY', '15' , ' ' ]\n",
    "print( pd.Series(data).str.find('t')) # find this letter\n",
    "print( pd.Series(data).str.rfind('A'))# find it from right"
   ]
  },
  {
   "cell_type": "code",
   "execution_count": 135,
   "metadata": {},
   "outputs": [
    {
     "name": "stdout",
     "output_type": "stream",
     "text": [
      "0                   peter\n",
      "1                    Paul\n",
      "2                    MARY\n",
      "3                      15\n",
      "4                        \n",
      "dtype: object\n",
      "0    peter                                         ...\n",
      "1    Paul                                          ...\n",
      "2    MARY                                          ...\n",
      "3    15                                            ...\n",
      "4                                                  ...\n",
      "dtype: object\n"
     ]
    }
   ],
   "source": [
    "# rjust and ljust\n",
    "data = ['peter', 'Paul', 'MARY', '15' , ' ' ]\n",
    "print( pd.Series(data).str.rjust(20))# adjust from right\n",
    "print( pd.Series(data).str.ljust(50))# adjust from left"
   ]
  },
  {
   "cell_type": "code",
   "execution_count": 136,
   "metadata": {},
   "outputs": [
    {
     "name": "stdout",
     "output_type": "stream",
     "text": [
      "0      peter   \n",
      "1       Paul   \n",
      "2       MARY   \n",
      "3        15    \n",
      "4              \n",
      "dtype: object\n",
      "0    peter\n",
      "1    0Paul\n",
      "2    0MARY\n",
      "3    00015\n",
      "4    0000 \n",
      "dtype: object\n"
     ]
    }
   ],
   "source": [
    "# zfill and center\n",
    "data = ['peter', 'Paul', 'MARY', '15' , ' ' ]\n",
    "print( pd.Series(data).str.center(10))# make it center\n",
    "print( pd.Series(data).str.zfill(5))# fill zeros"
   ]
  },
  {
   "cell_type": "code",
   "execution_count": 137,
   "metadata": {},
   "outputs": [
    {
     "name": "stdout",
     "output_type": "stream",
     "text": [
      "0    False\n",
      "1    False\n",
      "2     True\n",
      "3    False\n",
      "4    False\n",
      "dtype: bool\n",
      "0     True\n",
      "1    False\n",
      "2    False\n",
      "3    False\n",
      "4    False\n",
      "dtype: bool\n",
      "0    False\n",
      "1     True\n",
      "2    False\n",
      "3    False\n",
      "4    False\n",
      "dtype: bool\n",
      "0    False\n",
      "1    False\n",
      "2    False\n",
      "3    False\n",
      "4     True\n",
      "dtype: bool\n",
      "0    False\n",
      "1    False\n",
      "2    False\n",
      "3     True\n",
      "4    False\n",
      "dtype: bool\n",
      "0     True\n",
      "1     True\n",
      "2     True\n",
      "3    False\n",
      "4    False\n",
      "dtype: bool\n",
      "0     True\n",
      "1     True\n",
      "2     True\n",
      "3     True\n",
      "4    False\n",
      "dtype: bool\n",
      "0    False\n",
      "1    False\n",
      "2    False\n",
      "3     True\n",
      "4    False\n",
      "dtype: bool\n",
      "0    False\n",
      "1    False\n",
      "2    False\n",
      "3     True\n",
      "4    False\n",
      "dtype: bool\n",
      "0    PETER\n",
      "1     PAUL\n",
      "2     MARY\n",
      "3       15\n",
      "4         \n",
      "dtype: object\n",
      "0    Peter\n",
      "1     Paul\n",
      "2     Mary\n",
      "3       15\n",
      "4         \n",
      "dtype: object\n",
      "0    peter\n",
      "1     paul\n",
      "2     mary\n",
      "3       15\n",
      "4         \n",
      "dtype: object\n",
      "0    PETER\n",
      "1     pAUL\n",
      "2     mary\n",
      "3       15\n",
      "4         \n",
      "dtype: object\n"
     ]
    }
   ],
   "source": [
    "# ● فحص حاالت الكلمات\n",
    "data = ['peter', 'Paul', 'MARY', '15' , ' ' ]\n",
    "# is it all calpital\n",
    "print( pd.Series(data).str.isupper())\n",
    "# is it lower ?\n",
    "print( pd.Series(data).str.islower())\n",
    "# is like like \"This\"\n",
    "print( pd.Series(data).str.istitle())\n",
    "# is it all spaces ?\n",
    "print( pd.Series(data).str.isspace())\n",
    "# is it numbers ?\n",
    "print( pd.Series(data).str.isdigit())\n",
    "# is it all letters ?\n",
    "print( pd.Series(data).str.isalpha())\n",
    "# is it not got any spaces ?\n",
    "print( pd.Series(data).str.isalnum())\n",
    "# is it decimals ?\n",
    "print( pd.Series(data).str.isdecimal())\n",
    "# is it number\n",
    "print( pd.Series(data).str.isnumeric())\n",
    "# make it capital\n",
    "print( pd.Series(data).str.upper())\n",
    "# make it like 'This'\n",
    "print( pd.Series(data).str.capitalize())\n",
    "# make it lower\n",
    "print( pd.Series(data).str.lower())\n",
    "# switch capital & small\n",
    "print( pd.Series(data).str.swapcase())"
   ]
  },
  {
   "cell_type": "code",
   "execution_count": 138,
   "metadata": {},
   "outputs": [
    {
     "name": "stdout",
     "output_type": "stream",
     "text": [
      "2018-07-04 00:00:00\n"
     ]
    }
   ],
   "source": [
    "# to_datetime\n",
    "x = pd.to_datetime(\"4th of July, 2018\")\n",
    "print(x)"
   ]
  },
  {
   "cell_type": "code",
   "execution_count": 139,
   "metadata": {},
   "outputs": [
    {
     "name": "stdout",
     "output_type": "stream",
     "text": [
      "2018-07-04 00:00:00\n",
      "DatetimeIndex(['2018-07-04', '2018-07-05', '2018-07-06', '2018-07-07',\n",
      "               '2018-07-08', '2018-07-09', '2018-07-10', '2018-07-11',\n",
      "               '2018-07-12', '2018-07-13', '2018-07-14', '2018-07-15',\n",
      "               '2018-07-16', '2018-07-17', '2018-07-18', '2018-07-19',\n",
      "               '2018-07-20', '2018-07-21', '2018-07-22', '2018-07-23'],\n",
      "              dtype='datetime64[ns]', freq=None)\n"
     ]
    }
   ],
   "source": [
    "# Increased days\n",
    "import numpy as np\n",
    "x = pd.to_datetime(\"4th of July, 2018\")\n",
    "y = x + pd.to_timedelta(np.arange(20),'D')\n",
    "print(x)\n",
    "print(y)"
   ]
  },
  {
   "cell_type": "code",
   "execution_count": 140,
   "metadata": {},
   "outputs": [
    {
     "name": "stdout",
     "output_type": "stream",
     "text": [
      "2018-07-04 00:00:00\n",
      "DatetimeIndex(['2018-07-04', '2018-07-03', '2018-07-02', '2018-07-01',\n",
      "               '2018-06-30', '2018-06-29', '2018-06-28', '2018-06-27',\n",
      "               '2018-06-26', '2018-06-25', '2018-06-24', '2018-06-23',\n",
      "               '2018-06-22', '2018-06-21', '2018-06-20', '2018-06-19',\n",
      "               '2018-06-18', '2018-06-17', '2018-06-16', '2018-06-15'],\n",
      "              dtype='datetime64[ns]', freq=None)\n"
     ]
    }
   ],
   "source": [
    "# Reduce days\n",
    "import numpy as np\n",
    "x = pd.to_datetime(\"4th of July, 2018\")\n",
    "y = x - pd.to_timedelta(np.arange(20),'D')\n",
    "print(x)\n",
    "print(y)"
   ]
  },
  {
   "cell_type": "code",
   "execution_count": 141,
   "metadata": {},
   "outputs": [
    {
     "name": "stdout",
     "output_type": "stream",
     "text": [
      "2014-07-04    0\n",
      "2014-08-04    1\n",
      "2015-07-04    2\n",
      "2015-08-04    3\n",
      "dtype: int64\n"
     ]
    }
   ],
   "source": [
    "# Series\n",
    "index = pd.DatetimeIndex(['2014-07-04', '2014-08-04',\n",
    "'2015-07-04','2015-08-04'])\n",
    "data = pd.Series([0, 1, 2, 3], index=index)\n",
    "print(data)"
   ]
  },
  {
   "cell_type": "code",
   "execution_count": 142,
   "metadata": {},
   "outputs": [
    {
     "name": "stdout",
     "output_type": "stream",
     "text": [
      "2011-03-12    0\n",
      "2012-08-21    1\n",
      "dtype: int64\n"
     ]
    }
   ],
   "source": [
    "# Specific days\n",
    "index = pd.DatetimeIndex(['2011-03-12', '2012-08-21',\n",
    "'2013-07-11','2014-11-08'])\n",
    "data = pd.Series([0, 1, 2, 3], index=index)\n",
    "print(data['2011-01-01':'2012-12-31'])"
   ]
  },
  {
   "cell_type": "code",
   "execution_count": 143,
   "metadata": {},
   "outputs": [
    {
     "name": "stdout",
     "output_type": "stream",
     "text": [
      "2012-08-21    1\n",
      "dtype: int64\n"
     ]
    }
   ],
   "source": [
    "# Specific year\n",
    "index = pd.DatetimeIndex(['2011-03-12', '2012-08-21',\n",
    "'2013-07-11','2014-11-08'])\n",
    "data = pd.Series([0, 1, 2, 3], index=index)\n",
    "print(data['2012'])"
   ]
  },
  {
   "cell_type": "code",
   "execution_count": 144,
   "metadata": {},
   "outputs": [
    {
     "name": "stdout",
     "output_type": "stream",
     "text": [
      "2012-08-21    1\n",
      "dtype: int64\n"
     ]
    }
   ],
   "source": [
    "# Specific month\n",
    "index = pd.DatetimeIndex(['2011-03-12', '2012-08-21',\n",
    "'2013-07-11','2014-11-08'])\n",
    "data = pd.Series([0, 1, 2, 3], index=index)\n",
    "print(data['2012-08'])"
   ]
  },
  {
   "cell_type": "code",
   "execution_count": 145,
   "metadata": {},
   "outputs": [
    {
     "name": "stdout",
     "output_type": "stream",
     "text": [
      "DatetimeIndex(['2011-12-25', '2011-12-26', '2011-12-27', '2011-12-28',\n",
      "               '2011-12-29', '2011-12-30', '2011-12-31', '2012-01-01',\n",
      "               '2012-01-02', '2012-01-03', '2012-01-04', '2012-01-05',\n",
      "               '2012-01-06', '2012-01-07', '2012-01-08'],\n",
      "              dtype='datetime64[ns]', freq='D')\n"
     ]
    }
   ],
   "source": [
    "# from day to day\n",
    "data = pd.date_range('2011-12-25', '2012-01-08')\n",
    "print(data)"
   ]
  },
  {
   "cell_type": "code",
   "execution_count": 146,
   "metadata": {},
   "outputs": [
    {
     "name": "stdout",
     "output_type": "stream",
     "text": [
      "DatetimeIndex(['2011-12-25', '2011-12-26', '2011-12-27', '2011-12-28',\n",
      "               '2011-12-29', '2011-12-30', '2011-12-31', '2012-01-01'],\n",
      "              dtype='datetime64[ns]', freq='D')\n"
     ]
    }
   ],
   "source": [
    "# number of day\n",
    "data = pd.date_range('2011-12-25', periods=8)\n",
    "print(data)"
   ]
  },
  {
   "cell_type": "code",
   "execution_count": 147,
   "metadata": {},
   "outputs": [
    {
     "name": "stdout",
     "output_type": "stream",
     "text": [
      "DatetimeIndex(['2011-12-25 00:00:00', '2011-12-25 01:00:00',\n",
      "               '2011-12-25 02:00:00', '2011-12-25 03:00:00',\n",
      "               '2011-12-25 04:00:00', '2011-12-25 05:00:00',\n",
      "               '2011-12-25 06:00:00', '2011-12-25 07:00:00'],\n",
      "              dtype='datetime64[ns]', freq='h')\n"
     ]
    },
    {
     "name": "stderr",
     "output_type": "stream",
     "text": [
      "C:\\Users\\sjama\\AppData\\Local\\Temp\\ipykernel_3272\\1593526837.py:2: FutureWarning: 'H' is deprecated and will be removed in a future version, please use 'h' instead.\n",
      "  data = pd.date_range('2011-12-25', periods=8, freq='H')\n"
     ]
    }
   ],
   "source": [
    "# number of hour\n",
    "data = pd.date_range('2011-12-25', periods=8, freq='H')\n",
    "print(data)"
   ]
  },
  {
   "cell_type": "code",
   "execution_count": 148,
   "metadata": {},
   "outputs": [
    {
     "name": "stdout",
     "output_type": "stream",
     "text": [
      "TimedeltaIndex(['0 days 00:00:00', '0 days 01:00:00', '0 days 02:00:00',\n",
      "                '0 days 03:00:00', '0 days 04:00:00', '0 days 05:00:00',\n",
      "                '0 days 06:00:00', '0 days 07:00:00', '0 days 08:00:00',\n",
      "                '0 days 09:00:00'],\n",
      "               dtype='timedelta64[ns]', freq='h')\n"
     ]
    },
    {
     "name": "stderr",
     "output_type": "stream",
     "text": [
      "C:\\Users\\sjama\\AppData\\Local\\Temp\\ipykernel_3272\\3148322229.py:2: FutureWarning: 'H' is deprecated and will be removed in a future version, please use 'h' instead.\n",
      "  data = pd.timedelta_range(0, periods=10, freq='H')\n"
     ]
    }
   ],
   "source": [
    "# 10 hour\n",
    "data = pd.timedelta_range(0, periods=10, freq='H')\n",
    "print(data)"
   ]
  },
  {
   "cell_type": "code",
   "execution_count": 149,
   "metadata": {},
   "outputs": [
    {
     "name": "stdout",
     "output_type": "stream",
     "text": [
      "TimedeltaIndex(['0 days 00:00:00', '0 days 02:30:40', '0 days 05:01:20',\n",
      "                '0 days 07:32:00', '0 days 10:02:40', '0 days 12:33:20',\n",
      "                '0 days 15:04:00', '0 days 17:34:40', '0 days 20:05:20'],\n",
      "               dtype='timedelta64[ns]', freq='9040s')\n"
     ]
    },
    {
     "name": "stderr",
     "output_type": "stream",
     "text": [
      "C:\\Users\\sjama\\AppData\\Local\\Temp\\ipykernel_3272\\1597611634.py:2: FutureWarning: 'H' is deprecated and will be removed in a future version, please use 'h' instead.\n",
      "  data = pd.timedelta_range(0, periods=9, freq=\"2H30T40S\")\n",
      "C:\\Users\\sjama\\AppData\\Local\\Temp\\ipykernel_3272\\1597611634.py:2: FutureWarning: 'T' is deprecated and will be removed in a future version, please use 'min' instead.\n",
      "  data = pd.timedelta_range(0, periods=9, freq=\"2H30T40S\")\n",
      "C:\\Users\\sjama\\AppData\\Local\\Temp\\ipykernel_3272\\1597611634.py:2: FutureWarning: 'S' is deprecated and will be removed in a future version, please use 's' instead.\n",
      "  data = pd.timedelta_range(0, periods=9, freq=\"2H30T40S\")\n"
     ]
    }
   ],
   "source": [
    "# Steps by hour, minute and second\n",
    "data = pd.timedelta_range(0, periods=9, freq=\"2H30T40S\")\n",
    "print(data)"
   ]
  },
  {
   "cell_type": "code",
   "execution_count": 150,
   "metadata": {},
   "outputs": [
    {
     "name": "stdout",
     "output_type": "stream",
     "text": [
      "DatetimeIndex(['2018-07-02', '2018-07-03', '2018-07-04', '2018-07-05',\n",
      "               '2018-07-06'],\n",
      "              dtype='datetime64[ns]', freq='B')\n"
     ]
    }
   ],
   "source": [
    "# Days Business\n",
    "from pandas.tseries.offsets import BDay\n",
    "data = pd.date_range('2018-07-01', periods=5, freq=BDay())\n",
    "print(data)"
   ]
  },
  {
   "cell_type": "code",
   "execution_count": 151,
   "metadata": {},
   "outputs": [],
   "source": [
    "# read_csv\n",
    "# df = pd.read_csv('path.csv')\n",
    "# print(df.head())"
   ]
  },
  {
   "cell_type": "code",
   "execution_count": 152,
   "metadata": {},
   "outputs": [],
   "source": [
    "# Start with a specific column\n",
    "# data=pd.read_csv('path.csv', index_col='SepalWidthCm')\n",
    "# print(data)"
   ]
  },
  {
   "cell_type": "code",
   "execution_count": 153,
   "metadata": {},
   "outputs": [
    {
     "name": "stdout",
     "output_type": "stream",
     "text": [
      "   Math  Physics  French  Chemistry\n",
      "a     1        6      11         16\n",
      "b     2        7      12         17\n",
      "c     3        8      13         18\n",
      "d     4        9      14         19\n",
      "e     5       10      15         20\n"
     ]
    }
   ],
   "source": [
    "# save in file\n",
    "w = pd.Series({'a':1 ,'b':2 ,'c':3 ,'d':4 ,'e':5})\n",
    "x = pd.Series({'a':6 ,'b':7 ,'c':8 ,'d':9 ,'e':10})\n",
    "y = pd.Series({'a':11 ,'b':12 ,'c':13 ,'d':14 ,'e':15})\n",
    "z = pd.Series({'a':16 ,'b':17 ,'c':18 ,'d':19 ,'e':20})\n",
    "grades = pd.DataFrame({'Math':w,'Physics':x,'French':y,'Chemistry':z})\n",
    "print(grades)\n",
    "# grades.to_csv('path.csv')"
   ]
  },
  {
   "cell_type": "code",
   "execution_count": 154,
   "metadata": {},
   "outputs": [
    {
     "name": "stdout",
     "output_type": "stream",
     "text": [
      "   Math  Physics  French  Chemistry\n",
      "a     1        6      11         16\n",
      "b     2        7      12         17\n",
      "c     3        8      13         18\n",
      "d     4        9      14         19\n",
      "e     5       10      15         20\n"
     ]
    }
   ],
   "source": [
    "# save in to_excel\n",
    "w = pd.Series({'a':1 ,'b':2 ,'c':3 ,'d':4 ,'e':5})\n",
    "x = pd.Series({'a':6 ,'b':7 ,'c':8 ,'d':9 ,'e':10})\n",
    "y = pd.Series({'a':11 ,'b':12 ,'c':13 ,'d':14 ,'e':15})\n",
    "z = pd.Series({'a':16 ,'b':17 ,'c':18 ,'d':19 ,'e':20})\n",
    "grades = pd.DataFrame({'Math':w,'Physics':x,'French':y,'Chemistry':z})\n",
    "print(grades)\n",
    "# grades.to_excel('path.xls',sheet_name ='Sheet 1')"
   ]
  },
  {
   "cell_type": "code",
   "execution_count": 155,
   "metadata": {},
   "outputs": [],
   "source": [
    "# read_csv and read_excel\n",
    "# grades1 = pd.read_csv('path.csv')\n",
    "# grades2 = pd.read_excel('path.xls')\n",
    "# print(grades1)\n",
    "# print(grades2)"
   ]
  },
  {
   "cell_type": "code",
   "execution_count": 156,
   "metadata": {},
   "outputs": [],
   "source": [
    "# read_csv\n",
    "# filename = 'path.csv'\n",
    "# names = ['a', 'b', 'c', 'd', 'e']\n",
    "# data = read_csv(filename, names=names)\n",
    "# print(data)"
   ]
  },
  {
   "cell_type": "code",
   "execution_count": 157,
   "metadata": {},
   "outputs": [],
   "source": [
    "# filename = \"path.csv\"\n",
    "# names = ['preg', 'plas', 'pres', 'skin', 'test', 'mass', 'pedi', 'age', 'class']\n",
    "# data = read_csv(filename, names=names)\n",
    "# set_option('display.width', 100)\n",
    "# set_option('precision', 3)\n",
    "# description = data.describe()\n",
    "# print(description)"
   ]
  },
  {
   "cell_type": "code",
   "execution_count": 158,
   "metadata": {},
   "outputs": [],
   "source": [
    "# Class Distribution\n",
    "# filename = \"path.csv\"\n",
    "# names = ['preg', 'plas', 'pres', 'skin', 'test', 'mass', 'pedi', 'age', 'class']\n",
    "# data = read_csv(filename, names=names)\n",
    "# class_counts = data.groupby('class').size()\n",
    "# print(class_counts)"
   ]
  },
  {
   "cell_type": "code",
   "execution_count": 159,
   "metadata": {},
   "outputs": [],
   "source": [
    "# correlations\n",
    "# filename = \"path.csv\"\n",
    "# names = ['preg', 'plas', 'pres', 'skin', 'test', 'mass', 'pedi', 'age', 'class']\n",
    "# data = read_csv(filename, names=names)\n",
    "# set_option('display.width', 100)\n",
    "# set_option('precision', 3)\n",
    "# correlations = data.corr(method='pearson')\n",
    "# print(correlations)"
   ]
  },
  {
   "cell_type": "code",
   "execution_count": 160,
   "metadata": {},
   "outputs": [],
   "source": [
    "# skew\n",
    "# filename = \"path.csv\"\n",
    "# names = ['preg', 'plas', 'pres', 'skin', 'test', 'mass', 'pedi', 'age', 'class']\n",
    "# data = read_csv(filename, names=names)\n",
    "# skew = data.skew()\n",
    "# print(skew)"
   ]
  }
 ],
 "metadata": {
  "kernelspec": {
   "display_name": "Python 3",
   "language": "python",
   "name": "python3"
  },
  "language_info": {
   "codemirror_mode": {
    "name": "ipython",
    "version": 3
   },
   "file_extension": ".py",
   "mimetype": "text/x-python",
   "name": "python",
   "nbconvert_exporter": "python",
   "pygments_lexer": "ipython3",
   "version": "3.12.8"
  }
 },
 "nbformat": 4,
 "nbformat_minor": 2
}
