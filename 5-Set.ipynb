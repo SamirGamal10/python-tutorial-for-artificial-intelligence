{
 "cells": [
  {
   "cell_type": "markdown",
   "metadata": {},
   "source": [
    "# lesson 5 Set"
   ]
  },
  {
   "cell_type": "markdown",
   "metadata": {},
   "source": [
    "#  set"
   ]
  },
  {
   "cell_type": "code",
   "execution_count": null,
   "metadata": {},
   "outputs": [
    {
     "name": "stdout",
     "output_type": "stream",
     "text": [
      "{1, 2, 3, 4, 5, 6, 7, 13, 21}\n",
      "{1, 2, 3, 4, 5, 6, 7, 13, 21}\n",
      "{1, 2, 3, 4, 'gamal', 'samir'}\n",
      "{1, 2, 3, 4, 'samir'}\n",
      "<class 'set'>\n",
      "5\n",
      "{1, 2, 3, 4, 5, 6, 7, 'samir', 13, 21}\n",
      "{1, 2, 3, 4, 5, 6, 7, 'samir', 'gamal', 13, 21}\n",
      "{1, 2, 3, 4, 5, 6, 7, 'gamal', 13, 21}\n",
      "{2, 3, 4, 5, 6, 7, 'gamal', 13, 21}\n",
      "{3, 4, 5, 6, 7, 'gamal', 13, 21}\n",
      "set()\n",
      "{1, 2, 3, 'gamal', 'samir', 'hassan'}\n",
      "{1, 2, 3, 'gamal', 'samir', 'hassan'}\n",
      "{'samir'}\n",
      "{1, 2, 3}\n",
      "{'banana', 'cherry', 'google', 'microsoft'}\n",
      "{1, 2, 'gamal', 3, 'hassan'}\n",
      "{1, 2, 3, 4}\n"
     ]
    }
   ],
   "source": [
    "#  set\n",
    "#  Create a Set\n",
    "s={1,2,3,4,5,6,7,21,13}\n",
    "print(s)"
   ]
  },
  {
   "cell_type": "code",
   "execution_count": null,
   "metadata": {},
   "outputs": [],
   "source": [
    "#  Duplicates Not\n",
    "s2={1,2,3,4,5,6,7,21,2,13,4}\n",
    "print(s2)"
   ]
  },
  {
   "cell_type": "code",
   "execution_count": null,
   "metadata": {},
   "outputs": [],
   "source": [
    "#  set can carry differint data type\n",
    "s3={1,2,3,4,'samir','gamal'}\n",
    "print(s3)"
   ]
  },
  {
   "cell_type": "code",
   "execution_count": null,
   "metadata": {},
   "outputs": [],
   "source": [
    "#  Constructor\n",
    "s4=set((1,2,3,4,'samir'))\n",
    "print(s4)\n",
    "print(type(s4))"
   ]
  },
  {
   "cell_type": "code",
   "execution_count": null,
   "metadata": {},
   "outputs": [],
   "source": [
    "#  Length \n",
    "print(len(s4))"
   ]
  },
  {
   "cell_type": "code",
   "execution_count": null,
   "metadata": {},
   "outputs": [],
   "source": [
    "#  add\n",
    "s2.add('samir')\n",
    "print(s2)"
   ]
  },
  {
   "cell_type": "code",
   "execution_count": null,
   "metadata": {},
   "outputs": [],
   "source": [
    "# update\n",
    "s2.update(s3)\n",
    "print(s2)"
   ]
  },
  {
   "cell_type": "code",
   "execution_count": null,
   "metadata": {},
   "outputs": [],
   "source": [
    "#  remove\n",
    "s2.remove('samir')\n",
    "print(s2)"
   ]
  },
  {
   "cell_type": "code",
   "execution_count": null,
   "metadata": {},
   "outputs": [],
   "source": [
    "# discard\n",
    "s2.discard(1)\n",
    "print(s2)"
   ]
  },
  {
   "cell_type": "code",
   "execution_count": null,
   "metadata": {},
   "outputs": [],
   "source": [
    "# pop will remove a random item\n",
    "s2.pop()\n",
    "print(s2)"
   ]
  },
  {
   "cell_type": "code",
   "execution_count": null,
   "metadata": {},
   "outputs": [],
   "source": [
    "# clear\n",
    "s2.clear()\n",
    "print(s2)"
   ]
  },
  {
   "cell_type": "code",
   "execution_count": null,
   "metadata": {},
   "outputs": [],
   "source": [
    "#  Join Sets\n",
    "#     |\n",
    "setOne={1,2,3,'samir'}\n",
    "setTwo={'samir','gamal','hassan'}\n",
    "allSet=setOne | setTwo\n",
    "print(allSet)"
   ]
  },
  {
   "cell_type": "code",
   "execution_count": null,
   "metadata": {},
   "outputs": [],
   "source": [
    "# union\n",
    "allSet=setOne.union(setTwo)\n",
    "print(allSet)"
   ]
  },
  {
   "cell_type": "code",
   "execution_count": null,
   "metadata": {},
   "outputs": [],
   "source": [
    "#     intersection()\n",
    "print(setOne.intersection(setTwo))"
   ]
  },
  {
   "cell_type": "code",
   "execution_count": null,
   "metadata": {},
   "outputs": [],
   "source": [
    "#     difference()\n",
    "print(setOne.difference(setTwo))"
   ]
  },
  {
   "cell_type": "code",
   "execution_count": null,
   "metadata": {},
   "outputs": [],
   "source": [
    "#     symmetric_difference()\n",
    "set1 = {\"apple\", \"banana\", \"cherry\"}\n",
    "set2 = {\"google\", \"microsoft\", \"apple\"}\n",
    "set1.symmetric_difference_update(set2)\n",
    "print(set1)\n",
    "print(setOne.symmetric_difference(setTwo))"
   ]
  },
  {
   "cell_type": "code",
   "execution_count": null,
   "metadata": {},
   "outputs": [],
   "source": [
    "#  how to transform list to set\n",
    "l=[1,2,3,4,1,2,3]\n",
    "setOfList=set(l)\n",
    "print(setOfList)"
   ]
  }
 ],
 "metadata": {
  "language_info": {
   "name": "python"
  }
 },
 "nbformat": 4,
 "nbformat_minor": 2
}
