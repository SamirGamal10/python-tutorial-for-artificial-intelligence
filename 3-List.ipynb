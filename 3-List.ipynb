{
 "cells": [
  {
   "cell_type": "markdown",
   "metadata": {},
   "source": [
    "# lesson 3 List"
   ]
  },
  {
   "cell_type": "markdown",
   "metadata": {},
   "source": [
    "# list"
   ]
  },
  {
   "cell_type": "code",
   "execution_count": 1,
   "metadata": {},
   "outputs": [],
   "source": [
    "#  list \n",
    "l=[12,13,14,16]"
   ]
  },
  {
   "cell_type": "code",
   "execution_count": 2,
   "metadata": {},
   "outputs": [
    {
     "name": "stdout",
     "output_type": "stream",
     "text": [
      "4\n"
     ]
    }
   ],
   "source": [
    "#  length list\n",
    "print(len(l))"
   ]
  },
  {
   "cell_type": "code",
   "execution_count": 3,
   "metadata": {},
   "outputs": [
    {
     "name": "stdout",
     "output_type": "stream",
     "text": [
      "[1, 2, 3, 4, 5]\n"
     ]
    }
   ],
   "source": [
    "#  Constructor\n",
    "list2=list([1,2,3,4,5])\n",
    "print(list2)"
   ]
  },
  {
   "cell_type": "code",
   "execution_count": 4,
   "metadata": {},
   "outputs": [
    {
     "name": "stdout",
     "output_type": "stream",
     "text": [
      "[12, 13, 14]\n",
      "[16, 14, 13, 12]\n"
     ]
    }
   ],
   "source": [
    "#  Slicing the list\n",
    "print(l[0:3])"
   ]
  },
  {
   "cell_type": "code",
   "execution_count": null,
   "metadata": {},
   "outputs": [],
   "source": [
    "#  Slicing list and step & -1 in list Slicing\n",
    "print(l[::-1])"
   ]
  },
  {
   "cell_type": "code",
   "execution_count": 46,
   "metadata": {},
   "outputs": [
    {
     "name": "stdout",
     "output_type": "stream",
     "text": [
      "[1, 2, 3, 4, 5, 6, 7, 8, 9, 10, 11, 12, 13, 14, 15, 16, 17, 18, 19, 20, 21, 22, 23, 24, 25, 26, 27, 28, 29, 30, 31, 32, 33, 34, 35, 36, 37, 38, 39, 40, 41, 42, 43, 44, 45, 46, 47, 48, 49, 50, 51, 52, 53, 54, 55, 56, 57, 58, 59, 60, 61, 62, 63, 64, 65, 66, 67, 68, 69, 70, 71, 72, 73, 74, 75, 76, 77, 78, 79, 80, 81, 82, 83, 84, 85, 86, 87, 88, 89, 90, 91, 92, 93, 94, 95, 96, 97, 98, 99, 100]\n",
      "[100, 99, 98, 97, 96, 95, 94, 93, 92, 91, 90, 89, 88, 87, 86, 85, 84, 83, 82, 81, 80, 79, 78, 77, 76, 75, 74, 73, 72, 71, 70, 69, 68, 67, 66, 65, 64, 63, 62, 61, 60, 59, 58, 57, 56, 55, 54, 53, 52, 51, 50, 49, 48, 47, 46, 45, 44, 43, 42, 41, 40, 39, 38, 37, 36, 35, 34, 33, 32, 31, 30, 29, 28, 27, 26, 25, 24, 23, 22, 21, 20, 19, 18, 17, 16, 15, 14, 13, 12, 11, 10, 9, 8, 7, 6, 5, 4, 3, 2, 1]\n",
      "['samir', 1, 'gamal', 2]\n",
      "[2, 3, 4, [5, 6, 7, 8]]\n",
      "[2, 3, 'samir', 4, 5, 6, 7, 8]\n",
      "[2, 3, 4, 5, 6, 7, 8]\n",
      "[3, 4, 5, 6, 7]\n",
      "[4, 5, 6, 7]\n",
      "[]\n",
      "and this list after sort [1, 2, 2, 2, 3, 3, 4, 4, 5, 6, 6]\n"
     ]
    }
   ],
   "source": [
    "#  list in range\n",
    "listRange=list((range(1,101)))\n",
    "print(listRange)"
   ]
  },
  {
   "cell_type": "code",
   "execution_count": null,
   "metadata": {},
   "outputs": [],
   "source": [
    "#  how to inverse list\n",
    "print(listRange[::-1])"
   ]
  },
  {
   "cell_type": "code",
   "execution_count": null,
   "metadata": {},
   "outputs": [],
   "source": [
    "#  differint type of data in list\n",
    "newList=['samir',1,'gamal',2]\n",
    "print(newList)"
   ]
  },
  {
   "cell_type": "code",
   "execution_count": 5,
   "metadata": {},
   "outputs": [
    {
     "name": "stdout",
     "output_type": "stream",
     "text": [
      "[2, 3, 4, [5, 6, 7, 8]]\n"
     ]
    }
   ],
   "source": [
    "#  how to add or append to list\n",
    "emptyList=[]\n",
    "emptyList.append(2)\n",
    "emptyList.append(3)\n",
    "emptyList.append(4)\n",
    "emptyList.append([5,6,7,8])\n",
    "print(emptyList)"
   ]
  },
  {
   "cell_type": "code",
   "execution_count": 6,
   "metadata": {},
   "outputs": [
    {
     "name": "stdout",
     "output_type": "stream",
     "text": [
      "[2, 3, 'samir', 4, 5, 6, 7, 8]\n"
     ]
    }
   ],
   "source": [
    "#  extend\n",
    "emptyList2=[]\n",
    "emptyList2.extend([2])\n",
    "emptyList2.extend([3])\n",
    "emptyList2.extend(['samir'])\n",
    "emptyList2.extend([4])\n",
    "emptyList2.extend([5,6,7,8])\n",
    "print(emptyList2)"
   ]
  },
  {
   "cell_type": "code",
   "execution_count": 7,
   "metadata": {},
   "outputs": [
    {
     "name": "stdout",
     "output_type": "stream",
     "text": [
      "[2, 3, 4, 5, 6, 7, 8]\n"
     ]
    }
   ],
   "source": [
    "#  Remove Specified Item & Remove Specified Index\n",
    "emptyList2.remove('samir')\n",
    "print(emptyList2)"
   ]
  },
  {
   "cell_type": "code",
   "execution_count": 8,
   "metadata": {},
   "outputs": [
    {
     "name": "stdout",
     "output_type": "stream",
     "text": [
      "[3, 4, 5, 6, 7]\n",
      "[4, 5, 6, 7]\n",
      "[]\n",
      "and this list after sort [1, 2, 2, 2, 3, 3, 4, 4, 5, 6, 6]\n"
     ]
    }
   ],
   "source": [
    "#  pop\n",
    "emptyList2.pop(0)\n",
    "emptyList2.pop()\n",
    "print(emptyList2)"
   ]
  },
  {
   "cell_type": "code",
   "execution_count": null,
   "metadata": {},
   "outputs": [],
   "source": [
    "# del item\n",
    "del emptyList2[0]\n",
    "print(emptyList2)\n"
   ]
  },
  {
   "cell_type": "code",
   "execution_count": 11,
   "metadata": {},
   "outputs": [
    {
     "ename": "NameError",
     "evalue": "name 'emptyList2' is not defined",
     "output_type": "error",
     "traceback": [
      "\u001b[1;31m---------------------------------------------------------------------------\u001b[0m",
      "\u001b[1;31mNameError\u001b[0m                                 Traceback (most recent call last)",
      "Cell \u001b[1;32mIn[11], line 2\u001b[0m\n\u001b[0;32m      1\u001b[0m \u001b[38;5;66;03m# del List\u001b[39;00m\n\u001b[1;32m----> 2\u001b[0m \u001b[38;5;28;01mdel\u001b[39;00m \u001b[43memptyList2\u001b[49m\n\u001b[0;32m      3\u001b[0m \u001b[38;5;28mprint\u001b[39m(emptyList2[\u001b[38;5;241m0\u001b[39m])\n",
      "\u001b[1;31mNameError\u001b[0m: name 'emptyList2' is not defined"
     ]
    }
   ],
   "source": [
    "# del List\n",
    "del emptyList2"
   ]
  },
  {
   "cell_type": "code",
   "execution_count": null,
   "metadata": {},
   "outputs": [],
   "source": [
    "#  Clear the List\n",
    "emptyList.clear()\n",
    "print(emptyList)"
   ]
  },
  {
   "cell_type": "code",
   "execution_count": null,
   "metadata": {},
   "outputs": [],
   "source": [
    "#  sort list\n",
    "sortList=[6,4,3,2,2,4,5,6,1,2,3]\n",
    "print(f'and this list after sort {sorted(sortList)}')"
   ]
  },
  {
   "cell_type": "code",
   "execution_count": 67,
   "metadata": {},
   "outputs": [
    {
     "name": "stdout",
     "output_type": "stream",
     "text": [
      "3\n",
      "1\n",
      "['a', 'gamal', 'hassan', 'samir']\n",
      "['aa', 'a', 'gamal', 'hassan', 'samir']\n",
      "aa\n",
      "a\n",
      "True\n",
      "True\n"
     ]
    }
   ],
   "source": [
    "#  list method\n",
    "#     count()\tReturns the number of elements with the specified value\n",
    "print(sortList.count(2))"
   ]
  },
  {
   "cell_type": "code",
   "execution_count": null,
   "metadata": {},
   "outputs": [],
   "source": [
    "#     index()\tReturns the index of the first element with the specified value\n",
    "print(sortList.index(2))"
   ]
  },
  {
   "cell_type": "code",
   "execution_count": null,
   "metadata": {},
   "outputs": [],
   "source": [
    "#     reverse()\tReverses the order of the list\n",
    "stringList=['samir','hassan','gamal','a']\n",
    "stringList.reverse()\n",
    "print(stringList)"
   ]
  },
  {
   "cell_type": "code",
   "execution_count": null,
   "metadata": {},
   "outputs": [],
   "source": [
    "#  Insert Items\n",
    "stringList.insert(0,'aa')\n",
    "print(stringList)"
   ]
  },
  {
   "cell_type": "code",
   "execution_count": null,
   "metadata": {},
   "outputs": [],
   "source": [
    "#  Slicing in Slicing \n",
    "print(stringList[0])\n",
    "print(stringList[0][1])"
   ]
  },
  {
   "cell_type": "code",
   "execution_count": null,
   "metadata": {},
   "outputs": [],
   "source": [
    "#  check number or item in list or not\n",
    "print('samir' in stringList)\n",
    "print('bb' not in stringList)"
   ]
  }
 ],
 "metadata": {
  "kernelspec": {
   "display_name": "Python 3",
   "language": "python",
   "name": "python3"
  },
  "language_info": {
   "codemirror_mode": {
    "name": "ipython",
    "version": 3
   },
   "file_extension": ".py",
   "mimetype": "text/x-python",
   "name": "python",
   "nbconvert_exporter": "python",
   "pygments_lexer": "ipython3",
   "version": "3.12.8"
  }
 },
 "nbformat": 4,
 "nbformat_minor": 2
}
