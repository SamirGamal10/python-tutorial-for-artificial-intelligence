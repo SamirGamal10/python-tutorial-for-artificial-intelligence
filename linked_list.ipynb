{
 "cells": [
  {
   "cell_type": "code",
   "execution_count": 17,
   "id": "1da659c3",
   "metadata": {},
   "outputs": [],
   "source": [
    "class Node:\n",
    "    def __init__(self, data):\n",
    "        self.data = data\n",
    "        self.next = None\n",
    "\n",
    "class LinkedList:\n",
    "    def __init__(self):\n",
    "        self.head = None\n",
    "\n",
    "    def append(self, data):\n",
    "        \"\"\"Add a new node to the end of the list\"\"\"\n",
    "        new_node = Node(data)\n",
    "        \n",
    "        # If the list is empty, set the new node as head\n",
    "        if not self.head:\n",
    "            self.head = new_node\n",
    "            return\n",
    "        \n",
    "        # Traverse to the last node\n",
    "        current = self.head\n",
    "        while current.next:\n",
    "            current = current.next\n",
    "        \n",
    "        # Add the new node at the end\n",
    "        current.next = new_node\n",
    "\n",
    "    def prepend(self, data):\n",
    "        \"\"\"Add a new node to the beginning of the list\"\"\"\n",
    "        new_node = Node(data)\n",
    "        new_node.next = self.head\n",
    "        self.head = new_node\n",
    "\n",
    "    def delete(self, data):\n",
    "        \"\"\"Delete the first occurrence of a node with given data\"\"\"\n",
    "        # If list is empty\n",
    "        if not self.head:\n",
    "            return\n",
    "        \n",
    "        # If head node is the one to be deleted\n",
    "        if self.head.data == data:\n",
    "            self.head = self.head.next\n",
    "            return\n",
    "        \n",
    "        # Search for the node to be deleted\n",
    "        current = self.head\n",
    "        while current.next:\n",
    "            if current.next.data == data:\n",
    "                current.next = current.next.next\n",
    "                return\n",
    "            current = current.next\n",
    "\n",
    "    def display(self):\n",
    "        \"\"\"Print all elements in the list\"\"\"\n",
    "        current = self.head\n",
    "        while current:\n",
    "            print(current.data, end=\" -> \")\n",
    "            current = current.next\n",
    "        print(\"None\")\n",
    "\n",
    "    def search(self, data):\n",
    "        \"\"\"Search for a node with given data\"\"\"\n",
    "        current = self.head\n",
    "        while current:\n",
    "            if current.data == data:\n",
    "                return True\n",
    "            current = current.next\n",
    "        return False\n",
    "\n",
    "    def length(self):\n",
    "        \"\"\"Return the length of the list\"\"\"\n",
    "        count = 0\n",
    "        current = self.head\n",
    "        while current:\n",
    "            count += 1\n",
    "            current = current.next\n",
    "        return count"
   ]
  },
  {
   "cell_type": "code",
   "execution_count": 18,
   "id": "16360170",
   "metadata": {},
   "outputs": [],
   "source": [
    "# Create a new LinkedList\n",
    "my_list = LinkedList()"
   ]
  },
  {
   "cell_type": "code",
   "execution_count": 19,
   "id": "6994844b",
   "metadata": {},
   "outputs": [],
   "source": [
    "# Append elements\n",
    "my_list.append(10)\n",
    "my_list.append(20)\n",
    "my_list.append(30)"
   ]
  },
  {
   "cell_type": "code",
   "execution_count": 20,
   "id": "3e202667",
   "metadata": {},
   "outputs": [],
   "source": [
    "# Prepend an element\n",
    "my_list.prepend(5)"
   ]
  },
  {
   "cell_type": "code",
   "execution_count": 21,
   "id": "41f13ebb",
   "metadata": {},
   "outputs": [
    {
     "name": "stdout",
     "output_type": "stream",
     "text": [
      "Initial List:\n",
      "5 -> 10 -> 20 -> 30 -> None\n"
     ]
    }
   ],
   "source": [
    "# Display the list\n",
    "print(\"Initial List:\")\n",
    "my_list.display()"
   ]
  },
  {
   "cell_type": "code",
   "execution_count": 22,
   "id": "c7026906",
   "metadata": {},
   "outputs": [
    {
     "name": "stdout",
     "output_type": "stream",
     "text": [
      "\n",
      "After deleting 20:\n",
      "5 -> 10 -> 30 -> None\n"
     ]
    }
   ],
   "source": [
    "# Delete an element\n",
    "my_list.delete(20)\n",
    "print(\"\\nAfter deleting 20:\")\n",
    "my_list.display()    "
   ]
  },
  {
   "cell_type": "code",
   "execution_count": 23,
   "id": "f724e762",
   "metadata": {},
   "outputs": [
    {
     "name": "stdout",
     "output_type": "stream",
     "text": [
      "\n",
      "Searching for 10: True\n",
      "Searching for 20: False\n"
     ]
    }
   ],
   "source": [
    "# Search for elements\n",
    "print(\"\\nSearching for 10:\", my_list.search(10))\n",
    "print(\"Searching for 20:\", my_list.search(20))"
   ]
  },
  {
   "cell_type": "code",
   "execution_count": 24,
   "id": "2a55788d",
   "metadata": {},
   "outputs": [
    {
     "name": "stdout",
     "output_type": "stream",
     "text": [
      "\n",
      "Length of the list: 3\n"
     ]
    }
   ],
   "source": [
    "# Get length of the list\n",
    "print(\"\\nLength of the list:\", my_list.length())"
   ]
  }
 ],
 "metadata": {
  "kernelspec": {
   "display_name": "Python 3",
   "language": "python",
   "name": "python3"
  },
  "language_info": {
   "codemirror_mode": {
    "name": "ipython",
    "version": 3
   },
   "file_extension": ".py",
   "mimetype": "text/x-python",
   "name": "python",
   "nbconvert_exporter": "python",
   "pygments_lexer": "ipython3",
   "version": "3.13.5"
  }
 },
 "nbformat": 4,
 "nbformat_minor": 5
}
