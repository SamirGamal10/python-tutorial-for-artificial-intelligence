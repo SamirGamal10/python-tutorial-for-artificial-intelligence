{
 "cells": [
  {
   "cell_type": "code",
   "execution_count": 5,
   "id": "83e27749",
   "metadata": {},
   "outputs": [],
   "source": [
    "def sequential_search(arr, target):\n",
    "    \"\"\"\n",
    "    Perform sequential search to find target in the array\n",
    "    Returns the index of the target if found, otherwise -1\n",
    "    \"\"\"\n",
    "    for i in range(len(arr)):\n",
    "        if arr[i] == target:\n",
    "            return i\n",
    "    return -1"
   ]
  },
  {
   "cell_type": "code",
   "execution_count": 6,
   "id": "15c0f235",
   "metadata": {},
   "outputs": [],
   "source": [
    "# Sample list\n",
    "numbers = [10, 25, 5, 40, 15, 30, 20]"
   ]
  },
  {
   "cell_type": "code",
   "execution_count": 7,
   "id": "dc85029a",
   "metadata": {},
   "outputs": [],
   "source": [
    "# Search for different targets\n",
    "targets = [25, 50, 15]"
   ]
  },
  {
   "cell_type": "code",
   "execution_count": 8,
   "id": "35ac10b2",
   "metadata": {},
   "outputs": [
    {
     "name": "stdout",
     "output_type": "stream",
     "text": [
      "25 found at index 1\n",
      "50 not found in the list\n",
      "15 found at index 4\n"
     ]
    }
   ],
   "source": [
    "for target in targets:\n",
    "        result = sequential_search(numbers, target)\n",
    "        if result != -1:\n",
    "            print(f\"{target} found at index {result}\")\n",
    "        else:\n",
    "            print(f\"{target} not found in the list\")"
   ]
  }
 ],
 "metadata": {
  "kernelspec": {
   "display_name": "Python 3",
   "language": "python",
   "name": "python3"
  },
  "language_info": {
   "codemirror_mode": {
    "name": "ipython",
    "version": 3
   },
   "file_extension": ".py",
   "mimetype": "text/x-python",
   "name": "python",
   "nbconvert_exporter": "python",
   "pygments_lexer": "ipython3",
   "version": "3.13.5"
  }
 },
 "nbformat": 4,
 "nbformat_minor": 5
}
